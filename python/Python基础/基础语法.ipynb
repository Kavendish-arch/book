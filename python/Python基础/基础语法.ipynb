{
 "cells": [
  {
   "cell_type": "code",
   "execution_count": null,
   "metadata": {},
   "outputs": [],
   "source": [
    "# 可迭代对象 迭代器 生成器\n",
    "l_data = [1,2,3,4]\n",
    "\n",
    "new_data = iter(l_data)\n",
    "\n",
    "def y_data():\n",
    "    l_data = [1,2,3,4]\n",
    "    for i in l_data:\n",
    "        yield i\n",
    "def x_data():\n",
    "    n = 0\n",
    "    while True:\n",
    "        n = n + 1\n",
    "        yield n\n",
    "print(l_data)\n",
    "print(new_data)\n",
    "ll_data = y_data()\n",
    "l2_data = x_data()"
   ]
  },
  {
   "cell_type": "code",
   "execution_count": null,
   "metadata": {},
   "outputs": [],
   "source": []
  },
  {
   "cell_type": "markdown",
   "metadata": {},
   "source": []
  },
  {
   "cell_type": "code",
   "execution_count": null,
   "metadata": {},
   "outputs": [],
   "source": [
    "print(next(l2_data))"
   ]
  },
  {
   "cell_type": "code",
   "execution_count": null,
   "metadata": {},
   "outputs": [],
   "source": [
    "# Python 多线程"
   ]
  },
  {
   "cell_type": "markdown",
   "metadata": {},
   "source": [
    "### 爬虫"
   ]
  },
  {
   "cell_type": "code",
   "execution_count": null,
   "metadata": {},
   "outputs": [],
   "source": [
    "\"\"\"\n",
    "    爬虫步骤\n",
    "    1. 构建请求头\n",
    "    2. 构建请求参数\n",
    "    3. 访问、请求\n",
    "\"\"\"\n",
    "import requests\n",
    "url = \"\"\n",
    "param = \"\"\n",
    "header = \"\"\n",
    "data = \"\"\n",
    "res = requests.get(url=url, params=param, headers=header)\n",
    "res_post = requests.post(url=url, data=data, headers=header)\n",
    "'''\n",
    "res.text    文本方式\n",
    "res.content 字节码/二进制方式\n",
    "res.json()  json对象方式\n",
    "'''"
   ]
  },
  {
   "cell_type": "code",
   "execution_count": 24,
   "metadata": {},
   "outputs": [],
   "source": [
    "\n",
    "url = \"https://www.baidu.com/s\"\n",
    "header = {\n",
    "    \"User-Agent\": \"Mozilla/5.0 (Windows NT 10.0; Win64; x64) AppleWebKit/537.36 (KHTML, like Gecko) Chrome/96.0.4664.110 Safari/537.36\",\n",
    "    \n",
    "}\n",
    "param = {\n",
    "    \"wd\":'万门大学',\n",
    "}\n",
    "\n",
    "res = requests.get(url=url,params=param, headers=header)\n"
   ]
  },
  {
   "cell_type": "code",
   "execution_count": null,
   "metadata": {},
   "outputs": [],
   "source": [
    "# 爬取结果网页\n",
    "res.encoding = 'utf-8'\n",
    "with open('wanmen.html','a') as add:\n",
    "    add.write(res.text)"
   ]
  },
  {
   "cell_type": "code",
   "execution_count": null,
   "metadata": {},
   "outputs": [],
   "source": [
    "# 今日头条爬取\n",
    "import requests\n",
    "param = {\n",
    "    \"dvpf\": \"pc\",\n",
    "    \"source\": \"input\",\n",
    "    \"keyword\": \"宁波\",\n",
    "    \"page_num\": \"0\",\n",
    "    \"pd\": \"synthesis\",\n",
    "}\n",
    "url = \"https://www.toutiao.com/api/search/content\"\n",
    "header = {\n",
    "    \"User-Agent\": \"Mozilla/5.0 (Windows NT 10.0; Win64; x64) AppleWebKit/537.36 (KHTML, like Gecko) Chrome/96.0.4664.110 Safari/537.36\",\n",
    "}\n",
    "\n",
    "res = requests.get(url=url,params=param, headers=header)\n"
   ]
  },
  {
   "cell_type": "code",
   "execution_count": null,
   "metadata": {},
   "outputs": [],
   "source": [
    "# 结果保存\n",
    "res.encoding = 'utf-8'\n",
    "with open('ningbo.json','a') as add:\n",
    "    add.write(res.text)"
   ]
  },
  {
   "cell_type": "code",
   "execution_count": null,
   "metadata": {},
   "outputs": [],
   "source": [
    "res.json()['data']"
   ]
  },
  {
   "cell_type": "code",
   "execution_count": 25,
   "metadata": {},
   "outputs": [
    {
     "name": "stdout",
     "output_type": "stream",
     "text": [
      "[<a href=\"/\" id=\"result_logo\" onmousedown=\"return c({'fm':'tab','tab':'logo'})\"><img alt=\"到百度首页\" class=\"index-logo-src\" src=\"//www.baidu.com/img/flexible/logo/pc/result.png\" title=\"到百度首页\"/><img alt=\"到百度首页\" class=\"index-logo-srcnew\" src=\"//www.baidu.com/img/flexible/logo/pc/result@2.png\" title=\"到百度首页\"/><img alt=\"到百度首页\" class=\"index-logo-peak\" src=\"//www.baidu.com/img/flexible/logo/pc/peak-result.png\" title=\"到百度首页\"/></a>, <a href=\"javascript:;\" name=\"ime_hw\">手写</a>, <a href=\"javascript:;\" name=\"ime_py\">拼音</a>, <a href=\"javascript:;\" name=\"ime_cl\">关闭</a>, <a class=\"toindex\" href=\"/\">百度首页</a>, <a class=\"pf\" href=\"javascript:;\" name=\"tj_settingicon\">设置<i class=\"c-icon c-icon-triangle-down\"></i></a>, <a class=\"lb\" href=\"https://passport.baidu.com/v2/?login&amp;tpl=mn&amp;u=http%3A%2F%2Fwww.baidu.com%2F\" name=\"tj_login\" onclick=\"return false;\">登录</a>, <a class=\"mnav sp\" href=\"https://voice.baidu.com/act/newpneumonia/newpneumonia/?from=osari_pc_1\" id=\"virus-2020\" name=\"tj_trvirus\">抗击肺炎</a>, <a class=\"mnav\" href=\"http://news.baidu.com\" name=\"tj_trnews\">新闻</a>, <a class=\"mnav\" href=\"https://www.hao123.com\" name=\"tj_trhao123\">hao123</a>, <a class=\"mnav\" href=\"http://map.baidu.com\" name=\"tj_trmap\">地图</a>, <a class=\"mnav\" href=\"http://v.baidu.com\" name=\"tj_trvideo\">视频</a>, <a class=\"mnav\" href=\"http://tieba.baidu.com\" name=\"tj_trtieba\">贴吧</a>, <a class=\"mnav\" href=\"http://xueshu.baidu.com\" name=\"tj_trxueshu\">学术</a>, <a class=\"lb\" href=\"https://passport.baidu.com/v2/?login&amp;tpl=mn&amp;u=http%3A%2F%2Fwww.baidu.com%2F\" name=\"tj_login\" onclick=\"return false;\">登录</a>, <a class=\"pf\" href=\"http://www.baidu.com/gaoji/preferences.html\" name=\"tj_settingicon\">设置</a>, <a class=\"bri\" href=\"http://www.baidu.com/more/\" name=\"tj_briicon\" style=\"display: block;\">更多产品</a>, <a class=\"s-tab-item s-tab-pic\" href=\"http://image.baidu.com/i?tn=baiduimage&amp;ps=1&amp;ct=201326592&amp;lm=-1&amp;cl=2&amp;nc=1&amp;ie=utf-8&amp;dyTabStr=MCwzLDIsNiwxLDQsNSw3LDgsOQ%3D%3D&amp;word=%E4%B8%87%E9%97%A8%E5%A4%A7%E5%AD%A6\" onmousedown=\"return c({'fm':'tab','tab':'pic'})\" wdfield=\"word\">图片</a>, <a class=\"s-tab-item s-tab-video\" href=\"/sf/vsearch?pd=video&amp;tn=vsearch&amp;lid=eef9a4e8009e44b9&amp;ie=utf-8&amp;wd=%E4%B8%87%E9%97%A8%E5%A4%A7%E5%AD%A6&amp;rsv_spt=7&amp;rsv_bp=1&amp;f=8&amp;oq=%E4%B8%87%E9%97%A8%E5%A4%A7%E5%AD%A6&amp;rsv_pq=eef9a4e8009e44b9&amp;rsv_t=1a4aVyhWeK1Wj6D4tIRA2UpOjQezrxfbjSurw%2Bg%2BRzkuRJ5Pera7fNX%2FX5Q\" onmousedown=\"return c({'fm':'tab','tab':'video'})\">视频</a>, <a class=\"s-tab-item s-tab-tieba\" href=\"http://tieba.baidu.com/f?fr=wwwt&amp;ie=utf-8&amp;dyTabStr=MCwzLDIsNiwxLDQsNSw3LDgsOQ%3D%3D&amp;kw=%E4%B8%87%E9%97%A8%E5%A4%A7%E5%AD%A6\" onmousedown=\"return c({'fm':'tab','tab':'tieba'})\" wdfield=\"kw\">贴吧</a>, <a class=\"s-tab-item s-tab-news\" href=\"https://www.baidu.com/s?rtt=1&amp;bsst=1&amp;cl=2&amp;tn=news&amp;ie=utf-8&amp;word=%E4%B8%87%E9%97%A8%E5%A4%A7%E5%AD%A6\" onmousedown=\"return c({'fm':'tab','tab':'news'})\" sync=\"true\" wdfield=\"word\">资讯</a>, <a class=\"s-tab-item s-tab-zhidao\" href=\"http://zhidao.baidu.com/q?ct=17&amp;pn=0&amp;tn=ikaslist&amp;rn=10&amp;fr=wwwt&amp;ie=utf-8&amp;dyTabStr=MCwzLDIsNiwxLDQsNSw3LDgsOQ%3D%3D&amp;word=%E4%B8%87%E9%97%A8%E5%A4%A7%E5%AD%A6\" onmousedown=\"return c({'fm':'tab','tab':'zhidao'})\" wdfield=\"word\">知道</a>, <a class=\"s-tab-item s-tab-wenku\" href=\"http://wenku.baidu.com/search?lm=0&amp;od=0&amp;ie=utf-8&amp;dyTabStr=MCwzLDIsNiwxLDQsNSw3LDgsOQ%3D%3D&amp;word=%E4%B8%87%E9%97%A8%E5%A4%A7%E5%AD%A6\" onmousedown=\"return c({'fm':'tab','tab':'wenku'})\" wdfield=\"word\">文库</a>, <a class=\"s-tab-item s-tab-map\" href=\"https://map.baidu.com/?newmap=1&amp;ie=utf-8&amp;s=s%26wd%3D%E4%B8%87%E9%97%A8%E5%A4%A7%E5%AD%A6\" onmousedown=\"return c({'fm':'tab','tab':'map'})\">地图</a>, <a class=\"s-tab-item s-tab-b2b\" href=\"https://b2b.baidu.com/s?fr=wwwt&amp;q=%E4%B8%87%E9%97%A8%E5%A4%A7%E5%AD%A6\" onmousedown=\"return c({'fm':'tab','tab':'b2b'})\" wdfield=\"q\">采购</a>, <a class=\"s-tab-item s-tab-more\" href=\"http://www.baidu.com/more/\" onmousedown=\"return c({'fm':'tab','tab':'more'})\">更多</a>, <a class=\"cr-title-sub opr-recommends-merge-more-btn opr-recommends-merge-more-btn-new\" data-click=\"{'fm':'beha'}\" href=\"javascript:;\" onclick=\"return false;\">\n",
      "<span>展开</span>\n",
      "<i class=\"c-icon opr-recommends-merge-new-arrow-icon\"></i>\n",
      "</a>, <a class=\"c-img c-img2 c-img-s c-img-radius-large opr-recommends-new-vertical\" href=\"/s?wd=%E6%B2%B3%E5%8D%97%E5%B7%A5%E4%B8%9A%E5%A4%A7%E5%AD%A6%E8%90%A5%E9%94%80%E5%8D%8F%E4%BC%9A&amp;usm=2&amp;ie=utf-8&amp;rsv_cq=&amp;rsv_dl=0_right_recommends_merge_21102&amp;rsv_pq=eef9a4e8009e44b9&amp;oq=%E4%B8%87%E9%97%A8%E5%A4%A7%E5%AD%A6&amp;rsv_t=66b4RJg3UffsViJlFXxsaM%2FbEhkLQL1G95f5Tx%2B8Mu3wyA6y8lGpbLBez1g&amp;euri=3ab2e8de3b694510bc7451f610f8b833\" target=\"_blank\">\n",
      "<span class=\"opr-recommends-img-border-span c-img-radius-large\"></span>\n",
      "<img class=\"c-img c-img2 c-img-radius-large opr-recommends-merge-img\" data-b64-id=\"2552608368_3935767989_58\" data-src=\"https://t10.baidu.com/it/u=2552608368,3935767989&amp;fm=58\"/>\n",
      "</a>, <a class=\"opr-recommends-merge-mask-new c-img-radius-large\" href=\"/s?wd=%E6%B2%B3%E5%8D%97%E5%B7%A5%E4%B8%9A%E5%A4%A7%E5%AD%A6%E8%90%A5%E9%94%80%E5%8D%8F%E4%BC%9A&amp;usm=2&amp;ie=utf-8&amp;rsv_cq=&amp;rsv_dl=0_right_recommends_merge_21102&amp;rsv_pq=eef9a4e8009e44b9&amp;oq=%E4%B8%87%E9%97%A8%E5%A4%A7%E5%AD%A6&amp;rsv_t=6c158QCUy3gBJ2mQHspzpleFkEQamKZ%2BXCHzYElCta7wLu%2BFplfA1tUVsKU&amp;euri=3ab2e8de3b694510bc7451f610f8b833\" target=\"_blank\"></a>, <a class=\"c-font-medium inc_rs_a\" href=\"/s?wd=%E6%B2%B3%E5%8D%97%E5%B7%A5%E4%B8%9A%E5%A4%A7%E5%AD%A6%E8%90%A5%E9%94%80%E5%8D%8F%E4%BC%9A&amp;usm=2&amp;ie=utf-8&amp;rsv_cq=&amp;rsv_dl=0_right_recommends_merge_21102&amp;rsv_pq=eef9a4e8009e44b9&amp;oq=%E4%B8%87%E9%97%A8%E5%A4%A7%E5%AD%A6&amp;rsv_t=a8d2%2FmXYhWvc3gO4QAOT8d5VXaPLyzuY9UgKLhN3Pb0ZOBkLMH91GDoPp50&amp;euri=3ab2e8de3b694510bc7451f610f8b833\" target=\"_blank\" title=\"河南工业大学营销协会\">河南工业大学营销协会</a>, <a class=\"c-img c-img2 c-img-s c-img-radius-large opr-recommends-new-vertical\" href=\"/s?wd=%E9%83%91%E5%B7%9E%E5%B7%A5%E5%95%86%E5%AD%A6%E9%99%A2&amp;usm=2&amp;ie=utf-8&amp;rsv_cq=&amp;rsv_dl=0_right_recommends_merge_21102&amp;rsv_pq=eef9a4e8009e44b9&amp;oq=%E4%B8%87%E9%97%A8%E5%A4%A7%E5%AD%A6&amp;rsv_t=a89fRpgWMujzEJaNCKWUeFc7gfcxMzScfH5Dw9ZU5TaEREO40V%2FcjxD0E6c&amp;euri=b2dd66a6ea18413e8cd5ea997251ea39\" target=\"_blank\">\n",
      "<span class=\"opr-recommends-img-border-span c-img-radius-large\"></span>\n",
      "<img class=\"c-img c-img2 c-img-radius-large opr-recommends-merge-img\" data-b64-id=\"2684299969_1337599149_58\" data-src=\"https://t11.baidu.com/it/u=2684299969,1337599149&amp;fm=58\"/>\n",
      "</a>, <a class=\"opr-recommends-merge-mask-new c-img-radius-large\" href=\"/s?wd=%E9%83%91%E5%B7%9E%E5%B7%A5%E5%95%86%E5%AD%A6%E9%99%A2&amp;usm=2&amp;ie=utf-8&amp;rsv_cq=&amp;rsv_dl=0_right_recommends_merge_21102&amp;rsv_pq=eef9a4e8009e44b9&amp;oq=%E4%B8%87%E9%97%A8%E5%A4%A7%E5%AD%A6&amp;rsv_t=3d71skcCrb3%2FNjALMlaDjpHnSkPJDESa%2B35VhJXYJKneLqmfBoUxbwtXraA&amp;euri=b2dd66a6ea18413e8cd5ea997251ea39\" target=\"_blank\"></a>, <a class=\"c-font-medium inc_rs_a\" href=\"/s?wd=%E9%83%91%E5%B7%9E%E5%B7%A5%E5%95%86%E5%AD%A6%E9%99%A2&amp;usm=2&amp;ie=utf-8&amp;rsv_cq=&amp;rsv_dl=0_right_recommends_merge_21102&amp;rsv_pq=eef9a4e8009e44b9&amp;oq=%E4%B8%87%E9%97%A8%E5%A4%A7%E5%AD%A6&amp;rsv_t=7e26lEc0HOPJ4PHxZ6KLWLKC18DcqufBKV7VC%2FEGrWsSo2hfdr6eVNDIH1o&amp;euri=b2dd66a6ea18413e8cd5ea997251ea39\" target=\"_blank\" title=\"郑州工商学院\">郑州工商学院</a>, <a class=\"c-img c-img2 c-img-s c-img-radius-large opr-recommends-new-vertical\" href=\"/s?wd=%E6%B2%B3%E5%8D%97%E5%B7%A5%E7%A8%8B%E5%AD%A6%E9%99%A2%E8%AE%BA%E5%9D%9B&amp;usm=2&amp;ie=utf-8&amp;rsv_cq=&amp;rsv_dl=0_right_recommends_merge_21102&amp;rsv_pq=eef9a4e8009e44b9&amp;oq=%E4%B8%87%E9%97%A8%E5%A4%A7%E5%AD%A6&amp;rsv_t=1e2bmtfq5aPPqGieqNnnlTdzwdcxl4fL6sE3kvWB3vGeWkiAI%2FLUdnS6F0I&amp;euri=1d2ae2d6be10473790fdf1d896040a49\" target=\"_blank\">\n",
      "<span class=\"opr-recommends-img-border-span c-img-radius-large\"></span>\n",
      "<img class=\"c-img c-img2 c-img-radius-large opr-recommends-merge-img\" data-b64-id=\"3536441_1664889398_58\" data-src=\"https://t12.baidu.com/it/u=3536441,1664889398&amp;fm=58\"/>\n",
      "</a>, <a class=\"opr-recommends-merge-mask-new c-img-radius-large\" href=\"/s?wd=%E6%B2%B3%E5%8D%97%E5%B7%A5%E7%A8%8B%E5%AD%A6%E9%99%A2%E8%AE%BA%E5%9D%9B&amp;usm=2&amp;ie=utf-8&amp;rsv_cq=&amp;rsv_dl=0_right_recommends_merge_21102&amp;rsv_pq=eef9a4e8009e44b9&amp;oq=%E4%B8%87%E9%97%A8%E5%A4%A7%E5%AD%A6&amp;rsv_t=4c0b1pWXvFkP%2B6AFnixIBCvqVkyTtTOK3NapGXcIdrXVqz%2FxZIUfRkpbYys&amp;euri=1d2ae2d6be10473790fdf1d896040a49\" target=\"_blank\"></a>, <a class=\"c-font-medium inc_rs_a\" href=\"/s?wd=%E6%B2%B3%E5%8D%97%E5%B7%A5%E7%A8%8B%E5%AD%A6%E9%99%A2%E8%AE%BA%E5%9D%9B&amp;usm=2&amp;ie=utf-8&amp;rsv_cq=&amp;rsv_dl=0_right_recommends_merge_21102&amp;rsv_pq=eef9a4e8009e44b9&amp;oq=%E4%B8%87%E9%97%A8%E5%A4%A7%E5%AD%A6&amp;rsv_t=48a3rMUx3N0ouvJxdYeAz5WPzPe6%2Fh99THhqQTXUREvbFi4YwjhF6IDRlDE&amp;euri=1d2ae2d6be10473790fdf1d896040a49\" target=\"_blank\" title=\"河南工程学院论坛\">河南工程学院论坛</a>, <a class=\"c-img c-img2 c-img-s c-img-radius-large opr-recommends-new-vertical\" href=\"/s?wd=%E9%83%91%E5%B7%9E%E7%A7%91%E6%8A%80%E5%AD%A6%E9%99%A2&amp;usm=2&amp;ie=utf-8&amp;rsv_cq=&amp;rsv_dl=0_right_recommends_merge_21102&amp;rsv_pq=eef9a4e8009e44b9&amp;oq=%E4%B8%87%E9%97%A8%E5%A4%A7%E5%AD%A6&amp;rsv_t=b53c1V0LOZvOG9OEuJMfFyFRkptFyWUepW1u47vx%2Bq%2Bkv2rcQ7xOL1IENPI&amp;euri=58eaa7f6854f413b9e58fc5211228b14\" target=\"_blank\">\n",
      "<span class=\"opr-recommends-img-border-span c-img-radius-large\"></span>\n",
      "<img class=\"c-img c-img2 c-img-radius-large opr-recommends-merge-img\" data-b64-id=\"300155191_3493119158_58\" data-src=\"https://t11.baidu.com/it/u=300155191,3493119158&amp;fm=58\"/>\n",
      "</a>, <a class=\"opr-recommends-merge-mask-new c-img-radius-large\" href=\"/s?wd=%E9%83%91%E5%B7%9E%E7%A7%91%E6%8A%80%E5%AD%A6%E9%99%A2&amp;usm=2&amp;ie=utf-8&amp;rsv_cq=&amp;rsv_dl=0_right_recommends_merge_21102&amp;rsv_pq=eef9a4e8009e44b9&amp;oq=%E4%B8%87%E9%97%A8%E5%A4%A7%E5%AD%A6&amp;rsv_t=c568gwh58yBYzbBp%2Bba5i14xNfTW6yJosnKncDO5Vp7P%2BdaHXFx1XMJomjc&amp;euri=58eaa7f6854f413b9e58fc5211228b14\" target=\"_blank\"></a>, <a class=\"c-font-medium inc_rs_a\" href=\"/s?wd=%E9%83%91%E5%B7%9E%E7%A7%91%E6%8A%80%E5%AD%A6%E9%99%A2&amp;usm=2&amp;ie=utf-8&amp;rsv_cq=&amp;rsv_dl=0_right_recommends_merge_21102&amp;rsv_pq=eef9a4e8009e44b9&amp;oq=%E4%B8%87%E9%97%A8%E5%A4%A7%E5%AD%A6&amp;rsv_t=a76175S5VD78GtP6sS%2BR5I5fTl4kFp1PcT%2FbmChgx0MXF1uHGVBwaueN86k&amp;euri=58eaa7f6854f413b9e58fc5211228b14\" target=\"_blank\" title=\"郑州科技学院\">郑州科技学院</a>, <a class=\"c-img c-img2 c-img-s c-img-radius-large opr-recommends-new-vertical\" href=\"/s?wd=%E6%B2%B3%E5%8D%97%E7%90%86%E5%B7%A5%E5%A4%A7%E5%AD%A6%E9%AB%98%E8%81%8C%E5%AD%A6%E9%99%A2&amp;usm=2&amp;ie=utf-8&amp;rsv_cq=&amp;rsv_dl=0_right_recommends_merge_21102&amp;rsv_pq=eef9a4e8009e44b9&amp;oq=%E4%B8%87%E9%97%A8%E5%A4%A7%E5%AD%A6&amp;rsv_t=a58eMJx5Br1iEAIQTwt9GcFxhK7DOrkUf%2BgVtjNT%2FqceeJhz%2BSICLMr%2B2VE&amp;euri=9d9e3c8c7ac74398a44a9069fe9a7b8b\" target=\"_blank\">\n",
      "<span class=\"opr-recommends-img-border-span c-img-radius-large\"></span>\n",
      "<img class=\"c-img c-img2 c-img-radius-large opr-recommends-merge-img\" data-b64-id=\"581966801_4198302411_58\" data-src=\"https://t12.baidu.com/it/u=581966801,4198302411&amp;fm=58\"/>\n",
      "</a>, <a class=\"opr-recommends-merge-mask-new c-img-radius-large\" href=\"/s?wd=%E6%B2%B3%E5%8D%97%E7%90%86%E5%B7%A5%E5%A4%A7%E5%AD%A6%E9%AB%98%E8%81%8C%E5%AD%A6%E9%99%A2&amp;usm=2&amp;ie=utf-8&amp;rsv_cq=&amp;rsv_dl=0_right_recommends_merge_21102&amp;rsv_pq=eef9a4e8009e44b9&amp;oq=%E4%B8%87%E9%97%A8%E5%A4%A7%E5%AD%A6&amp;rsv_t=a2ddT6wG2v%2FJP1F4k0dm5BTDX4eITbL3DBXZn3Sosgj7%2FrO3nYUcV6Tifrc&amp;euri=9d9e3c8c7ac74398a44a9069fe9a7b8b\" target=\"_blank\"></a>, <a class=\"c-font-medium inc_rs_a\" href=\"/s?wd=%E6%B2%B3%E5%8D%97%E7%90%86%E5%B7%A5%E5%A4%A7%E5%AD%A6%E9%AB%98%E8%81%8C%E5%AD%A6%E9%99%A2&amp;usm=2&amp;ie=utf-8&amp;rsv_cq=&amp;rsv_dl=0_right_recommends_merge_21102&amp;rsv_pq=eef9a4e8009e44b9&amp;oq=%E4%B8%87%E9%97%A8%E5%A4%A7%E5%AD%A6&amp;rsv_t=3dde2SCU8MkC1hxd7bBIJxPvVtmJLNsFjsLejV%2BnPpcNG%2FAbvMtJhuYti0w&amp;euri=9d9e3c8c7ac74398a44a9069fe9a7b8b\" target=\"_blank\" title=\"河南理工大学高职学院\">河南理工大学高职学院</a>, <a class=\"c-img c-img2 c-img-s c-img-radius-large opr-recommends-new-vertical\" href=\"/s?wd=%E6%B2%B3%E5%8D%97%E5%B7%A5%E7%A8%8B%E5%AD%A6%E9%99%A2%E6%A0%A1%E5%AD%A6%E7%94%9F%E4%BC%9A&amp;usm=2&amp;ie=utf-8&amp;rsv_cq=&amp;rsv_dl=0_right_recommends_merge_21102&amp;rsv_pq=eef9a4e8009e44b9&amp;oq=%E4%B8%87%E9%97%A8%E5%A4%A7%E5%AD%A6&amp;rsv_t=72a2sHRSb3S2iUQGNE6S7kz9HgqC9GIGq9nJ8YRcPjNHYbos1qAfpaCfrp4&amp;euri=0866f04ab09b4ca2bee287846e414eb2\" target=\"_blank\">\n",
      "<span class=\"opr-recommends-img-border-span c-img-radius-large\"></span>\n",
      "<img class=\"c-img c-img2 c-img-radius-large opr-recommends-merge-img\" data-b64-id=\"3432025114_3194348240_58\" data-src=\"https://t11.baidu.com/it/u=3432025114,3194348240&amp;fm=58\"/>\n",
      "</a>, <a class=\"opr-recommends-merge-mask-new c-img-radius-large\" href=\"/s?wd=%E6%B2%B3%E5%8D%97%E5%B7%A5%E7%A8%8B%E5%AD%A6%E9%99%A2%E6%A0%A1%E5%AD%A6%E7%94%9F%E4%BC%9A&amp;usm=2&amp;ie=utf-8&amp;rsv_cq=&amp;rsv_dl=0_right_recommends_merge_21102&amp;rsv_pq=eef9a4e8009e44b9&amp;oq=%E4%B8%87%E9%97%A8%E5%A4%A7%E5%AD%A6&amp;rsv_t=b4c2n8qz3rD1Jruf%2Bmzv2mgQJ7%2FDNABPkkxoTnQWY53v2Ix83L3mcbEivH0&amp;euri=0866f04ab09b4ca2bee287846e414eb2\" target=\"_blank\"></a>, <a class=\"c-font-medium inc_rs_a\" href=\"/s?wd=%E6%B2%B3%E5%8D%97%E5%B7%A5%E7%A8%8B%E5%AD%A6%E9%99%A2%E6%A0%A1%E5%AD%A6%E7%94%9F%E4%BC%9A&amp;usm=2&amp;ie=utf-8&amp;rsv_cq=&amp;rsv_dl=0_right_recommends_merge_21102&amp;rsv_pq=eef9a4e8009e44b9&amp;oq=%E4%B8%87%E9%97%A8%E5%A4%A7%E5%AD%A6&amp;rsv_t=6c93NNV2Mf2Wbza9aSPx2Hkr86w5LvEUq3sJetiYzQdkhTK37cWd8OmUEt0&amp;euri=0866f04ab09b4ca2bee287846e414eb2\" target=\"_blank\" title=\"河南工程学院校学生会\">河南工程学院校学生会</a>, <a class=\"c-img c-img2 c-img-s c-img-radius-large opr-recommends-new-vertical\" href=\"/s?wd=%E9%83%91%E5%B7%9E%E7%90%86%E5%B7%A5%E4%B8%93%E4%BF%AE%E5%AD%A6%E6%A0%A1&amp;usm=2&amp;ie=utf-8&amp;rsv_cq=&amp;rsv_dl=0_right_recommends_merge_21102&amp;rsv_pq=eef9a4e8009e44b9&amp;oq=%E4%B8%87%E9%97%A8%E5%A4%A7%E5%AD%A6&amp;rsv_t=72d9t%2BLdgsHyv850T7CVK1wIbEMosze3dltJhs0CTWc3TlMYsw1fzyDOeJw&amp;euri=311a450247b943b88324c6dbcc12d8ef\" target=\"_blank\">\n",
      "<span class=\"opr-recommends-img-border-span c-img-radius-large\"></span>\n",
      "<img class=\"c-img c-img2 c-img-radius-large opr-recommends-merge-img\" data-b64-id=\"4010764305_933860907_58\" data-src=\"https://t10.baidu.com/it/u=4010764305,933860907&amp;fm=58\"/>\n",
      "</a>, <a class=\"opr-recommends-merge-mask-new c-img-radius-large\" href=\"/s?wd=%E9%83%91%E5%B7%9E%E7%90%86%E5%B7%A5%E4%B8%93%E4%BF%AE%E5%AD%A6%E6%A0%A1&amp;usm=2&amp;ie=utf-8&amp;rsv_cq=&amp;rsv_dl=0_right_recommends_merge_21102&amp;rsv_pq=eef9a4e8009e44b9&amp;oq=%E4%B8%87%E9%97%A8%E5%A4%A7%E5%AD%A6&amp;rsv_t=40e9QrNqc0caLRDLzLeYJr6y7WPKhqw0vQugVFRii4sq6oPhBGvS%2BLW539c&amp;euri=311a450247b943b88324c6dbcc12d8ef\" target=\"_blank\"></a>, <a class=\"c-font-medium inc_rs_a\" href=\"/s?wd=%E9%83%91%E5%B7%9E%E7%90%86%E5%B7%A5%E4%B8%93%E4%BF%AE%E5%AD%A6%E6%A0%A1&amp;usm=2&amp;ie=utf-8&amp;rsv_cq=&amp;rsv_dl=0_right_recommends_merge_21102&amp;rsv_pq=eef9a4e8009e44b9&amp;oq=%E4%B8%87%E9%97%A8%E5%A4%A7%E5%AD%A6&amp;rsv_t=5628sSuLQoLmicEzbeiBuRZ5vE6RYC1CnQKRvDlKFCR1mxv5Ige0HJDnBzM&amp;euri=311a450247b943b88324c6dbcc12d8ef\" target=\"_blank\" title=\"郑州理工专修学校\">郑州理工专修学校</a>, <a class=\"c-img c-img2 c-img-s c-img-radius-large opr-recommends-new-vertical\" href=\"/s?wd=%E9%83%91%E5%B7%9E%E5%A4%A7%E5%AD%A6%E5%95%86%E5%AD%A6%E9%99%A2&amp;usm=2&amp;ie=utf-8&amp;rsv_cq=&amp;rsv_dl=0_right_recommends_merge_21102&amp;rsv_pq=eef9a4e8009e44b9&amp;oq=%E4%B8%87%E9%97%A8%E5%A4%A7%E5%AD%A6&amp;rsv_t=1f16gvCAYzh5%2F8XBulpMbDDEHUctEmEeWEQd3Oc7aq9tQe2Vuf0IOQw%2BgAY&amp;euri=7410814f466642a9b6cab711addcaf4e\" target=\"_blank\">\n",
      "<span class=\"opr-recommends-img-border-span c-img-radius-large\"></span>\n",
      "<img class=\"c-img c-img2 c-img-radius-large opr-recommends-merge-img\" data-b64-id=\"1086919046_196435231_58\" data-src=\"https://t12.baidu.com/it/u=1086919046,196435231&amp;fm=58\"/>\n",
      "</a>, <a class=\"opr-recommends-merge-mask-new c-img-radius-large\" href=\"/s?wd=%E9%83%91%E5%B7%9E%E5%A4%A7%E5%AD%A6%E5%95%86%E5%AD%A6%E9%99%A2&amp;usm=2&amp;ie=utf-8&amp;rsv_cq=&amp;rsv_dl=0_right_recommends_merge_21102&amp;rsv_pq=eef9a4e8009e44b9&amp;oq=%E4%B8%87%E9%97%A8%E5%A4%A7%E5%AD%A6&amp;rsv_t=2fa40Igprth9ZwiH2Pp1hd1fmVlm5ZVPGPeTnkK2CrzUVs6OtRrYT789Ag8&amp;euri=7410814f466642a9b6cab711addcaf4e\" target=\"_blank\"></a>, <a class=\"c-font-medium inc_rs_a\" href=\"/s?wd=%E9%83%91%E5%B7%9E%E5%A4%A7%E5%AD%A6%E5%95%86%E5%AD%A6%E9%99%A2&amp;usm=2&amp;ie=utf-8&amp;rsv_cq=&amp;rsv_dl=0_right_recommends_merge_21102&amp;rsv_pq=eef9a4e8009e44b9&amp;oq=%E4%B8%87%E9%97%A8%E5%A4%A7%E5%AD%A6&amp;rsv_t=261eeAS6LqBxnjn37EsBP%2FMlcQBzEAVzhZMQWDo5MkrHJNI5vtX8JdGK12M&amp;euri=7410814f466642a9b6cab711addcaf4e\" target=\"_blank\" title=\"郑州大学商学院\">郑州大学商学院</a>, <a class=\"c-img c-img2 c-img-s c-img-radius-large opr-recommends-new-vertical\" href=\"/s?wd=%E6%B2%B3%E5%8D%97%E5%A4%A7%E5%AD%A6%E9%83%91%E5%B7%9E%E5%88%86%E6%A0%A1&amp;usm=2&amp;ie=utf-8&amp;rsv_cq=&amp;rsv_dl=0_right_recommends_merge_21102&amp;rsv_pq=eef9a4e8009e44b9&amp;oq=%E4%B8%87%E9%97%A8%E5%A4%A7%E5%AD%A6&amp;rsv_t=c396jFoqfy%2FUQFW1QQ7agWTQA2XTcRpLr29jm9Bk%2BG4io3jtDukBZNAXrcQ&amp;euri=c9d3db1735394ffaba893a09f1b62392\" target=\"_blank\">\n",
      "<span class=\"opr-recommends-img-border-span c-img-radius-large\"></span>\n",
      "<img class=\"c-img c-img2 c-img-radius-large opr-recommends-merge-img\" data-b64-id=\"2286343419_2756806729_58\" data-src=\"https://t10.baidu.com/it/u=2286343419,2756806729&amp;fm=58\"/>\n",
      "</a>, <a class=\"opr-recommends-merge-mask-new c-img-radius-large\" href=\"/s?wd=%E6%B2%B3%E5%8D%97%E5%A4%A7%E5%AD%A6%E9%83%91%E5%B7%9E%E5%88%86%E6%A0%A1&amp;usm=2&amp;ie=utf-8&amp;rsv_cq=&amp;rsv_dl=0_right_recommends_merge_21102&amp;rsv_pq=eef9a4e8009e44b9&amp;oq=%E4%B8%87%E9%97%A8%E5%A4%A7%E5%AD%A6&amp;rsv_t=e27bSAoayz8rQY3VL5%2Fem54FW1bIlOVlIMWuZwb8GDAImDdCG1mkHu1YLOs&amp;euri=c9d3db1735394ffaba893a09f1b62392\" target=\"_blank\"></a>, <a class=\"c-font-medium inc_rs_a\" href=\"/s?wd=%E6%B2%B3%E5%8D%97%E5%A4%A7%E5%AD%A6%E9%83%91%E5%B7%9E%E5%88%86%E6%A0%A1&amp;usm=2&amp;ie=utf-8&amp;rsv_cq=&amp;rsv_dl=0_right_recommends_merge_21102&amp;rsv_pq=eef9a4e8009e44b9&amp;oq=%E4%B8%87%E9%97%A8%E5%A4%A7%E5%AD%A6&amp;rsv_t=31c4AV3XpeeO1rxbHFX8yPrbn7pI1BLZ337OITZ8HEYqYjInGN6fmtmkuxQ&amp;euri=c9d3db1735394ffaba893a09f1b62392\" target=\"_blank\" title=\"河南大学郑州分校\">河南大学郑州分校</a>, <a class=\"c-img c-img2 c-img-s c-img-radius-large opr-recommends-new-vertical\" href=\"/s?wd=%E6%B2%B3%E5%8D%97%E7%A7%91%E6%8A%80%E4%B8%93%E4%BF%AE%E5%AD%A6%E6%A0%A1&amp;usm=2&amp;ie=utf-8&amp;rsv_cq=&amp;rsv_dl=0_right_recommends_merge_21102&amp;rsv_pq=eef9a4e8009e44b9&amp;oq=%E4%B8%87%E9%97%A8%E5%A4%A7%E5%AD%A6&amp;rsv_t=1e14UMR8xc5UBNXedxdadcSwdprLC4sDeuJbMF2SNxqDzKWGHy4EbOrZUXU&amp;euri=7ec9202182214f98ab34b91f283035ae\" target=\"_blank\">\n",
      "<span class=\"opr-recommends-img-border-span c-img-radius-large\"></span>\n",
      "<img class=\"c-img c-img2 c-img-radius-large opr-recommends-merge-img\" data-b64-id=\"665688808_629514810_58\" data-src=\"https://t11.baidu.com/it/u=665688808,629514810&amp;fm=58\"/>\n",
      "</a>, <a class=\"opr-recommends-merge-mask-new c-img-radius-large\" href=\"/s?wd=%E6%B2%B3%E5%8D%97%E7%A7%91%E6%8A%80%E4%B8%93%E4%BF%AE%E5%AD%A6%E6%A0%A1&amp;usm=2&amp;ie=utf-8&amp;rsv_cq=&amp;rsv_dl=0_right_recommends_merge_21102&amp;rsv_pq=eef9a4e8009e44b9&amp;oq=%E4%B8%87%E9%97%A8%E5%A4%A7%E5%AD%A6&amp;rsv_t=97d3FuIKoiKkE625vg%2FLS2UY1M0s1MZZrPq9SILsVFmyjZVPadGrInC9htI&amp;euri=7ec9202182214f98ab34b91f283035ae\" target=\"_blank\"></a>, <a class=\"c-font-medium inc_rs_a\" href=\"/s?wd=%E6%B2%B3%E5%8D%97%E7%A7%91%E6%8A%80%E4%B8%93%E4%BF%AE%E5%AD%A6%E6%A0%A1&amp;usm=2&amp;ie=utf-8&amp;rsv_cq=&amp;rsv_dl=0_right_recommends_merge_21102&amp;rsv_pq=eef9a4e8009e44b9&amp;oq=%E4%B8%87%E9%97%A8%E5%A4%A7%E5%AD%A6&amp;rsv_t=396eweDALL%2Bq9lsg%2FOQH31Hu9NP%2BZdMDK%2BnVSMaM0tYbyfk774SMJFdvApg&amp;euri=7ec9202182214f98ab34b91f283035ae\" target=\"_blank\" title=\"河南科技专修学校\">河南科技专修学校</a>, <a class=\"c-img c-img2 c-img-s c-img-radius-large opr-recommends-new-vertical\" href=\"/s?wd=%E6%B2%B3%E5%8D%97%E5%B7%A5%E5%AD%A6%E9%99%A2&amp;usm=2&amp;ie=utf-8&amp;rsv_cq=&amp;rsv_dl=0_right_recommends_merge_21102&amp;rsv_pq=eef9a4e8009e44b9&amp;oq=%E4%B8%87%E9%97%A8%E5%A4%A7%E5%AD%A6&amp;rsv_t=4fe3Ukg9RdQCYzicSuAkZLDDIA28luTHcjyzTI9v0rCs94MSz%2BgkYDtEs8w&amp;euri=3c449209d2df48438d7774bc8da89420\" target=\"_blank\">\n",
      "<span class=\"opr-recommends-img-border-span c-img-radius-large\"></span>\n",
      "<img class=\"c-img c-img2 c-img-radius-large opr-recommends-merge-img\" data-b64-id=\"2261269398_407986457_58\" data-src=\"https://t10.baidu.com/it/u=2261269398,407986457&amp;fm=58\"/>\n",
      "</a>, <a class=\"opr-recommends-merge-mask-new c-img-radius-large\" href=\"/s?wd=%E6%B2%B3%E5%8D%97%E5%B7%A5%E5%AD%A6%E9%99%A2&amp;usm=2&amp;ie=utf-8&amp;rsv_cq=&amp;rsv_dl=0_right_recommends_merge_21102&amp;rsv_pq=eef9a4e8009e44b9&amp;oq=%E4%B8%87%E9%97%A8%E5%A4%A7%E5%AD%A6&amp;rsv_t=456f0Pq3dCelFD%2BFDUHmcDu6wQw9fD4Jkk%2FUW9c0yF4VVwJoigedWfRdRvk&amp;euri=3c449209d2df48438d7774bc8da89420\" target=\"_blank\"></a>, <a class=\"c-font-medium inc_rs_a\" href=\"/s?wd=%E6%B2%B3%E5%8D%97%E5%B7%A5%E5%AD%A6%E9%99%A2&amp;usm=2&amp;ie=utf-8&amp;rsv_cq=&amp;rsv_dl=0_right_recommends_merge_21102&amp;rsv_pq=eef9a4e8009e44b9&amp;oq=%E4%B8%87%E9%97%A8%E5%A4%A7%E5%AD%A6&amp;rsv_t=38e2giQXlnx5%2FTC2u1harmHBUMQ%2BuDre9g3lzZKzzSW71%2FEVp28pEYoZ%2FH8&amp;euri=3c449209d2df48438d7774bc8da89420\" target=\"_blank\" title=\"河南工学院\">河南工学院</a>, <a class=\"c-img c-img2 c-img-s c-img-radius-large opr-recommends-new-vertical\" href=\"/s?wd=%E7%84%A6%E4%BD%9C%E5%B7%A5%E5%AD%A6%E9%99%A2&amp;usm=2&amp;ie=utf-8&amp;rsv_cq=&amp;rsv_dl=0_right_recommends_merge_21102&amp;rsv_pq=eef9a4e8009e44b9&amp;oq=%E4%B8%87%E9%97%A8%E5%A4%A7%E5%AD%A6&amp;rsv_t=cf84JFdDCMQ6y0ul3vVl7gbT%2BImHQ6Nv00M77Aeun8r2UawAg1mvrlG566k&amp;euri=0665ae6e83364135a0c94243b6ed5294\" target=\"_blank\">\n",
      "<span class=\"opr-recommends-img-border-span c-img-radius-large\"></span>\n",
      "<img class=\"c-img c-img2 c-img-radius-large opr-recommends-merge-img\" data-b64-id=\"1309681780_485846590_58\" data-src=\"https://t11.baidu.com/it/u=1309681780,485846590&amp;fm=58\"/>\n",
      "</a>, <a class=\"opr-recommends-merge-mask-new c-img-radius-large\" href=\"/s?wd=%E7%84%A6%E4%BD%9C%E5%B7%A5%E5%AD%A6%E9%99%A2&amp;usm=2&amp;ie=utf-8&amp;rsv_cq=&amp;rsv_dl=0_right_recommends_merge_21102&amp;rsv_pq=eef9a4e8009e44b9&amp;oq=%E4%B8%87%E9%97%A8%E5%A4%A7%E5%AD%A6&amp;rsv_t=492d6s9Yu1ZGKdH9EinQb36rhxyeBQ0d8XGwSi4mqXIbarc9fPTrbS8BCV4&amp;euri=0665ae6e83364135a0c94243b6ed5294\" target=\"_blank\"></a>, <a class=\"c-font-medium inc_rs_a\" href=\"/s?wd=%E7%84%A6%E4%BD%9C%E5%B7%A5%E5%AD%A6%E9%99%A2&amp;usm=2&amp;ie=utf-8&amp;rsv_cq=&amp;rsv_dl=0_right_recommends_merge_21102&amp;rsv_pq=eef9a4e8009e44b9&amp;oq=%E4%B8%87%E9%97%A8%E5%A4%A7%E5%AD%A6&amp;rsv_t=79dblp1SS1XU2pveSyjixjKHh4nGwLSWfTClIb8Ze2Wa%2FTkSY0gDcXXIE90&amp;euri=0665ae6e83364135a0c94243b6ed5294\" target=\"_blank\" title=\"焦作工学院\">焦作工学院</a>, <a class=\"c-img c-img2 c-img-s c-img-radius-large opr-recommends-new-vertical\" href=\"/s?wd=%E6%B2%B3%E5%8D%97%E5%B8%88%E8%8C%83%E5%A4%A7%E5%AD%A6%E5%95%86%E5%AD%A6%E9%99%A2&amp;usm=2&amp;ie=utf-8&amp;rsv_cq=&amp;rsv_dl=0_right_recommends_merge_21102&amp;rsv_pq=eef9a4e8009e44b9&amp;oq=%E4%B8%87%E9%97%A8%E5%A4%A7%E5%AD%A6&amp;rsv_t=28db%2FcpxdigzR5JQdRSqjjCJiSHOLelb7U5RbCMWABrzmi4OYekdSqviDJ0&amp;euri=704b47fc0711433887b4373de446a430\" target=\"_blank\">\n",
      "                    <span class=\"opr-recommends-img-border-span c-img-radius-large\"></span>\n",
      "                    <img class=\"c-img c-img2 c-img-radius-large opr-recommends-merge-img\" data-img=\"https://t11.baidu.com/it/u=3937632541,2302005414&amp;fm=58\"/>\n",
      "                </a>, <a class=\"opr-recommends-merge-mask-new c-img-radius-large\" href=\"/s?wd=%E6%B2%B3%E5%8D%97%E5%B8%88%E8%8C%83%E5%A4%A7%E5%AD%A6%E5%95%86%E5%AD%A6%E9%99%A2&amp;usm=2&amp;ie=utf-8&amp;rsv_cq=&amp;rsv_dl=0_right_recommends_merge_21102&amp;rsv_pq=eef9a4e8009e44b9&amp;oq=%E4%B8%87%E9%97%A8%E5%A4%A7%E5%AD%A6&amp;rsv_t=b1ectYnp8YrCyVoTY4lXB4OKAs1FCyMA28p1goXQK2pNVcoEYB%2FmzQNrlZs&amp;euri=704b47fc0711433887b4373de446a430\" target=\"_blank\"></a>, <a class=\"c-font-medium inc_rs_a\" href=\"/s?wd=%E6%B2%B3%E5%8D%97%E5%B8%88%E8%8C%83%E5%A4%A7%E5%AD%A6%E5%95%86%E5%AD%A6%E9%99%A2&amp;usm=2&amp;ie=utf-8&amp;rsv_cq=&amp;rsv_dl=0_right_recommends_merge_21102&amp;rsv_pq=eef9a4e8009e44b9&amp;oq=%E4%B8%87%E9%97%A8%E5%A4%A7%E5%AD%A6&amp;rsv_t=ab28Jv7xQ%2FjuBQPYLdW8xr3OD6FG1ib6U2%2FwVa%2BJ%2BUDs17i5Bt%2FUvaA%2BLEE&amp;euri=704b47fc0711433887b4373de446a430\" target=\"_blank\" title=\"河南师范大学商学院\">河南师范大学商学院</a>, <a class=\"c-img c-img2 c-img-s c-img-radius-large opr-recommends-new-vertical\" href=\"/s?wd=%E6%B2%B3%E5%8D%97%E7%9C%81%E7%90%86%E5%B7%A5%E5%AD%A6%E6%A0%A1&amp;usm=2&amp;ie=utf-8&amp;rsv_cq=&amp;rsv_dl=0_right_recommends_merge_21102&amp;rsv_pq=eef9a4e8009e44b9&amp;oq=%E4%B8%87%E9%97%A8%E5%A4%A7%E5%AD%A6&amp;rsv_t=16dbrZ%2Btn1a22POi2r90xaMQzGFQrex0g9ZWLrtai15GQJCME%2BGmMjVG5WU&amp;euri=151d1109ee6c469da548e1240605b34e\" target=\"_blank\">\n",
      "                    <span class=\"opr-recommends-img-border-span c-img-radius-large\"></span>\n",
      "                    <img class=\"c-img c-img2 c-img-radius-large opr-recommends-merge-img\" data-img=\"https://t12.baidu.com/it/u=4265078012,1072496273&amp;fm=58\"/>\n",
      "                </a>, <a class=\"opr-recommends-merge-mask-new c-img-radius-large\" href=\"/s?wd=%E6%B2%B3%E5%8D%97%E7%9C%81%E7%90%86%E5%B7%A5%E5%AD%A6%E6%A0%A1&amp;usm=2&amp;ie=utf-8&amp;rsv_cq=&amp;rsv_dl=0_right_recommends_merge_21102&amp;rsv_pq=eef9a4e8009e44b9&amp;oq=%E4%B8%87%E9%97%A8%E5%A4%A7%E5%AD%A6&amp;rsv_t=82d0JzZdkn6NtKYhyFvFrMjgku1pqLZDE7qoQyseN28mtX1QUVSFe8TSdZk&amp;euri=151d1109ee6c469da548e1240605b34e\" target=\"_blank\"></a>, <a class=\"c-font-medium inc_rs_a\" href=\"/s?wd=%E6%B2%B3%E5%8D%97%E7%9C%81%E7%90%86%E5%B7%A5%E5%AD%A6%E6%A0%A1&amp;usm=2&amp;ie=utf-8&amp;rsv_cq=&amp;rsv_dl=0_right_recommends_merge_21102&amp;rsv_pq=eef9a4e8009e44b9&amp;oq=%E4%B8%87%E9%97%A8%E5%A4%A7%E5%AD%A6&amp;rsv_t=f913OsSd0ibkU5Nrvk%2BWsibOdUIoGGzPJUELnvkuGwB88HOkbiDOPOOs%2FAk&amp;euri=151d1109ee6c469da548e1240605b34e\" target=\"_blank\" title=\"河南省理工学校\">河南省理工学校</a>, <a class=\"c-img c-img2 c-img-s c-img-radius-large opr-recommends-new-vertical\" href=\"/s?wd=%E6%B2%B3%E5%8D%97%E5%B7%A5%E4%B8%9A%E5%A4%A7%E5%AD%A6%E7%AE%A1%E7%90%86%E5%AD%A6%E9%99%A2&amp;usm=2&amp;ie=utf-8&amp;rsv_cq=&amp;rsv_dl=0_right_recommends_merge_21102&amp;rsv_pq=eef9a4e8009e44b9&amp;oq=%E4%B8%87%E9%97%A8%E5%A4%A7%E5%AD%A6&amp;rsv_t=1ed02UHWd2fDs%2BdkQYltqLGBUMbQ658IK%2BtQifE%2Ba6zb4hNaFneMfYrVtCI&amp;euri=9d19d4dfa2984d458d6c8895c088fdba\" target=\"_blank\">\n",
      "                    <span class=\"opr-recommends-img-border-span c-img-radius-large\"></span>\n",
      "                    <img class=\"c-img c-img2 c-img-radius-large opr-recommends-merge-img\" data-img=\"https://t10.baidu.com/it/u=3827343753,2849833871&amp;fm=58\"/>\n",
      "                </a>, <a class=\"opr-recommends-merge-mask-new c-img-radius-large\" href=\"/s?wd=%E6%B2%B3%E5%8D%97%E5%B7%A5%E4%B8%9A%E5%A4%A7%E5%AD%A6%E7%AE%A1%E7%90%86%E5%AD%A6%E9%99%A2&amp;usm=2&amp;ie=utf-8&amp;rsv_cq=&amp;rsv_dl=0_right_recommends_merge_21102&amp;rsv_pq=eef9a4e8009e44b9&amp;oq=%E4%B8%87%E9%97%A8%E5%A4%A7%E5%AD%A6&amp;rsv_t=c66dtAqj%2FrK2l6J0JXlvOzXSNntARQFctkypbsuByQwAvUUO1VQOv7dThRI&amp;euri=9d19d4dfa2984d458d6c8895c088fdba\" target=\"_blank\"></a>, <a class=\"c-font-medium inc_rs_a\" href=\"/s?wd=%E6%B2%B3%E5%8D%97%E5%B7%A5%E4%B8%9A%E5%A4%A7%E5%AD%A6%E7%AE%A1%E7%90%86%E5%AD%A6%E9%99%A2&amp;usm=2&amp;ie=utf-8&amp;rsv_cq=&amp;rsv_dl=0_right_recommends_merge_21102&amp;rsv_pq=eef9a4e8009e44b9&amp;oq=%E4%B8%87%E9%97%A8%E5%A4%A7%E5%AD%A6&amp;rsv_t=0a84J0k9HRuXGZoRbWD7feCKvvlwvnJ2IX4auJ1nGF%2FSnYKlvORwiRTxVvE&amp;euri=9d19d4dfa2984d458d6c8895c088fdba\" target=\"_blank\" title=\"河南工业大学管理学院\">河南工业大学管理学院</a>, <a class=\"c-img c-img2 c-img-s c-img-radius-large opr-recommends-new-vertical\" href=\"/s?wd=%E6%B2%B3%E5%8D%97%E7%A7%91%E6%8A%80%E5%AD%A6%E9%99%A2%E8%89%BA%E6%9C%AF%E5%AD%A6%E9%99%A2&amp;usm=2&amp;ie=utf-8&amp;rsv_cq=&amp;rsv_dl=0_right_recommends_merge_21102&amp;rsv_pq=eef9a4e8009e44b9&amp;oq=%E4%B8%87%E9%97%A8%E5%A4%A7%E5%AD%A6&amp;rsv_t=3410%2FCK78VRAl4fjvKxd8R9OFgNDvq5S5mOC9eb5T3KD3cPd6GjMQbboQa4&amp;euri=1551a2b079354617af0ce513e77ac7a2\" target=\"_blank\">\n",
      "                    <span class=\"opr-recommends-img-border-span c-img-radius-large\"></span>\n",
      "                    <img class=\"c-img c-img2 c-img-radius-large opr-recommends-merge-img\" data-img=\"https://t12.baidu.com/it/u=4110849596,920176978&amp;fm=58\"/>\n",
      "                </a>, <a class=\"opr-recommends-merge-mask-new c-img-radius-large\" href=\"/s?wd=%E6%B2%B3%E5%8D%97%E7%A7%91%E6%8A%80%E5%AD%A6%E9%99%A2%E8%89%BA%E6%9C%AF%E5%AD%A6%E9%99%A2&amp;usm=2&amp;ie=utf-8&amp;rsv_cq=&amp;rsv_dl=0_right_recommends_merge_21102&amp;rsv_pq=eef9a4e8009e44b9&amp;oq=%E4%B8%87%E9%97%A8%E5%A4%A7%E5%AD%A6&amp;rsv_t=eaf7q9akA4Emct1dGHiB%2B8OhdAv2km06EsAm6ett8uP47Pe9mVl25L1gGWs&amp;euri=1551a2b079354617af0ce513e77ac7a2\" target=\"_blank\"></a>, <a class=\"c-font-medium inc_rs_a\" href=\"/s?wd=%E6%B2%B3%E5%8D%97%E7%A7%91%E6%8A%80%E5%AD%A6%E9%99%A2%E8%89%BA%E6%9C%AF%E5%AD%A6%E9%99%A2&amp;usm=2&amp;ie=utf-8&amp;rsv_cq=&amp;rsv_dl=0_right_recommends_merge_21102&amp;rsv_pq=eef9a4e8009e44b9&amp;oq=%E4%B8%87%E9%97%A8%E5%A4%A7%E5%AD%A6&amp;rsv_t=c9a60DWGCuih8czHc2zNxNPZTDbhLYwnFVvvmGKa2xmcLamnbn0ZH1fKKvU&amp;euri=1551a2b079354617af0ce513e77ac7a2\" target=\"_blank\" title=\"河南科技学院艺术学院\">河南科技学院艺术学院</a>, <a class=\"c-color-t opr-toplist1-title_1LgpS\" href=\"https://top.baidu.com/board?platform=pc&amp;sa=pcindex_a_right\" target=\"_blank\"><i class=\"c-icon icon-title_35rjV\"></i><i class=\"c-icon icon-right_1VdTi\"></i></a>, <a class=\"OP_LOG_BTN toplist-refresh-btn_lqkiP c-font-normal\" href=\"javascript:void(0);\" style=\"text-decoration:none;\"><i class=\"c-icon opr-toplist1-hot-refresh-icon_1BrLS\"></i><span class=\"refresh-text_1-d1i\">换一换</span></a>, <a class=\"c-font-medium c-color-t opr-toplist1-subtitle_3FULy\" href=\"/s?wd=%E4%B9%A0%E8%BF%91%E5%B9%B3%E5%8F%91%E8%A1%A82022%E5%B9%B4%E6%96%B0%E5%B9%B4%E8%B4%BA%E8%AF%8D&amp;usm=2&amp;ie=utf-8&amp;rsv_pq=eef9a4e8009e44b9&amp;oq=%E4%B8%87%E9%97%A8%E5%A4%A7%E5%AD%A6&amp;rsv_t=0d1648ZZpfhIYHadNde3zt3os2W9NnxhfiMtXo0bBPF5FvWANYm8uVt2ZEI&amp;rqid=eef9a4e8009e44b9&amp;rsf=e84a10a62c8e104be99d639ed30c66d3_1_10_1&amp;rsv_dl=0_right_fyb_pchot_20811&amp;sa=0_right_fyb_pchot_20811\" target=\"_blank\" title=\"习近平发表2022年新年贺词\">习近平发表2022年新年贺词</a>, <a class=\"c-font-medium c-color-t opr-toplist1-subtitle_3FULy\" href=\"/s?wd=%E4%B8%BD%E6%B1%9F5.5%E7%BA%A7%E5%9C%B0%E9%9C%87%E7%9E%AC%E9%97%B4%3A%E5%B1%8B%E9%A1%B6%E7%93%A6%E7%89%87%E8%A2%AB%E9%9C%87%E8%90%BD&amp;usm=2&amp;ie=utf-8&amp;rsv_pq=eef9a4e8009e44b9&amp;oq=%E4%B8%87%E9%97%A8%E5%A4%A7%E5%AD%A6&amp;rsv_t=0d1648ZZpfhIYHadNde3zt3os2W9NnxhfiMtXo0bBPF5FvWANYm8uVt2ZEI&amp;rqid=eef9a4e8009e44b9&amp;rsf=e84a10a62c8e104be99d639ed30c66d3_1_10_2&amp;rsv_dl=0_right_fyb_pchot_20811&amp;sa=0_right_fyb_pchot_20811\" target=\"_blank\" title=\"丽江5.5级地震瞬间:屋顶瓦片被震落\">丽江5.5级地震瞬间:屋顶瓦片被震落</a>, <a class=\"c-font-medium c-color-t opr-toplist1-subtitle_3FULy\" href=\"/s?wd=%E5%8D%81%E4%B9%9D%E5%B1%8A%E5%85%AD%E4%B8%AD%E5%85%A8%E4%BC%9A%E5%86%B3%E8%AE%AE%E4%B8%AD%E7%9A%8410%E4%B8%AA%E6%98%8E%E7%A1%AE&amp;usm=2&amp;ie=utf-8&amp;rsv_pq=eef9a4e8009e44b9&amp;oq=%E4%B8%87%E9%97%A8%E5%A4%A7%E5%AD%A6&amp;rsv_t=0d1648ZZpfhIYHadNde3zt3os2W9NnxhfiMtXo0bBPF5FvWANYm8uVt2ZEI&amp;rqid=eef9a4e8009e44b9&amp;rsf=e84a10a62c8e104be99d639ed30c66d3_1_10_3&amp;rsv_dl=0_right_fyb_pchot_20811&amp;sa=0_right_fyb_pchot_20811\" target=\"_blank\" title=\"十九届六中全会决议中的10个明确\">十九届六中全会决议中的10个明确</a>, <a class=\"c-font-medium c-color-t opr-toplist1-subtitle_3FULy\" href=\"/s?wd=%E8%A5%BF%E5%AE%89%E9%9B%81%E5%A1%94%E5%8C%BA%E5%A7%94%E4%B9%A6%E8%AE%B0%E8%A2%AB%E5%85%8D%E8%81%8C&amp;usm=2&amp;ie=utf-8&amp;rsv_pq=eef9a4e8009e44b9&amp;oq=%E4%B8%87%E9%97%A8%E5%A4%A7%E5%AD%A6&amp;rsv_t=0d1648ZZpfhIYHadNde3zt3os2W9NnxhfiMtXo0bBPF5FvWANYm8uVt2ZEI&amp;rqid=eef9a4e8009e44b9&amp;rsf=e84a10a62c8e104be99d639ed30c66d3_1_10_4&amp;rsv_dl=0_right_fyb_pchot_20811&amp;sa=0_right_fyb_pchot_20811\" target=\"_blank\" title=\"西安雁塔区委书记被免职\">西安雁塔区委书记被免职</a>, <a class=\"c-font-medium c-color-t opr-toplist1-subtitle_3FULy\" href=\"/s?wd=%E6%A2%85%E8%A5%BF%E6%96%B0%E5%86%A0%E6%A3%80%E6%B5%8B%E5%91%88%E9%98%B3%E6%80%A7&amp;usm=2&amp;ie=utf-8&amp;rsv_pq=eef9a4e8009e44b9&amp;oq=%E4%B8%87%E9%97%A8%E5%A4%A7%E5%AD%A6&amp;rsv_t=0d1648ZZpfhIYHadNde3zt3os2W9NnxhfiMtXo0bBPF5FvWANYm8uVt2ZEI&amp;rqid=eef9a4e8009e44b9&amp;rsf=e84a10a62c8e104be99d639ed30c66d3_1_10_5&amp;rsv_dl=0_right_fyb_pchot_20811&amp;sa=0_right_fyb_pchot_20811\" target=\"_blank\" title=\"梅西新冠检测呈阳性\">梅西新冠检测呈阳性</a>, <a class=\"c-font-medium c-color-t opr-toplist1-subtitle_3FULy\" href=\"/s?wd=%E5%A5%B3%E5%A3%AB%E4%BC%98%E5%85%88%E8%BD%A6%E5%8E%A2%E5%86%85%E5%A5%B3%E5%AD%90%E8%AE%BD%E7%94%B7%E4%B9%98%E5%AE%A2%E4%B8%8D%E8%AE%A9%E5%BA%A7&amp;usm=2&amp;ie=utf-8&amp;rsv_pq=eef9a4e8009e44b9&amp;oq=%E4%B8%87%E9%97%A8%E5%A4%A7%E5%AD%A6&amp;rsv_t=0d1648ZZpfhIYHadNde3zt3os2W9NnxhfiMtXo0bBPF5FvWANYm8uVt2ZEI&amp;rqid=eef9a4e8009e44b9&amp;rsf=e84a10a62c8e104be99d639ed30c66d3_1_10_6&amp;rsv_dl=0_right_fyb_pchot_20811&amp;sa=0_right_fyb_pchot_20811\" target=\"_blank\" title=\"女士优先车厢内女子讽男乘客不让座\">女士优先车厢内女子讽男乘客不让座</a>, <a class=\"c-font-medium c-color-t opr-toplist1-subtitle_3FULy\" href=\"/s?wd=%E8%A5%BF%E5%AE%89%E6%B6%88%E9%98%B2%E8%BE%9F%E8%B0%A3%E4%BF%9D%E5%AE%89%E4%B8%8D%E5%BC%80%E9%97%A8%E8%87%B4%E7%BF%BB%E5%A2%99%E6%95%91%E7%81%AB&amp;usm=2&amp;ie=utf-8&amp;rsv_pq=eef9a4e8009e44b9&amp;oq=%E4%B8%87%E9%97%A8%E5%A4%A7%E5%AD%A6&amp;rsv_t=0d1648ZZpfhIYHadNde3zt3os2W9NnxhfiMtXo0bBPF5FvWANYm8uVt2ZEI&amp;rqid=eef9a4e8009e44b9&amp;rsf=e84a10a62c8e104be99d639ed30c66d3_1_10_7&amp;rsv_dl=0_right_fyb_pchot_20811&amp;sa=0_right_fyb_pchot_20811\" target=\"_blank\" title=\"西安消防辟谣保安不开门致翻墙救火\">西安消防辟谣保安不开门致翻墙救火</a>, <a class=\"c-font-medium c-color-t opr-toplist1-subtitle_3FULy\" href=\"/s?wd=%E4%B8%AD%E5%8D%B0%E5%A3%AB%E5%85%B5%E8%BE%B9%E5%A2%83%E4%BA%92%E8%87%B4%E9%97%AE%E5%80%99%E4%BA%A4%E6%8D%A2%E7%B3%96%E6%9E%9C&amp;usm=2&amp;ie=utf-8&amp;rsv_pq=eef9a4e8009e44b9&amp;oq=%E4%B8%87%E9%97%A8%E5%A4%A7%E5%AD%A6&amp;rsv_t=0d1648ZZpfhIYHadNde3zt3os2W9NnxhfiMtXo0bBPF5FvWANYm8uVt2ZEI&amp;rqid=eef9a4e8009e44b9&amp;rsf=e84a10a62c8e104be99d639ed30c66d3_1_10_8&amp;rsv_dl=0_right_fyb_pchot_20811&amp;sa=0_right_fyb_pchot_20811\" target=\"_blank\" title=\"中印士兵边境互致问候交换糖果\">中印士兵边境互致问候交换糖果</a>, <a class=\"c-font-medium c-color-t opr-toplist1-subtitle_3FULy\" href=\"/s?wd=%23%E4%B8%8D%E8%83%BD%E4%BB%85%E4%BB%A5%E5%87%BA%E8%BD%A8%E4%B8%BA%E7%94%B1%E8%AF%B7%E6%B1%82%E7%A6%BB%E5%A9%9A%23&amp;usm=2&amp;ie=utf-8&amp;rsv_pq=eef9a4e8009e44b9&amp;oq=%E4%B8%87%E9%97%A8%E5%A4%A7%E5%AD%A6&amp;rsv_t=0d1648ZZpfhIYHadNde3zt3os2W9NnxhfiMtXo0bBPF5FvWANYm8uVt2ZEI&amp;rqid=eef9a4e8009e44b9&amp;rsf=e84a10a62c8e104be99d639ed30c66d3_1_10_9&amp;rsv_dl=0_right_fyb_pchot_20811&amp;sa=0_right_fyb_pchot_20811\" target=\"_blank\" title=\"#不能仅以出轨为由请求离婚#\">#不能仅以出轨为由请求离婚#</a>, <a class=\"c-font-medium c-color-t opr-toplist1-subtitle_3FULy\" href=\"/s?wd=%E4%B8%89%E5%8F%AA%E6%9D%BE%E9%BC%A0%E5%B9%BF%E5%91%8A%E5%86%8D%E5%BC%95%E4%BA%89%E8%AE%AE&amp;usm=2&amp;ie=utf-8&amp;rsv_pq=eef9a4e8009e44b9&amp;oq=%E4%B8%87%E9%97%A8%E5%A4%A7%E5%AD%A6&amp;rsv_t=0d1648ZZpfhIYHadNde3zt3os2W9NnxhfiMtXo0bBPF5FvWANYm8uVt2ZEI&amp;rqid=eef9a4e8009e44b9&amp;rsf=e84a10a62c8e104be99d639ed30c66d3_1_10_10&amp;rsv_dl=0_right_fyb_pchot_20811&amp;sa=0_right_fyb_pchot_20811\" target=\"_blank\" title=\"三只松鼠广告再引争议\">三只松鼠广告再引争议</a>, <a class=\"c-font-medium c-color-t opr-toplist1-subtitle_3FULy\" href=\"/s?wd=%E5%9B%9B%E5%B7%9D%E6%B1%9F%E6%B2%B9%E5%8F%91%E7%94%9F%E4%B8%A5%E9%87%8D%E8%BD%A6%E7%A5%B8%E8%87%B48%E6%AD%BB19%E4%BC%A4&amp;usm=2&amp;ie=utf-8&amp;rsv_pq=eef9a4e8009e44b9&amp;oq=%E4%B8%87%E9%97%A8%E5%A4%A7%E5%AD%A6&amp;rsv_t=0d1648ZZpfhIYHadNde3zt3os2W9NnxhfiMtXo0bBPF5FvWANYm8uVt2ZEI&amp;rqid=eef9a4e8009e44b9&amp;rsf=e84a10a62c8e104be99d639ed30c66d3_11_20_11&amp;rsv_dl=0_right_fyb_pchot_20811&amp;sa=0_right_fyb_pchot_20811\" target=\"_blank\" title=\"四川江油发生严重车祸致8死19伤\">四川江油发生严重车祸致8死19伤</a>, <a class=\"c-font-medium c-color-t opr-toplist1-subtitle_3FULy\" href=\"/s?wd=%E4%B8%88%E5%A4%AB%E9%99%AA%E5%AD%95%E5%A6%BB%E5%90%83%E8%90%A5%E5%85%BB%E9%A4%90%E5%8F%8C%E5%8F%8C%E5%90%83%E5%87%BA%E8%83%86%E7%BB%93%E7%9F%B3&amp;usm=2&amp;ie=utf-8&amp;rsv_pq=eef9a4e8009e44b9&amp;oq=%E4%B8%87%E9%97%A8%E5%A4%A7%E5%AD%A6&amp;rsv_t=0d1648ZZpfhIYHadNde3zt3os2W9NnxhfiMtXo0bBPF5FvWANYm8uVt2ZEI&amp;rqid=eef9a4e8009e44b9&amp;rsf=e84a10a62c8e104be99d639ed30c66d3_11_20_12&amp;rsv_dl=0_right_fyb_pchot_20811&amp;sa=0_right_fyb_pchot_20811\" target=\"_blank\" title=\"丈夫陪孕妻吃营养餐双双吃出胆结石\">丈夫陪孕妻吃营养餐双双吃出胆结石</a>, <a class=\"c-font-medium c-color-t opr-toplist1-subtitle_3FULy\" href=\"/s?wd=%E8%A2%81%E6%83%9F%E4%BB%81%E8%A2%AB%E5%8C%BB%E7%94%9F%E5%88%A4%E5%AE%9A%E4%B8%BA%E6%A4%8D%E7%89%A9%E4%BA%BA&amp;usm=2&amp;ie=utf-8&amp;rsv_pq=eef9a4e8009e44b9&amp;oq=%E4%B8%87%E9%97%A8%E5%A4%A7%E5%AD%A6&amp;rsv_t=0d1648ZZpfhIYHadNde3zt3os2W9NnxhfiMtXo0bBPF5FvWANYm8uVt2ZEI&amp;rqid=eef9a4e8009e44b9&amp;rsf=e84a10a62c8e104be99d639ed30c66d3_11_20_13&amp;rsv_dl=0_right_fyb_pchot_20811&amp;sa=0_right_fyb_pchot_20811\" target=\"_blank\" title=\"袁惟仁被医生判定为植物人\">袁惟仁被医生判定为植物人</a>, <a class=\"c-font-medium c-color-t opr-toplist1-subtitle_3FULy\" href=\"/s?wd=%E9%81%AD%E5%A7%90%E5%A4%AB%E6%8A%95%E6%AF%92%E5%A5%B3%E5%AD%A9%E9%9C%80%E8%82%BA%E7%A7%BB%E6%A4%8D%20%E8%B4%B9%E7%94%A8%E7%99%BE%E4%B8%87&amp;usm=2&amp;ie=utf-8&amp;rsv_pq=eef9a4e8009e44b9&amp;oq=%E4%B8%87%E9%97%A8%E5%A4%A7%E5%AD%A6&amp;rsv_t=0d1648ZZpfhIYHadNde3zt3os2W9NnxhfiMtXo0bBPF5FvWANYm8uVt2ZEI&amp;rqid=eef9a4e8009e44b9&amp;rsf=e84a10a62c8e104be99d639ed30c66d3_11_20_14&amp;rsv_dl=0_right_fyb_pchot_20811&amp;sa=0_right_fyb_pchot_20811\" target=\"_blank\" title=\"遭姐夫投毒女孩需肺移植 费用百万\">遭姐夫投毒女孩需肺移植 费用百万</a>, <a class=\"c-font-medium c-color-t opr-toplist1-subtitle_3FULy\" href=\"/s?wd=%E7%94%B7%E5%AD%90%E5%81%9C%E8%BD%A6%E5%A4%9A%E6%AC%A1%E5%A4%B1%E8%B4%A5%E5%BE%92%E6%89%8B%E6%8B%BD%E8%BF%9B%E8%BD%A6%E4%BD%8D&amp;usm=2&amp;ie=utf-8&amp;rsv_pq=eef9a4e8009e44b9&amp;oq=%E4%B8%87%E9%97%A8%E5%A4%A7%E5%AD%A6&amp;rsv_t=0d1648ZZpfhIYHadNde3zt3os2W9NnxhfiMtXo0bBPF5FvWANYm8uVt2ZEI&amp;rqid=eef9a4e8009e44b9&amp;rsf=e84a10a62c8e104be99d639ed30c66d3_11_20_15&amp;rsv_dl=0_right_fyb_pchot_20811&amp;sa=0_right_fyb_pchot_20811\" target=\"_blank\" title=\"男子停车多次失败徒手拽进车位\">男子停车多次失败徒手拽进车位</a>, <a class=\"c-font-medium c-color-t opr-toplist1-subtitle_3FULy\" href=\"/s?wd=%E6%9C%B4%E6%A7%BF%E6%83%A0%E6%96%B0%E4%B9%A6%E6%8F%90%E5%8F%8A%E5%BC%B9%E5%8A%BE%E4%B8%8D%E5%BD%93&amp;usm=2&amp;ie=utf-8&amp;rsv_pq=eef9a4e8009e44b9&amp;oq=%E4%B8%87%E9%97%A8%E5%A4%A7%E5%AD%A6&amp;rsv_t=0d1648ZZpfhIYHadNde3zt3os2W9NnxhfiMtXo0bBPF5FvWANYm8uVt2ZEI&amp;rqid=eef9a4e8009e44b9&amp;rsf=e84a10a62c8e104be99d639ed30c66d3_11_20_16&amp;rsv_dl=0_right_fyb_pchot_20811&amp;sa=0_right_fyb_pchot_20811\" target=\"_blank\" title=\"朴槿惠新书提及弹劾不当\">朴槿惠新书提及弹劾不当</a>, <a class=\"c-font-medium c-color-t opr-toplist1-subtitle_3FULy\" href=\"/s?wd=%E8%A2%AB%E8%BF%AB%E8%B9%AD%E7%83%AD%E7%82%B9%E5%AF%BB%E5%AD%90%E7%9A%84%E5%AE%B6%E9%95%BF&amp;usm=2&amp;ie=utf-8&amp;rsv_pq=eef9a4e8009e44b9&amp;oq=%E4%B8%87%E9%97%A8%E5%A4%A7%E5%AD%A6&amp;rsv_t=0d1648ZZpfhIYHadNde3zt3os2W9NnxhfiMtXo0bBPF5FvWANYm8uVt2ZEI&amp;rqid=eef9a4e8009e44b9&amp;rsf=e84a10a62c8e104be99d639ed30c66d3_11_20_17&amp;rsv_dl=0_right_fyb_pchot_20811&amp;sa=0_right_fyb_pchot_20811\" target=\"_blank\" title=\"被迫“蹭热点”寻子的家长\">被迫“蹭热点”寻子的家长</a>, <a class=\"c-font-medium c-color-t opr-toplist1-subtitle_3FULy\" href=\"/s?wd=%E7%AB%A0%E6%B3%BD%E5%A4%A9%E6%99%92%E4%B8%8E%E5%A5%B3%E5%84%BF%E7%88%AC%E5%B1%B1%E5%90%88%E5%BD%B1&amp;usm=2&amp;ie=utf-8&amp;rsv_pq=eef9a4e8009e44b9&amp;oq=%E4%B8%87%E9%97%A8%E5%A4%A7%E5%AD%A6&amp;rsv_t=0d1648ZZpfhIYHadNde3zt3os2W9NnxhfiMtXo0bBPF5FvWANYm8uVt2ZEI&amp;rqid=eef9a4e8009e44b9&amp;rsf=e84a10a62c8e104be99d639ed30c66d3_11_20_18&amp;rsv_dl=0_right_fyb_pchot_20811&amp;sa=0_right_fyb_pchot_20811\" target=\"_blank\" title=\"章泽天晒与女儿爬山合影\">章泽天晒与女儿爬山合影</a>, <a class=\"c-font-medium c-color-t opr-toplist1-subtitle_3FULy\" href=\"/s?wd=%E5%AE%81%E6%B3%A2%E5%8C%97%E4%BB%91%E4%B8%80%E5%85%AC%E5%8F%B82%E5%A4%A9%E6%8A%A5%E5%91%8A10%E4%BE%8B%E7%A1%AE%E8%AF%8A&amp;usm=2&amp;ie=utf-8&amp;rsv_pq=eef9a4e8009e44b9&amp;oq=%E4%B8%87%E9%97%A8%E5%A4%A7%E5%AD%A6&amp;rsv_t=ef9f6ALU2sYEagmfrEhRR5xyFSiUvETDqOB6DYoNov8aDjvkSmRKjZYOWZk&amp;rqid=eef9a4e8009e44b9&amp;rsf=e84a10a62c8e104be99d639ed30c66d3_11_20_19&amp;rsv_dl=0_right_fyb_pchot_20811&amp;sa=0_right_fyb_pchot_20811\" target=\"_blank\" title=\"宁波北仑一公司2天报告10例确诊\">宁波北仑一公司2天报告10例确诊</a>, <a class=\"c-font-medium c-color-t opr-toplist1-subtitle_3FULy\" href=\"/s?wd=%E6%89%BE%E5%9B%9E%E5%AD%99%E5%8D%93%E7%9A%84%E6%B0%91%E8%AD%A6%E5%8F%88%E6%89%BE%E5%9B%9E%E4%B8%80%E8%A2%AB%E6%8B%90%E4%BA%BA%E5%91%98&amp;usm=2&amp;ie=utf-8&amp;rsv_pq=eef9a4e8009e44b9&amp;oq=%E4%B8%87%E9%97%A8%E5%A4%A7%E5%AD%A6&amp;rsv_t=ef9f6ALU2sYEagmfrEhRR5xyFSiUvETDqOB6DYoNov8aDjvkSmRKjZYOWZk&amp;rqid=eef9a4e8009e44b9&amp;rsf=e84a10a62c8e104be99d639ed30c66d3_11_20_20&amp;rsv_dl=0_right_fyb_pchot_20811&amp;sa=0_right_fyb_pchot_20811\" target=\"_blank\" title=\"找回孙卓的民警又找回一被拐人员\">找回孙卓的民警又找回一被拐人员</a>, <a class=\"c-font-medium c-color-t opr-toplist1-subtitle_3FULy\" href=\"/s?wd=%E5%A4%A7%E8%BF%9E%E5%B8%82%E5%9C%BA%E7%81%AB%E7%81%BE%E8%87%B48%E6%AD%BB%201%E5%90%8D%E6%B6%88%E9%98%B2%E5%91%98%E6%AE%89%E8%81%8C&amp;usm=2&amp;ie=utf-8&amp;rsv_pq=eef9a4e8009e44b9&amp;oq=%E4%B8%87%E9%97%A8%E5%A4%A7%E5%AD%A6&amp;rsv_t=ef9f6ALU2sYEagmfrEhRR5xyFSiUvETDqOB6DYoNov8aDjvkSmRKjZYOWZk&amp;rqid=eef9a4e8009e44b9&amp;rsf=e84a10a62c8e104be99d639ed30c66d3_21_30_21&amp;rsv_dl=0_right_fyb_pchot_20811&amp;sa=0_right_fyb_pchot_20811\" target=\"_blank\" title=\"大连市场火灾致8死 1名消防员殉职\">大连市场火灾致8死 1名消防员殉职</a>, <a class=\"c-font-medium c-color-t opr-toplist1-subtitle_3FULy\" href=\"/s?wd=%E5%BC%A0%E5%BA%AD%E5%A4%AB%E5%A6%87%E7%A4%BE%E4%BA%A4%E5%B9%B3%E5%8F%B0%E8%A2%AB%E7%A6%81%E8%A8%80&amp;usm=2&amp;ie=utf-8&amp;rsv_pq=eef9a4e8009e44b9&amp;oq=%E4%B8%87%E9%97%A8%E5%A4%A7%E5%AD%A6&amp;rsv_t=ef9f6ALU2sYEagmfrEhRR5xyFSiUvETDqOB6DYoNov8aDjvkSmRKjZYOWZk&amp;rqid=eef9a4e8009e44b9&amp;rsf=e84a10a62c8e104be99d639ed30c66d3_21_30_22&amp;rsv_dl=0_right_fyb_pchot_20811&amp;sa=0_right_fyb_pchot_20811\" target=\"_blank\" title=\"张庭夫妇社交平台被禁言\">张庭夫妇社交平台被禁言</a>, <a class=\"c-font-medium c-color-t opr-toplist1-subtitle_3FULy\" href=\"/s?wd=%E9%80%83%E8%8B%B1%E4%B9%B1%E6%B8%AF%E5%88%86%E5%AD%90%E6%9F%93%E4%B8%8A%E5%A5%A5%E5%AF%86%E5%85%8B%E6%88%8E&amp;usm=2&amp;ie=utf-8&amp;rsv_pq=eef9a4e8009e44b9&amp;oq=%E4%B8%87%E9%97%A8%E5%A4%A7%E5%AD%A6&amp;rsv_t=ef9f6ALU2sYEagmfrEhRR5xyFSiUvETDqOB6DYoNov8aDjvkSmRKjZYOWZk&amp;rqid=eef9a4e8009e44b9&amp;rsf=e84a10a62c8e104be99d639ed30c66d3_21_30_23&amp;rsv_dl=0_right_fyb_pchot_20811&amp;sa=0_right_fyb_pchot_20811\" target=\"_blank\" title=\"逃英乱港分子染上奥密克戎\">逃英乱港分子染上奥密克戎</a>, <a class=\"c-font-medium c-color-t opr-toplist1-subtitle_3FULy\" href=\"/s?wd=%E6%B5%99%E6%B1%9F%E6%B0%B8%E5%BA%B7%E8%BF%9B%E5%8F%A3%E7%81%AB%E9%BE%99%E6%9E%9C%E6%A0%B8%E9%85%B8%E5%88%9D%E6%A3%80%E5%BC%B1%E9%98%B3%E6%80%A7&amp;usm=2&amp;ie=utf-8&amp;rsv_pq=eef9a4e8009e44b9&amp;oq=%E4%B8%87%E9%97%A8%E5%A4%A7%E5%AD%A6&amp;rsv_t=ef9f6ALU2sYEagmfrEhRR5xyFSiUvETDqOB6DYoNov8aDjvkSmRKjZYOWZk&amp;rqid=eef9a4e8009e44b9&amp;rsf=e84a10a62c8e104be99d639ed30c66d3_21_30_24&amp;rsv_dl=0_right_fyb_pchot_20811&amp;sa=0_right_fyb_pchot_20811\" target=\"_blank\" title=\"浙江永康进口火龙果核酸初检弱阳性\">浙江永康进口火龙果核酸初检弱阳性</a>, <a class=\"c-font-medium c-color-t opr-toplist1-subtitle_3FULy\" href=\"/s?wd=%E5%8D%B0%E5%B0%BC%E7%AA%81%E7%84%B6%E5%AE%A3%E5%B8%83%E7%A6%81%E6%AD%A2%E7%85%A4%E7%82%AD%E5%87%BA%E5%8F%A31%E4%B8%AA%E6%9C%88&amp;usm=2&amp;ie=utf-8&amp;rsv_pq=eef9a4e8009e44b9&amp;oq=%E4%B8%87%E9%97%A8%E5%A4%A7%E5%AD%A6&amp;rsv_t=ef9f6ALU2sYEagmfrEhRR5xyFSiUvETDqOB6DYoNov8aDjvkSmRKjZYOWZk&amp;rqid=eef9a4e8009e44b9&amp;rsf=e84a10a62c8e104be99d639ed30c66d3_21_30_25&amp;rsv_dl=0_right_fyb_pchot_20811&amp;sa=0_right_fyb_pchot_20811\" target=\"_blank\" title=\"印尼突然宣布禁止煤炭出口1个月\">印尼突然宣布禁止煤炭出口1个月</a>, <a class=\"c-font-medium c-color-t opr-toplist1-subtitle_3FULy\" href=\"/s?wd=%E5%AE%89%E5%BE%BD%E5%A4%B1%E8%81%9424%E5%A4%A9%E5%AD%95%E5%A6%87%E9%81%97%E4%BD%93%E8%A2%AB%E6%89%93%E6%8D%9E%E4%B8%8A%E5%B2%B8&amp;usm=2&amp;ie=utf-8&amp;rsv_pq=eef9a4e8009e44b9&amp;oq=%E4%B8%87%E9%97%A8%E5%A4%A7%E5%AD%A6&amp;rsv_t=ef9f6ALU2sYEagmfrEhRR5xyFSiUvETDqOB6DYoNov8aDjvkSmRKjZYOWZk&amp;rqid=eef9a4e8009e44b9&amp;rsf=e84a10a62c8e104be99d639ed30c66d3_21_30_26&amp;rsv_dl=0_right_fyb_pchot_20811&amp;sa=0_right_fyb_pchot_20811\" target=\"_blank\" title=\"安徽失联24天孕妇遗体被打捞上岸\">安徽失联24天孕妇遗体被打捞上岸</a>, <a class=\"c-font-medium c-color-t opr-toplist1-subtitle_3FULy\" href=\"/s?wd=%E5%BE%B7%E4%BA%91%E7%A4%BE%E5%BC%A0%E4%B9%9D%E5%8D%97%E5%9B%9E%E5%BA%94%E5%89%8D%E5%A6%BB%E6%8E%A7%E8%AF%89&amp;usm=2&amp;ie=utf-8&amp;rsv_pq=eef9a4e8009e44b9&amp;oq=%E4%B8%87%E9%97%A8%E5%A4%A7%E5%AD%A6&amp;rsv_t=ef9f6ALU2sYEagmfrEhRR5xyFSiUvETDqOB6DYoNov8aDjvkSmRKjZYOWZk&amp;rqid=eef9a4e8009e44b9&amp;rsf=e84a10a62c8e104be99d639ed30c66d3_21_30_27&amp;rsv_dl=0_right_fyb_pchot_20811&amp;sa=0_right_fyb_pchot_20811\" target=\"_blank\" title=\"德云社张九南回应前妻控诉\">德云社张九南回应前妻控诉</a>, <a class=\"c-font-medium c-color-t opr-toplist1-subtitle_3FULy\" href=\"/s?wd=12306%E5%B0%86%E5%BB%B6%E9%95%BF%E7%81%AB%E8%BD%A6%E5%94%AE%E7%A5%A8%E6%97%B6%E9%97%B4&amp;usm=2&amp;ie=utf-8&amp;rsv_pq=eef9a4e8009e44b9&amp;oq=%E4%B8%87%E9%97%A8%E5%A4%A7%E5%AD%A6&amp;rsv_t=ef9f6ALU2sYEagmfrEhRR5xyFSiUvETDqOB6DYoNov8aDjvkSmRKjZYOWZk&amp;rqid=eef9a4e8009e44b9&amp;rsf=e84a10a62c8e104be99d639ed30c66d3_21_30_28&amp;rsv_dl=0_right_fyb_pchot_20811&amp;sa=0_right_fyb_pchot_20811\" target=\"_blank\" title=\"12306将延长火车售票时间\">12306将延长火车售票时间</a>, <a class=\"c-font-medium c-color-t opr-toplist1-subtitle_3FULy\" href=\"/s?wd=%E6%B4%9B%E9%98%B3%E9%98%B3%E6%80%A7%E7%97%85%E4%BE%8B%E6%9B%BE%E8%B7%A8%E5%B8%82%E5%8F%82%E5%8A%A0200%E4%BA%BA%E5%A9%9A%E7%A4%BC&amp;usm=2&amp;ie=utf-8&amp;rsv_pq=eef9a4e8009e44b9&amp;oq=%E4%B8%87%E9%97%A8%E5%A4%A7%E5%AD%A6&amp;rsv_t=ef9f6ALU2sYEagmfrEhRR5xyFSiUvETDqOB6DYoNov8aDjvkSmRKjZYOWZk&amp;rqid=eef9a4e8009e44b9&amp;rsf=e84a10a62c8e104be99d639ed30c66d3_21_30_29&amp;rsv_dl=0_right_fyb_pchot_20811&amp;sa=0_right_fyb_pchot_20811\" target=\"_blank\" title=\"洛阳阳性病例曾跨市参加200人婚礼\">洛阳阳性病例曾跨市参加200人婚礼</a>, <a class=\"c-font-medium c-color-t opr-toplist1-subtitle_3FULy\" href=\"/s?wd=%E6%B3%95%E5%9B%BD%E6%96%B0%E5%B9%B4%E7%AC%AC%E4%B8%80%E5%A4%A9847%E8%BE%86%E8%BD%A6%E8%A2%AB%E7%83%A7&amp;usm=2&amp;ie=utf-8&amp;rsv_pq=eef9a4e8009e44b9&amp;oq=%E4%B8%87%E9%97%A8%E5%A4%A7%E5%AD%A6&amp;rsv_t=ef9f6ALU2sYEagmfrEhRR5xyFSiUvETDqOB6DYoNov8aDjvkSmRKjZYOWZk&amp;rqid=eef9a4e8009e44b9&amp;rsf=e84a10a62c8e104be99d639ed30c66d3_21_30_30&amp;rsv_dl=0_right_fyb_pchot_20811&amp;sa=0_right_fyb_pchot_20811\" target=\"_blank\" title=\"法国新年第一天847辆车被烧\">法国新年第一天847辆车被烧</a>, <a data-click=\"{\n",
      "\t\t\t'F':'778317EA',\n",
      "\t\t\t'F1':'9D73F1C4',\n",
      "\t\t\t'F2':'4CA6DDEB',\n",
      "\t\t\t'F3':'54E5243F',\n",
      "\t\t\t'T':'1641134998',\n",
      "\t\t\t\t\t\t'y':'5BFFFCF6'\n",
      "\t\t\t\t\t\t\t\t\t\t\t\t\t,'rsv_gwlink':'1'\n",
      "\t\t\t\t\t\t}\" href=\"http://www.baidu.com/link?url=4BZUWttrTSkhdnhjA_HyM3F0XumYCmZvVJ7qiC0pmMfJ36vWoeIDMkrLI_-7WZaD\" target=\"_blank\"><em>万门大学</em> - 万门好课职场课程-官网首页</a>, <a class=\"OP_LOG_LINK c-text c-text-public c-text-mult c-gap-left-small\" href=\"http://trust.baidu.com/vstar/official/intro?type=gw\" style=\"position: relative;top: -1px;\" target=\"_blank\">官方</a>, <a class=\"c-img c-img3 c-img-radius-large\" href=\"http://www.baidu.com/link?url=4BZUWttrTSkhdnhjA_HyM3F0XumYCmZvVJ7qiC0pmMfJ36vWoeIDMkrLI_-7WZaD\" style=\"height:85px\" target=\"_blank\"><img class=\"c-img c-img3 c-img-radius-large\" src=\"https://t8.baidu.com/it/u=2478022339,2425573943&amp;fm=218&amp;app=126&amp;f=JPEG?w=121&amp;h=75&amp;s=88011F741870EC8C81DD74CA0300F0B2\" style=\"height:85px;\"/><span class=\"c-img-border c-img-radius-large\"></span></a>, <a class=\"c-showurl c-color-gray\" href=\"http://www.baidu.com/link?url=4BZUWttrTSkhdnhjA_HyM3F0XumYCmZvVJ7qiC0pmMfJ36vWoeIDMkrLI_-7WZaD\" style=\"text-decoration:none;position:relative;\" target=\"_blank\">www.wanmen.org/</a>, <a class=\"m c-gap-left c-color-gray kuaizhao snapshoot\" data-click=\"{'rsv_snapshot':'1'}\" href=\"http://cache.baiducontent.com/c?m=ek9JHrtNfTGU_YiFY3BL3Wd5K-3RF43vU3yS5XQ-FT298AGK3ndVktGgkUT9Zwk-eBvy-dotC7I9koXfUzqjSkJj3GllvdlOZmT0O6TpBZ6VmIa0312tNYJHW5FDKa3c&amp;p=85769a479d8519ff57ee967b154493&amp;newp=8a33c64ad4db11a05bef912b170d85231610db2151d6d0116b82c825d7331b001c3bbfb422201600d7ce7a6d05ad4e5ee9f03c763d0923a3dda5c91d9fb4c5747990&amp;s=c9f0f895fb98ab91&amp;user=baidu&amp;fm=sc&amp;query=%CD%F2%C3%C5%B4%F3%D1%A7&amp;qid=eef9a4e8009e44b9&amp;p1=1\" target=\"_blank\">百度快照</a>, <a aria-label=\"万门大学，在线学习服务平台，百度百科\" class=\"\" data-click=\"\" data-showurl-highlight=\"false\" href=\"http://www.baidu.com/link?url=y1UyMI4QQZrM4HKgvax8PhvK-ExDtG_KkdEa5VAm7ti6rOnS--c8rqdTIieUPRSmt6lQpziyoYs-QNJXI-qIAdtnP5ZheHifDpnuqoPz6UvusRGzuustQhHBvz5L1WsezFBV7O_SdteYY2xcE2cJaCVG8wLQOvwlFRDlr8Nn3K_KG1Er9QcLWXmA8i8lsxXCPHRRq20KUxQXUAugpP3v6a\" tabindex=\"0\" target=\"_blank\"><em>万门大学</em> - 百度百科</a>, <a aria-label=\"查看更多内容\" href=\"http://www.baidu.com/link?url=y1UyMI4QQZrM4HKgvax8PhvK-ExDtG_KkdEa5VAm7ti6rOnS--c8rqdTIieUPRSmt6lQpziyoYs-QNJXI-qIAdtnP5ZheHifDpnuqoPz6UvusRGzuustQhHBvz5L1WsezFBV7O_SdteYY2xcE2cJaCVG8wLQOvwlFRDlr8Nn3K_KG1Er9QcLWXmA8i8lsxXCPHRRq20KUxQXUAugpP3v6a\" style=\"color:\" tabindex=\"0\" target=\"_blank\">\n",
      "<div class=\"image-wrapper_39wYE\">\n",
      "<div class=\"c-img c-img-radius-large c-img-s c-img3 compatible_rxApe\">\n",
      "<span class=\"c-img-border c-img-radius-large\"></span>\n",
      "<img alt=\"查看更多内容\" aria-hidden=\"true\" aria-label=\"查看更多内容\" src=\"https://bkimg.cdn.bcebos.com/smart/d058ccbf6c81800a19d83b1cba7b24fa828ba61ee9d9-bkimg-process,v_1,rw_1,rh_1,maxl_300,pad_1\"/>\n",
      "</div>\n",
      "</div>\n",
      "</a>, <a aria-label=\"创办理念\" href=\"http://www.baidu.com/link?url=UDsd2SKMXA3bpWyY4_2wUHEgLqJbCPe3MPfyOlgbmBuB4Onpa6yElRB0s0YDR4WiQ4sTJduqLjzjvioqyzv3HrHy1_aSYid8MrPVTfx_wWH-6znwgyC9vT1YjeOLLCmb5jY4dPNOsrc1fbC_axXi0ve1oTbzT_OOK2VnDTDrwSLxUkrJ1P5HixKpnwxSMtNFAezr4PpAZyorZA1mUoMCR_\" style=\"color:\" tabindex=\"0\" target=\"_blank\">\n",
      "<!--s-text-->\n",
      "                        \n",
      "                        创办理念\n",
      "                    <!--/s-text-->\n",
      "</a>, <a aria-label=\"名字由来\" href=\"http://www.baidu.com/link?url=UDsd2SKMXA3bpWyY4_2wUHEgLqJbCPe3MPfyOlgbmBuB4Onpa6yElRB0s0YDR4WiQ4sTJduqLjzjvioqyzv3HrHy1_aSYid8MrPVTfx_wWH-6znwgyC9vT1YjeOLLCmb5jY4dPNOsrc1fbC_axXi0ve1oTbzT_OOK2VnDTDrwSLxUkrJ1P5HixKpnwxSMtNFHJkOkEElOExtFgM78viUu_\" style=\"color:\" tabindex=\"0\" target=\"_blank\">\n",
      "<!--s-text-->\n",
      "                        \n",
      "                        名字由来\n",
      "                    <!--/s-text-->\n",
      "</a>, <a aria-label=\"创始人\" href=\"http://www.baidu.com/link?url=UDsd2SKMXA3bpWyY4_2wUHEgLqJbCPe3MPfyOlgbmBuB4Onpa6yElRB0s0YDR4WiQ4sTJduqLjzjvioqyzv3HrHy1_aSYid8MrPVTfx_wWH-6znwgyC9vT1YjeOLLCmb5jY4dPNOsrc1fbC_axXi0ve1oTbzT_OOK2VnDTDrwSLxUkrJ1P5HixKpnwxSMtNFb2eXpv1f_Uon70y81biv9K\" style=\"color:\" tabindex=\"0\" target=\"_blank\">\n",
      "<!--s-text-->\n",
      "                        \n",
      "                        创始人\n",
      "                    <!--/s-text-->\n",
      "</a>, <a aria-label=\"发展历史\" href=\"http://www.baidu.com/link?url=UDsd2SKMXA3bpWyY4_2wUHEgLqJbCPe3MPfyOlgbmBuB4Onpa6yElRB0s0YDR4WiQ4sTJduqLjzjvioqyzv3HrHy1_aSYid8MrPVTfx_wWH-6znwgyC9vT1YjeOLLCmb5jY4dPNOsrc1fbC_axXi0ve1oTbzT_OOK2VnDTDrwSLxUkrJ1P5HixKpnwxSMtNFmXTH0IPOQpkwE3N3SAup2a\" style=\"color:\" tabindex=\"0\" target=\"_blank\">\n",
      "<!--s-text-->\n",
      "                        \n",
      "                        发展历史\n",
      "                    <!--/s-text-->\n",
      "</a>, <a aria-label=\"荣获奖项\" href=\"http://www.baidu.com/link?url=UDsd2SKMXA3bpWyY4_2wUHEgLqJbCPe3MPfyOlgbmBuB4Onpa6yElRB0s0YDR4WiQ4sTJduqLjzjvioqyzv3HrHy1_aSYid8MrPVTfx_wWH-6znwgyC9vT1YjeOLLCmb5jY4dPNOsrc1fbC_axXi0ve1oTbzT_OOK2VnDTDrwSLxUkrJ1P5HixKpnwxSMtNF_1JjrJiz8tPnIhzZ7qMqz_\" style=\"color:\" tabindex=\"0\" target=\"_blank\">\n",
      "<!--s-text-->\n",
      "                        \n",
      "                        荣获奖项\n",
      "                    <!--/s-text-->\n",
      "</a>, <a aria-label=\"点击可查看更多内容\" href=\"http://www.baidu.com/link?url=y1UyMI4QQZrM4HKgvax8PhvK-ExDtG_KkdEa5VAm7ti6rOnS--c8rqdTIieUPRSmt6lQpziyoYs-QNJXI-qIAdtnP5ZheHifDpnuqoPz6UvusRGzuustQhHBvz5L1WsezFBV7O_SdteYY2xcE2cJaCVG8wLQOvwlFRDlr8Nn3K_KG1Er9QcLWXmA8i8lsxXCPHRRq20KUxQXUAugpP3v6a\" style=\"color:\" tabindex=\"0\" target=\"_blank\">\n",
      "<!--s-text-->\n",
      "                        \n",
      "                        更多 &gt;\n",
      "                    <!--/s-text-->\n",
      "</a>, <a aria-hidden=\"false\" aria-label=\"百度百科\" class=\"siteLink_9TPP3\" href=\"http://www.baidu.com/link?url=y1UyMI4QQZrM4HKgvax8PhvK-ExDtG_KkdEa5VAm7ti6rOnS--c8rqdTIieUPRSmt6lQpziyoYs-QNJXI-qIAdtnP5ZheHifDpnuqoPz6UvusRGzuustQhHBvz5L1WsezFBV7O_SdteYY2xcE2cJaCVG8wLQOvwlFRDlr8Nn3K_KG1Er9QcLWXmA8i8lsxXCPHRRq20KUxQXUAugpP3v6a\" target=\"_blank\"><div class=\"site-img_aJqZX c-gap-right-xsmall\"><div class=\"image-wrapper_39wYE\">\n",
      "<div class=\"c-img c-img-radius-large c-img-s compatible_rxApe\">\n",
      "<span class=\"c-img-border c-img-radius-large\"></span>\n",
      "<img alt=\"\" aria-hidden=\"false\" aria-label=\"\" src=\"http://baikebcs.bdimg.com/baike-icon.png\"/>\n",
      "</div>\n",
      "</div></div><span aria-hidden=\"true\" class=\"c-color-gray\">百度百科</span></a>, <a data-click=\"{\n",
      "\t\t\t'F':'778317EA',\n",
      "\t\t\t'F1':'9D73F1C4',\n",
      "\t\t\t'F2':'4CA6DE6B',\n",
      "\t\t\t'F3':'54E5243F',\n",
      "\t\t\t'T':'1641134998',\n",
      "\t\t\t\t\t\t'y':'77BFBF99'\n",
      "\t\t\t\t\t\t\t\t\t\t\t\t}\" href=\"http://www.baidu.com/link?url=II_EX6sk0S6Bz9w_ZyBlfyVGQq_PArkkVxHOlVslvIdBj3lkUuBaox6hjbD6CwNgDDHeeWefnqRTFuvGPbwLt_\" target=\"_blank\"><em>万门大学</em>真的假的到底靠不靠谱?<em>万门大学</em>有必要买吗?</a>, <a class=\"c-img c-img3 c-img-radius-large\" href=\"http://www.baidu.com/link?url=II_EX6sk0S6Bz9w_ZyBlfyVGQq_PArkkVxHOlVslvIdBj3lkUuBaox6hjbD6CwNgDDHeeWefnqRTFuvGPbwLt_\" style=\"height:85px\" target=\"_blank\"><img class=\"c-img c-img3 c-img-radius-large\" src=\"https://t7.baidu.com/it/u=1682235716,4086693067&amp;fm=218&amp;app=126&amp;f=JPEG?w=121&amp;h=75&amp;s=9F9265C84EE3BF605A55D80E0100E0D3\" style=\"height:85px;\"/><span class=\"c-img-border c-img-radius-large\"></span></a>, <a class=\"c-showurl c-color-gray\" href=\"http://www.baidu.com/link?url=II_EX6sk0S6Bz9w_ZyBlfyVGQq_PArkkVxHOlVslvIdBj3lkUuBaox6hjbD6CwNgDDHeeWefnqRTFuvGPbwLt_\" style=\"text-decoration:none;position:relative;\" target=\"_blank\">www.jdxzz.com/gkzx/2019/0814/2...</a>, <a class=\"m c-gap-left c-color-gray kuaizhao snapshoot\" data-click=\"{'rsv_snapshot':'1'}\" href=\"http://cache.baiducontent.com/c?m=6Dd7gxEuyORqvrb3Xi2aNWrHL8GCxuAbgUR6fJxse9VHuhCM3hsecY_fLjglrcJn_aP_DpAmejHN4Vgvt9RRkL7McC2Y1i18EIEYDtqXQsm3bkAYNnMq_T54n5u7sB6t36wLiDicieOUG9L9f5WoLq&amp;p=9d77c54ad7c315fc57efdf275443&amp;newp=c4748616d9c159ff57ec942c4c5792695d0fc20e3ad4d201298ffe0cc4241a1a1a3aecbe2524170fd2c07c670baf4c5eeaf536743d0034f1f689df08d2ecce7e37&amp;s=7647966b7343c290&amp;user=baidu&amp;fm=sc&amp;query=%CD%F2%C3%C5%B4%F3%D1%A7&amp;qid=eef9a4e8009e44b9&amp;p1=3\" target=\"_blank\">百度快照</a>, <a data-click=\"{\n",
      "\t\t\t'F':'778317EA',\n",
      "\t\t\t'F1':'9D73F1C4',\n",
      "\t\t\t'F2':'4CA6DE6B',\n",
      "\t\t\t'F3':'54E5243F',\n",
      "\t\t\t'T':'1641134998',\n",
      "\t\t\t\t\t\t'y':'CBBFE74D'\n",
      "\t\t\t\t\t\t\t\t\t\t\t\t}\" href=\"http://www.baidu.com/link?url=WTW69f4R4sh51jEoRDiSoO5Jg0hDW-Kg30em333goz2HxeE6BRgCr1Vj8c9qBpGRGZqtJL-bEAOHr-TLOvDH5q\" target=\"_blank\"><em>万门大学</em> - 知乎</a>, <a class=\"c-img c-img3 c-img-radius-large\" href=\"http://www.baidu.com/link?url=WTW69f4R4sh51jEoRDiSoO5Jg0hDW-Kg30em333goz2HxeE6BRgCr1Vj8c9qBpGRGZqtJL-bEAOHr-TLOvDH5q\" style=\"height:85px\" target=\"_blank\"><img class=\"c-img c-img3 c-img-radius-large\" src=\"https://t9.baidu.com/it/u=776743493,3300464844&amp;fm=218&amp;app=126&amp;f=JPEG?w=121&amp;h=75&amp;s=C8038A56468753E1671374DC030010AA\" style=\"height:85px;\"/><span class=\"c-img-border c-img-radius-large\"></span></a>, <a class=\"c-showurl c-color-gray\" href=\"http://www.baidu.com/link?url=WTW69f4R4sh51jEoRDiSoO5Jg0hDW-Kg30em333goz2HxeE6BRgCr1Vj8c9qBpGRGZqtJL-bEAOHr-TLOvDH5q\" style=\"text-decoration:none;position:relative;\" target=\"_blank\"><div class=\"c-img c-img-circle c-gap-right-xsmall\" style=\"display: inline-block;width: 16px;height: 16px;position: relative;top: 3px;vertical-align:top;\"><span class=\"c-img-border c-img-source-border c-img-radius-large\"></span><img src=\"https://ss0.baidu.com/6ONWsjip0QIZ8tyhnq/it/u=493147230,3096476255&amp;fm=195&amp;app=88&amp;f=JPEG?w=200&amp;h=200\"/></div>知乎</a>, <a class=\"m c-gap-left c-color-gray kuaizhao snapshoot\" data-click=\"{'rsv_snapshot':'1'}\" href=\"http://cache.baiducontent.com/c?m=etf0GE3FRHOd_e6dyx0kPLzbuEOLpeylEPgRldxVhxglxWbj4UmiXaLQWO-tVpqJdwJeNSi78O7mw_2mS4biFtWed_NLo1JXyuSsFZHZKoH4q7gWH_Ev0UrjbY7RtucTKFxm2N97sPDgv6vEdczrIa&amp;p=8b2a975d9f8114dd17bd9b780a49&amp;newp=c0759a43d1d208b90abe9b7c555092695d0fc20e3ad7d101298ffe0cc4241a1a1a3aecbe2524170fd2c07c670baf4c5eeaf536743d0034f1f689df08d2ecce7e3ec13166&amp;s=a87ff679a2f3e71d&amp;user=baidu&amp;fm=sc&amp;query=%CD%F2%C3%C5%B4%F3%D1%A7&amp;qid=eef9a4e8009e44b9&amp;p1=4\" target=\"_blank\">百度快照</a>, <a data-click=\"{\n",
      "\t\t\t'F':'778317EA',\n",
      "\t\t\t'F1':'9D73F1C4',\n",
      "\t\t\t'F2':'4CA6DD6B',\n",
      "\t\t\t'F3':'54E5243F',\n",
      "\t\t\t'T':'1641134998',\n",
      "\t\t\t\t\t\t'y':'B3FFF5EB'\n",
      "\t\t\t\t\t\t\t\t\t\t\t\t}\" href=\"http://www.baidu.com/link?url=luEEmHCCk47hbHywAaBBh6rx4AVywSSbJB4v4QK7WemC5O9EVTGLR-0pTh3NTOqh_8oI8w3DTm5tThBMstOieq\" target=\"_blank\"><em>万门大学</em> - 主页</a>, <a class=\"c-img c-img3 c-img-radius-large\" href=\"http://www.baidu.com/link?url=luEEmHCCk47hbHywAaBBh6rx4AVywSSbJB4v4QK7WemC5O9EVTGLR-0pTh3NTOqh_8oI8w3DTm5tThBMstOieq\" style=\"height:85px\" target=\"_blank\"><img class=\"c-img c-img3 c-img-radius-large\" src=\"https://t7.baidu.com/it/u=2585708180,2414075721&amp;fm=218&amp;app=126&amp;f=JPEG?w=121&amp;h=75&amp;s=94954B7A4403C6F6068B34D00200D09A\" style=\"height:85px;\"/><span class=\"c-img-border c-img-radius-large\"></span></a>, <a class=\"c-showurl c-color-gray\" href=\"http://www.baidu.com/link?url=luEEmHCCk47hbHywAaBBh6rx4AVywSSbJB4v4QK7WemC5O9EVTGLR-0pTh3NTOqh_8oI8w3DTm5tThBMstOieq\" style=\"text-decoration:none;position:relative;\" target=\"_blank\">study.163.com/provider/8473923...</a>, <a class=\"m c-gap-left c-color-gray kuaizhao snapshoot\" data-click=\"{'rsv_snapshot':'1'}\" href=\"http://cache.baiducontent.com/c?m=sH1wQ9gYamUEnR0kYfPejNoSrlwouWbNRV2tq7cJPRRfY6jrxiCq65Od-Ol3gcDSoWKp0TfX1Tl11RThuC_xZxHAWHJIb9hau1DtbiYmbzNebuVtrtib0H8nA2tLijeIStqsvQj5fQ1veN_G2Xzmd_&amp;p=8b2a9700999b1af308e2937f4659&amp;newp=926ede0fa4904ead08e2937f4f4392695d0fc20e39d7c44324b9d71fd325001c1b69e6b92126140fd5cf786506ad4a5ce0f43c78341766dada9fca458ae7c4&amp;s=9a44a78c59bb548f&amp;user=baidu&amp;fm=sc&amp;query=%CD%F2%C3%C5%B4%F3%D1%A7&amp;qid=eef9a4e8009e44b9&amp;p1=5\" target=\"_blank\">百度快照</a>, <a class=\"c-gap-top-xsmall item_3WKCf\" href=\"/s?wd=%E4%B8%87%E9%97%A8%E5%A4%A7%E5%AD%A6app%E4%B8%8B%E8%BD%BD&amp;usm=2&amp;ie=utf-8&amp;rsv_pq=eef9a4e8009e44b9&amp;oq=%E4%B8%87%E9%97%A8%E5%A4%A7%E5%AD%A6&amp;rsv_t=b07dfrOkFrsdOPaCyW3y%2BspvFCyYPlo8ye4mOwGj0gGgGeBGAfO3LmJYDxg&amp;rsf=100631108&amp;rsv_dl=0_prs_28608_1\">万门大学app下载</a>, <a class=\"c-gap-top-xsmall item_3WKCf\" href=\"/s?wd=%E4%B8%87%E9%97%A8%E5%A4%A7%E5%AD%A6%E4%B8%BA%E4%BB%80%E4%B9%88%E4%B8%8B%E6%9E%B6%E4%BA%86&amp;usm=2&amp;ie=utf-8&amp;rsv_pq=eef9a4e8009e44b9&amp;oq=%E4%B8%87%E9%97%A8%E5%A4%A7%E5%AD%A6&amp;rsv_t=b07dfrOkFrsdOPaCyW3y%2BspvFCyYPlo8ye4mOwGj0gGgGeBGAfO3LmJYDxg&amp;rsf=100631115&amp;rsv_dl=0_prs_28608_2\">万门大学为什么下架了</a>, <a class=\"c-gap-top-xsmall item_3WKCf\" href=\"/s?wd=%E4%B8%87%E9%97%A8%E5%A5%BD%E8%AF%BE%E9%AA%97%E5%B1%80&amp;usm=2&amp;ie=utf-8&amp;rsv_pq=eef9a4e8009e44b9&amp;oq=%E4%B8%87%E9%97%A8%E5%A4%A7%E5%AD%A6&amp;rsv_t=b07dfrOkFrsdOPaCyW3y%2BspvFCyYPlo8ye4mOwGj0gGgGeBGAfO3LmJYDxg&amp;rsf=100631115&amp;rsv_dl=0_prs_28608_3\">万门好课骗局</a>, <a class=\"c-gap-top-xsmall item_3WKCf\" href=\"/s?wd=%E4%B8%87%E9%97%A8%E5%A4%A7%E5%AD%A6%E9%9D%A0%E8%B0%B1%E5%90%97%20%E7%9F%A5%E4%B9%8E&amp;usm=2&amp;ie=utf-8&amp;rsv_pq=eef9a4e8009e44b9&amp;oq=%E4%B8%87%E9%97%A8%E5%A4%A7%E5%AD%A6&amp;rsv_t=b07dfrOkFrsdOPaCyW3y%2BspvFCyYPlo8ye4mOwGj0gGgGeBGAfO3LmJYDxg&amp;rsf=100631113&amp;rsv_dl=0_prs_28608_4\">万门大学靠谱吗 知乎</a>, <a class=\"c-gap-top-xsmall item_3WKCf\" href=\"/s?wd=%E4%B8%87%E9%97%A8%E5%A4%A7%E5%AD%A6%E7%BB%88%E8%BA%ABvip%E9%9D%A0%E8%B0%B1%E5%90%97&amp;usm=2&amp;ie=utf-8&amp;rsv_pq=eef9a4e8009e44b9&amp;oq=%E4%B8%87%E9%97%A8%E5%A4%A7%E5%AD%A6&amp;rsv_t=b07dfrOkFrsdOPaCyW3y%2BspvFCyYPlo8ye4mOwGj0gGgGeBGAfO3LmJYDxg&amp;rsf=100631103&amp;rsv_dl=0_prs_28608_5\">万门大学终身vip靠谱吗</a>, <a class=\"c-gap-top-xsmall item_3WKCf\" href=\"/s?wd=%E4%B8%87%E9%97%A8%E5%A4%A7%E5%AD%A6%E5%AE%98%E7%BD%91%E7%BD%91%E9%A1%B5%E7%89%88&amp;usm=2&amp;ie=utf-8&amp;rsv_pq=eef9a4e8009e44b9&amp;oq=%E4%B8%87%E9%97%A8%E5%A4%A7%E5%AD%A6&amp;rsv_t=b07dfrOkFrsdOPaCyW3y%2BspvFCyYPlo8ye4mOwGj0gGgGeBGAfO3LmJYDxg&amp;rsf=100631115&amp;rsv_dl=0_prs_28608_6\">万门大学官网网页版</a>, <a class=\"c-gap-top-xsmall item_3WKCf\" href=\"/s?wd=%E4%B8%87%E9%97%A8%E6%95%99%E8%82%B2%E6%80%8E%E4%B9%88%E6%A0%B7%E9%9D%A0%E8%B0%B1%E5%90%97&amp;usm=2&amp;ie=utf-8&amp;rsv_pq=eef9a4e8009e44b9&amp;oq=%E4%B8%87%E9%97%A8%E5%A4%A7%E5%AD%A6&amp;rsv_t=b07dfrOkFrsdOPaCyW3y%2BspvFCyYPlo8ye4mOwGj0gGgGeBGAfO3LmJYDxg&amp;rsf=100631857&amp;rsv_dl=0_prs_28608_7\">万门教育怎么样靠谱吗</a>, <a class=\"c-gap-top-xsmall item_3WKCf\" href=\"/s?wd=%E4%B8%87%E9%97%A8%E6%95%99%E8%82%B2%E8%B5%84%E9%87%91%E6%96%AD%E4%BA%86&amp;usm=2&amp;ie=utf-8&amp;rsv_pq=eef9a4e8009e44b9&amp;oq=%E4%B8%87%E9%97%A8%E5%A4%A7%E5%AD%A6&amp;rsv_t=b07dfrOkFrsdOPaCyW3y%2BspvFCyYPlo8ye4mOwGj0gGgGeBGAfO3LmJYDxg&amp;rsf=100631103&amp;rsv_dl=0_prs_28608_8\">万门教育资金断了</a>, <a aria-label=\"\" class=\"\" data-click=\"\" data-showurl-highlight=\"false\" href=\"http://www.baidu.com/link?url=ormP6N8qxuUY1L-qhJVLWibIfyF18nbJJZa4xCKZvi8RqjR6HfJKAHUC_nJpxnwfe-ofdmtS0Frf9trwU-XPP807GBCLJdWkMtl2h_N9kZ91UPlLI8s1w2GwZOpUxsW8-FAUVccp833mdAsUKyrp1_DUKmt_PtY3ha9YUh2VcaG\" tabindex=\"0\" target=\"_blank\"><em>万门大学</em>吧 - 百度贴吧</a>, <a class=\"c-img c-img-radius-large\" href=\"http://www.baidu.com/link?url=ormP6N8qxuUY1L-qhJVLWibIfyF18nbJJZa4xCKZvi8RqjR6HfJKAHUC_nJpxnwfe-ofdmtS0Frf9trwU-XPP807GBCLJdWkMtl2h_N9kZ91UPlLI8s1w2GwZOpUxsW8-FAUVccp833mdAsUKyrp1_DUKmt_PtY3ha9YUh2VcaG\" target=\"_blank\"><span class=\"c-img-border c-img-radius-large\"></span><div class=\"image-wrapper_39wYE\">\n",
      "<div class=\"c-img c-img-radius-large c-img-s compatible_rxApe\">\n",
      "<span class=\"c-img-border c-img-radius-large\"></span>\n",
      "<img alt=\"\" aria-hidden=\"false\" aria-label=\"\" src=\"https://imgsrc.baidu.com/forum/pic/item/aec379310a55b319f06664834ea98226cefc17ac.jpg\"/>\n",
      "</div>\n",
      "</div></a>, <a class=\"c-gap-right\" href=\"http://www.baidu.com/link?url=2QJQ63roaIMCRdc6hBgWVyApSoNxBbkaK5_Yq1w-F7hEs2nJbHBoEmRpkeCOwG936LQIIq7DSOB5k3k3P7JH5_35CT3bBWgnzHWV_hGFItdP4EwWvj9jk0ppCLDfhs9b\" target=\"_blank\">万门书单</a>, <a class=\"c-gap-right\" href=\"http://www.baidu.com/link?url=2QJQ63roaIMCRdc6hBgWVyApSoNxBbkaK5_Yq1w-F7hEs2nJbHBoEmRpkeCOwG936LQIIq7DSOB5k3k3P7JH5_35CT3bBWgnzHWV_hGFItcOf71eL9OdDZWmJ9e1EdTw\" target=\"_blank\">万门公开课</a>, <a class=\"c-gap-right\" href=\"http://www.baidu.com/link?url=2QJQ63roaIMCRdc6hBgWVyApSoNxBbkaK5_Yq1w-F7hEs2nJbHBoEmRpkeCOwG936LQIIq7DSOB5k3k3P7JH5_35CT3bBWgnzHWV_hGFItconiJk3vT97WsMvOXdfiX3\" target=\"_blank\">万门讨论区</a>, <a class=\"c-gap-right\" href=\"http://www.baidu.com/link?url=2QJQ63roaIMCRdc6hBgWVyApSoNxBbkaK5_Yq1w-F7hEs2nJbHBoEmRpkeCOwG936LQIIq7DSOB5k3k3P7JH5_35CT3bBWgnzHWV_hGFItaeETJONAyzQoS-MmuYEK3K\" target=\"_blank\">万门资源</a>, <a class=\"c-gap-right\" href=\"http://www.baidu.com/link?url=2QJQ63roaIMCRdc6hBgWVyApSoNxBbkaK5_Yq1w-F7hEs2nJbHBoEmRpkeCOwG936LQIIq7DSOB5k3k3P7JH5_35CT3bBWgnzHWV_hGFItb16r8mD_mIVOKW4oVU98UX\" target=\"_blank\">其他</a>, <a class=\"tts-title\" href=\"http://www.baidu.com/link?url=bLVaCxrzlei4gwLdFiI4FIVOkSleR-owONDuwOe9sTDoNgT3UbT2Q6sVWxfMtA52qQ_ZroiZGkPA6eceFy8L16mdsXDXzzAJQF_F08BJbZq4jRSVm6ZyXAGpopHVrBOk\" target=\"_blank\">请问<em>万门大学</em>的课程质量怎么样？值不值得买VIP？</a>, <a class=\"tts-title\" href=\"http://www.baidu.com/link?url=pmcIWaygkuJyacBY_14Av6hB1cKLP0dXclkt9iXu4i_uaJKJb9VQtxv08yyMrtq_tgsCVSvmjDNZB-SkgedX2TguWB1t-9BYl_Eshp_f741fmDTCs9VNCeZfpON7Ihxc\" target=\"_blank\">#<em>万门大学</em>APP、官网吐槽专贴#——终身有效</a>, <a class=\"tts-title\" href=\"http://www.baidu.com/link?url=pmcIWaygkuJyacBY_14Av6hB1cKLP0dXclkt9iXu4i_uaJKJb9VQtxv08yyMrtq_g9RCHhMVoWEjXQFhqZkUAYsOVZBvS9lY0F0gmG6oHV85XSnLuS3fDdzasYT8ijNv\" target=\"_blank\">来说说<em>万门</em>的课程</a>, <a href=\"http://www.baidu.com/link?url=ormP6N8qxuUY1L-qhJVLWibIfyF18nbJJZa4xCKZvi8RqjR6HfJKAHUC_nJpxnwfe-ofdmtS0Frf9trwU-XPP807GBCLJdWkMtl2h_N9kZ91UPlLI8s1w2GwZOpUxsW8-FAUVccp833mdAsUKyrp1_DUKmt_PtY3ha9YUh2VcaG\" target=\"_blank\">查看更多<em>万门大学</em>吧的内容 &gt;</a>, <a aria-label=\"标题:万门大学隶属于北京万门教育科技有限公司 - 企业信息\" class=\"\" data-click=\"\" data-showurl-highlight=\"false\" href=\"https://aiqicha.baidu.com/detail/compinfo?pid=xlTM-TogKuTwrrPjdG5SuRt-rbrsHzWTGgmd&amp;rq=es&amp;pd=ee&amp;from=ps\" tabindex=\"0\" target=\"_blank\"><em>万门大学</em>隶属于北京万门教育科技有限公司 - 企业信息</a>, <a class=\"vmp-zxenterprise-logo_3ktNH\" href=\"https://aiqicha.baidu.com/detail/compinfo?pid=xlTM-TogKuTwrrPjdG5SuRt-rbrsHzWTGgmd&amp;rq=es&amp;pd=ee&amp;from=ps\">\n",
      "<div class=\"image-wrapper_39wYE\">\n",
      "<div class=\"c-img c-img-radius-large c-img-s c-img3 compatible_rxApe\">\n",
      "<span class=\"c-img-border c-img-radius-large\"></span>\n",
      "<img alt=\"企业的logo图片\" aria-hidden=\"true\" aria-label=\"企业的logo图片\" src=\"https://zhengxin-pub.cdn.bcebos.com/logopic/7017075e6bfd016b5034715deb036cfb_fullsize.jpg\"/>\n",
      "</div>\n",
      "</div>\n",
      "</a>, <a aria-label=\"\" class=\"slinkItem_1QzYS c-font-medium c-gap-bottom-mini\" href=\"https://aiqicha.baidu.com/detail/compinfo?pid=xlTM-TogKuTwrrPjdG5SuRt-rbrsHzWTGgmd&amp;fr=ald_zl_jbxx&amp;rq=es&amp;pd=ee&amp;from=ps&amp;tab=basic&amp;subtab=business\" tabindex=\"0\">\n",
      "    基本信息\n",
      "</a>, <a aria-label=\"\" class=\"slinkItem_1QzYS c-font-medium c-gap-bottom-mini\" href=\"https://aiqicha.baidu.com/detail/compinfo?pid=xlTM-TogKuTwrrPjdG5SuRt-rbrsHzWTGgmd&amp;fr=ald_zl_zyry&amp;rq=es&amp;pd=ee&amp;from=ps&amp;tab=basic&amp;subtab=directors\" tabindex=\"0\">\n",
      "    主要人员\n",
      "</a>, <a aria-label=\"\" class=\"slinkItem_1QzYS c-font-medium c-gap-bottom-mini\" href=\"https://aiqicha.baidu.com/detail/compinfo?pid=xlTM-TogKuTwrrPjdG5SuRt-rbrsHzWTGgmd&amp;fr=ald_zl_nb&amp;rq=es&amp;pd=ee&amp;from=ps&amp;tab=basic&amp;subtab=annual\" tabindex=\"0\">\n",
      "    企业年报\n",
      "</a>, <a aria-label=\"\" class=\"slinkItem_1QzYS c-font-medium c-gap-bottom-mini\" href=\"https://aiqicha.baidu.com/detail/compinfo?pid=xlTM-TogKuTwrrPjdG5SuRt-rbrsHzWTGgmd&amp;fr=ald_zl_bgjl&amp;rq=es&amp;pd=ee&amp;from=ps&amp;tab=basic&amp;subtab=change\" tabindex=\"0\">\n",
      "    变更记录\n",
      "</a>, <a aria-label=\"\" class=\"slinkItem_1QzYS c-font-medium c-gap-bottom-mini\" href=\"https://aiqicha.baidu.com/detail/compinfo?pid=xlTM-TogKuTwrrPjdG5SuRt-rbrsHzWTGgmd&amp;fr=ald_zl_qygd&amp;rq=es&amp;pd=ee&amp;from=ps&amp;tab=basic&amp;subtab=shareholders\" tabindex=\"0\">\n",
      "    企业股东\n",
      "</a>, <a aria-label=\"\" class=\"slinkItem_1QzYS c-font-medium c-gap-bottom-mini\" href=\"https://aiqicha.baidu.com/detail/compinfo?pid=xlTM-TogKuTwrrPjdG5SuRt-rbrsHzWTGgmd&amp;rq=es&amp;pd=ee&amp;from=ps\" tabindex=\"0\">\n",
      "    更多 &gt;\n",
      "</a>, <a data-click=\"{\n",
      "\t\t\t'F':'778317EA',\n",
      "\t\t\t'F1':'9D73F1C4',\n",
      "\t\t\t'F2':'4CA6DD6B',\n",
      "\t\t\t'F3':'54E5243F',\n",
      "\t\t\t'T':'1641134998',\n",
      "\t\t\t\t\t\t'y':'9953FFFD'\n",
      "\t\t\t\t\t\t\t\t\t\t\t\t}\" href=\"http://www.baidu.com/link?url=s3NnZv6pMuPeb8lqWPTZ6MlJQ-ooqeS_Ka7oBU6e6HP3XEZqtHdpwZOz0uCZeNVn\" target=\"_blank\"><em>万门大学</em>app下载最新版-<em>万门大学</em>官方app下载v7.7.2 安卓版...</a>, <a class=\"c-img c-img3 c-img-radius-large\" href=\"http://www.baidu.com/link?url=s3NnZv6pMuPeb8lqWPTZ6MlJQ-ooqeS_Ka7oBU6e6HP3XEZqtHdpwZOz0uCZeNVn\" style=\"height:85px\" target=\"_blank\"><img class=\"c-img c-img3 c-img-radius-large\" src=\"https://t8.baidu.com/it/u=1995901906,2887209977&amp;fm=218&amp;app=126&amp;f=JPEG?w=121&amp;h=75&amp;s=A863F3041BACBA4D5EDCC50E0300E0CA\" style=\"height:85px;\"/><span class=\"c-img-border c-img-radius-large\"></span></a>, <a class=\"c-showurl c-color-gray\" href=\"http://www.baidu.com/link?url=s3NnZv6pMuPeb8lqWPTZ6MlJQ-ooqeS_Ka7oBU6e6HP3XEZqtHdpwZOz0uCZeNVn\" style=\"text-decoration:none;position:relative;\" target=\"_blank\">www.downcc.com/soft/510...html</a>, <a class=\"m c-gap-left c-color-gray kuaizhao snapshoot\" data-click=\"{'rsv_snapshot':'1'}\" href=\"http://cache.baiducontent.com/c?m=qECA72V0wgWHNP27Gss2c93N9BuOsIlgdjhtO2sCFDD0hz01I1IsH7AzigN8_-d36eoOmmpsDucVHHBTTrZCQH5ypKQDE2-Ope7uiIciqj5lQck6A5UmZ9pdsvOdGgw4avgemv1xUZBy9CfYJL0hKa&amp;p=8b2a9700839211a05be68f295349&amp;newp=8a769a47cc8b09ff57ee9f24564492695d0fc20e3ad2d501298ffe0cc4241a1a1a3aecbe2524170fd2c07c670baf4c5eeaf536743d0034f1f689df08d2ecce7e35c06f&amp;s=eccbc87e4b5ce2fe&amp;user=baidu&amp;fm=sc&amp;query=%CD%F2%C3%C5%B4%F3%D1%A7&amp;qid=eef9a4e8009e44b9&amp;p1=9\" target=\"_blank\">百度快照</a>, <a data-click=\"{'F':'778317EA','F1':'9D73F1C4','F2':'4CA6DD6B','F3':'54E5243F','T':'1641134998','y':'FFFEEF7A'}\" href=\"http://www.baidu.com/link?url=0kcTY_MuGZMNjWAXFhFDwzOi8S_HXFzXkrgjeODNoLuZKF-zFwtsQu6B63FdeMQkAwSWEwXl7BYUM6QMYmXwza\" target=\"_blank\"><em>万门大学</em>-战略管理 企业使命-知识-名师课堂-爱奇艺</a>, <a class=\"wa-se-st-image_single_video c-span3\" href=\"http://www.baidu.com/link?url=0kcTY_MuGZMNjWAXFhFDwzOi8S_HXFzXkrgjeODNoLuZKF-zFwtsQu6B63FdeMQkAwSWEwXl7BYUM6QMYmXwza\" style=\"position:relative;top:2px;\" target=\"_blank\"><img alt=\"\" class=\"c-img c-img3 c-img-radius-large\" src=\"https://vdposter.bdstatic.com/38fc0864b7955e8e6ed09e3edcaa155d.jpeg?x-bce-process=image/resize,m_fill,w_242,h_182/format,f_jpg/quality,Q_100\" style=\"height:85px\"/><i class=\"c-icon a-se-st-single-video-zhanzhang-play-new\"></i></a>, <a class=\"m\" data-click=\"{'rsv_snapshot':'1'}\" href=\"http://cache.baiducontent.com/c?m=94fLVjNdbVeSdWrlKf3OPEhs5eusJ8-1X90qcFFbVC_qGHtKqPsJ1_6O-GGHc1cjKiP357FVgNca2nsOOmqjFc4DOC1B2D5NeiLkclrf0RAYsVWIjTHGuXCYtKyqHZakvmuXiR68eRD65PyIa7TYqq&amp;p=97759a44ddd008f743be9b7c5041&amp;newp=882a944e9d9f12a05aa9c039584c92695d0fc20e3ad4d501298ffe0cc4241a1a1a3aecbe2524170fd2c07c670baf4c5eeaf536743d0034f1f689df08d2ecce7e64d4&amp;s=e4da3b7fbbce2345&amp;user=baidu&amp;fm=sc&amp;query=%CD%F2%C3%C5%B4%F3%D1%A7&amp;qid=eef9a4e8009e44b9&amp;p1=10\" target=\"_blank\">百度快照</a>, <a data-click=\"{\n",
      "\t\t\t'F':'778317EA',\n",
      "\t\t\t'F1':'9D73F1C4',\n",
      "\t\t\t'F2':'4CA6DD6B',\n",
      "\t\t\t'F3':'54E5243F',\n",
      "\t\t\t'T':'1641134998',\n",
      "\t\t\t\t\t\t'y':'F527BFF4'\n",
      "\t\t\t\t\t\t\t\t\t\t\t\t}\" href=\"http://www.baidu.com/link?url=_914zUYw43SHCl9Hqn8cuWlPLU62Nkta6YRsVchhJzvpK9EV3WHVw7CKyn-GwuZ0\" target=\"_blank\"><em>万门大学</em>_<em>万门大学</em>腾讯课堂</a>, <a class=\"c-img c-img3 c-img-radius-large\" href=\"http://www.baidu.com/link?url=_914zUYw43SHCl9Hqn8cuWlPLU62Nkta6YRsVchhJzvpK9EV3WHVw7CKyn-GwuZ0\" style=\"height:85px\" target=\"_blank\"><img class=\"c-img c-img3 c-img-radius-large\" src=\"https://t9.baidu.com/it/u=3137241297,1602015398&amp;fm=218&amp;app=126&amp;f=JPEG?w=121&amp;h=75&amp;s=51B78376A76667055F6641C20300D0BB\" style=\"height:85px;\"/><span class=\"c-img-border c-img-radius-large\"></span></a>, <a class=\"c-showurl c-color-gray\" href=\"http://www.baidu.com/link?url=_914zUYw43SHCl9Hqn8cuWlPLU62Nkta6YRsVchhJzvpK9EV3WHVw7CKyn-GwuZ0\" style=\"text-decoration:none;position:relative;\" target=\"_blank\">wanmen.ke.qq.com/</a>, <a class=\"m c-gap-left c-color-gray kuaizhao snapshoot\" data-click=\"{'rsv_snapshot':'1'}\" href=\"http://cache.baiducontent.com/c?m=9zv5IJ5aqhae48XPGptCWwwHidPfeHp5CKqTOmJC6KQXJyQJUTKPMbWJRA6fEjM3kZKR5dYuTQQtU9HoJes7Ak8GbxcslEyfyGCs_-9U6EDzzYMDXm0xyTHatAlJ3_f3&amp;p=cb6cc11e86cc42ad5bb4c7710f0d82&amp;newp=8e61cd16d9c11dff57ee967d5b008d231610db2151d7d01f6b82c825d7331b001c3bbfb422201600d7ce7a6d05ad4e5ee9f03c763d0923a3dda5c91d9fb4c57479d4&amp;s=cfcd208495d565ef&amp;user=baidu&amp;fm=sc&amp;query=%CD%F2%C3%C5%B4%F3%D1%A7&amp;qid=eef9a4e8009e44b9&amp;p1=11\" target=\"_blank\">百度快照</a>, <a class=\"rs-link_2DE3Q c-line-clamp1 c-color-link\" href=\"/s?wd=%E4%B8%87%E9%97%A8%E5%A4%A7%E5%AD%A6%E7%8E%B0%E7%8A%B6&amp;rsf=100631115&amp;rsp=0&amp;f=1&amp;rs_src=0&amp;rsv_pq=eef9a4e8009e44b9&amp;rsv_t=1a4aVyhWeK1Wj6D4tIRA2UpOjQezrxfbjSurw%2Bg%2BRzkuRJ5Pera7fNX%2FX5Q\" title=\"万门大学现状\">\n",
      "                        万门大学现状\n",
      "                    </a>, <a class=\"rs-link_2DE3Q c-line-clamp1 c-color-link\" href=\"/s?wd=%E4%B8%87%E9%97%A83600%E5%B0%8F%E6%97%B6%E9%9D%A0%E8%B0%B1%E5%90%97&amp;rsf=100631111&amp;rsp=1&amp;f=1&amp;rs_src=0&amp;rsv_pq=eef9a4e8009e44b9&amp;rsv_t=1a4aVyhWeK1Wj6D4tIRA2UpOjQezrxfbjSurw%2Bg%2BRzkuRJ5Pera7fNX%2FX5Q\" title=\"万门3600小时靠谱吗\">\n",
      "                        万门3600小时靠谱吗\n",
      "                    </a>, <a class=\"rs-link_2DE3Q c-line-clamp1 c-color-link\" href=\"/s?wd=%E4%B8%87%E9%97%A8%E4%B8%AD%E5%AD%A6app&amp;rsf=100631101&amp;rsp=2&amp;f=1&amp;rs_src=0&amp;rsv_pq=eef9a4e8009e44b9&amp;rsv_t=1a4aVyhWeK1Wj6D4tIRA2UpOjQezrxfbjSurw%2Bg%2BRzkuRJ5Pera7fNX%2FX5Q\" title=\"万门中学app\">\n",
      "                        万门中学app\n",
      "                    </a>, <a class=\"rs-link_2DE3Q c-line-clamp1 c-color-link\" href=\"/s?wd=%E4%B8%87%E9%97%A8%E5%A5%BD%E8%AF%BE%E5%AE%98%E7%BD%91&amp;rsf=100631115&amp;rsp=3&amp;f=1&amp;rs_src=0&amp;rsv_pq=eef9a4e8009e44b9&amp;rsv_t=1a4aVyhWeK1Wj6D4tIRA2UpOjQezrxfbjSurw%2Bg%2BRzkuRJ5Pera7fNX%2FX5Q\" title=\"万门好课官网\">\n",
      "                        万门好课官网\n",
      "                    </a>, <a class=\"rs-link_2DE3Q c-line-clamp1 c-color-link\" href=\"/s?wd=%E4%B8%87%E9%97%A8%E5%A4%A7%E5%AD%A6%E8%AF%BE%E7%A8%8B%E7%99%BE%E5%BA%A6%E7%BD%91%E7%9B%98&amp;rsf=100631115&amp;rsp=4&amp;f=1&amp;rs_src=0&amp;rsv_pq=eef9a4e8009e44b9&amp;rsv_t=1a4aVyhWeK1Wj6D4tIRA2UpOjQezrxfbjSurw%2Bg%2BRzkuRJ5Pera7fNX%2FX5Q\" title=\"万门大学课程百度网盘\">\n",
      "                        万门大学课程百度网盘\n",
      "                    </a>, <a class=\"rs-link_2DE3Q c-line-clamp1 c-color-link\" href=\"/s?wd=%E4%B8%87%E9%97%A8%E5%A4%A7%E5%AD%A6%E7%BB%88%E8%BA%ABvip%E4%BB%B7%E6%A0%BC&amp;rsf=100631857&amp;rsp=5&amp;f=1&amp;rs_src=0&amp;rsv_pq=eef9a4e8009e44b9&amp;rsv_t=1a4aVyhWeK1Wj6D4tIRA2UpOjQezrxfbjSurw%2Bg%2BRzkuRJ5Pera7fNX%2FX5Q\" title=\"万门大学终身vip价格\">\n",
      "                        万门大学终身vip价格\n",
      "                    </a>, <a class=\"rs-link_2DE3Q c-line-clamp1 c-color-link\" href=\"/s?wd=%E4%B8%87%E9%97%A8%E5%A4%A7%E5%AD%A6vip%E5%80%BC%E5%BE%97%E4%B9%B0%E5%90%97&amp;rsf=100631857&amp;rsp=6&amp;f=1&amp;rs_src=0&amp;rsv_pq=eef9a4e8009e44b9&amp;rsv_t=1a4aVyhWeK1Wj6D4tIRA2UpOjQezrxfbjSurw%2Bg%2BRzkuRJ5Pera7fNX%2FX5Q\" title=\"万门大学vip值得买吗\">\n",
      "                        万门大学vip值得买吗\n",
      "                    </a>, <a class=\"rs-link_2DE3Q c-line-clamp1 c-color-link\" href=\"/s?wd=%E4%B8%87%E9%97%A8%E5%A4%A7%E5%AD%A6%E5%80%BC%E5%BE%971%E4%B8%87%E5%A4%9A%E5%90%97&amp;rsf=100631115&amp;rsp=7&amp;f=1&amp;rs_src=0&amp;rsv_pq=eef9a4e8009e44b9&amp;rsv_t=1a4aVyhWeK1Wj6D4tIRA2UpOjQezrxfbjSurw%2Bg%2BRzkuRJ5Pera7fNX%2FX5Q\" title=\"万门大学值得1万多吗\">\n",
      "                        万门大学值得1万多吗\n",
      "                    </a>, <a class=\"rs-link_2DE3Q c-line-clamp1 c-color-link\" href=\"/s?wd=%E4%B8%87%E9%97%A8%E5%A4%A7%E5%AD%A63600%E5%B0%8F%E6%97%B6%E8%BF%94%E5%AD%A6%E8%B4%B9%E9%9D%A0%E8%B0%B1%E5%90%97&amp;rsf=100631101&amp;rsp=8&amp;f=1&amp;rs_src=0&amp;rsv_pq=eef9a4e8009e44b9&amp;rsv_t=1a4aVyhWeK1Wj6D4tIRA2UpOjQezrxfbjSurw%2Bg%2BRzkuRJ5Pera7fNX%2FX5Q\" title=\"万门大学3600小时返学费靠谱吗\">\n",
      "                        万门大学3600小时返学费靠谱吗\n",
      "                    </a>, <a class=\"rs-link_2DE3Q c-line-clamp1 c-color-link\" href=\"/s?wd=%E4%B8%87%E9%97%A8%E6%95%99%E8%82%B2%E6%98%AF%E4%B8%8D%E6%98%AF%E9%AA%97%E5%AD%90&amp;rsf=100631115&amp;rsp=9&amp;f=1&amp;rs_src=0&amp;rsv_pq=eef9a4e8009e44b9&amp;rsv_t=1a4aVyhWeK1Wj6D4tIRA2UpOjQezrxfbjSurw%2Bg%2BRzkuRJ5Pera7fNX%2FX5Q\" title=\"万门教育是不是骗子\">\n",
      "                        万门教育是不是骗子\n",
      "                    </a>, <a href=\"/s?wd=%E4%B8%87%E9%97%A8%E5%A4%A7%E5%AD%A6&amp;pn=10&amp;oq=%E4%B8%87%E9%97%A8%E5%A4%A7%E5%AD%A6&amp;ie=utf-8&amp;usm=2&amp;rsv_pq=eef9a4e8009e44b9&amp;rsv_t=1a4aVyhWeK1Wj6D4tIRA2UpOjQezrxfbjSurw%2Bg%2BRzkuRJ5Pera7fNX%2FX5Q&amp;topic_pn=\"><span class=\"page-item_M4MDr pc\">2</span></a>, <a href=\"/s?wd=%E4%B8%87%E9%97%A8%E5%A4%A7%E5%AD%A6&amp;pn=20&amp;oq=%E4%B8%87%E9%97%A8%E5%A4%A7%E5%AD%A6&amp;ie=utf-8&amp;usm=2&amp;rsv_pq=eef9a4e8009e44b9&amp;rsv_t=1a4aVyhWeK1Wj6D4tIRA2UpOjQezrxfbjSurw%2Bg%2BRzkuRJ5Pera7fNX%2FX5Q&amp;topic_pn=\"><span class=\"page-item_M4MDr pc\">3</span></a>, <a href=\"/s?wd=%E4%B8%87%E9%97%A8%E5%A4%A7%E5%AD%A6&amp;pn=30&amp;oq=%E4%B8%87%E9%97%A8%E5%A4%A7%E5%AD%A6&amp;ie=utf-8&amp;usm=2&amp;rsv_pq=eef9a4e8009e44b9&amp;rsv_t=1a4aVyhWeK1Wj6D4tIRA2UpOjQezrxfbjSurw%2Bg%2BRzkuRJ5Pera7fNX%2FX5Q&amp;topic_pn=\"><span class=\"page-item_M4MDr pc\">4</span></a>, <a href=\"/s?wd=%E4%B8%87%E9%97%A8%E5%A4%A7%E5%AD%A6&amp;pn=40&amp;oq=%E4%B8%87%E9%97%A8%E5%A4%A7%E5%AD%A6&amp;ie=utf-8&amp;usm=2&amp;rsv_pq=eef9a4e8009e44b9&amp;rsv_t=1a4aVyhWeK1Wj6D4tIRA2UpOjQezrxfbjSurw%2Bg%2BRzkuRJ5Pera7fNX%2FX5Q&amp;topic_pn=\"><span class=\"page-item_M4MDr pc\">5</span></a>, <a href=\"/s?wd=%E4%B8%87%E9%97%A8%E5%A4%A7%E5%AD%A6&amp;pn=50&amp;oq=%E4%B8%87%E9%97%A8%E5%A4%A7%E5%AD%A6&amp;ie=utf-8&amp;usm=2&amp;rsv_pq=eef9a4e8009e44b9&amp;rsv_t=1a4aVyhWeK1Wj6D4tIRA2UpOjQezrxfbjSurw%2Bg%2BRzkuRJ5Pera7fNX%2FX5Q&amp;topic_pn=\"><span class=\"page-item_M4MDr pc\">6</span></a>, <a href=\"/s?wd=%E4%B8%87%E9%97%A8%E5%A4%A7%E5%AD%A6&amp;pn=60&amp;oq=%E4%B8%87%E9%97%A8%E5%A4%A7%E5%AD%A6&amp;ie=utf-8&amp;usm=2&amp;rsv_pq=eef9a4e8009e44b9&amp;rsv_t=1a4aVyhWeK1Wj6D4tIRA2UpOjQezrxfbjSurw%2Bg%2BRzkuRJ5Pera7fNX%2FX5Q&amp;topic_pn=\"><span class=\"page-item_M4MDr pc\">7</span></a>, <a href=\"/s?wd=%E4%B8%87%E9%97%A8%E5%A4%A7%E5%AD%A6&amp;pn=70&amp;oq=%E4%B8%87%E9%97%A8%E5%A4%A7%E5%AD%A6&amp;ie=utf-8&amp;usm=2&amp;rsv_pq=eef9a4e8009e44b9&amp;rsv_t=1a4aVyhWeK1Wj6D4tIRA2UpOjQezrxfbjSurw%2Bg%2BRzkuRJ5Pera7fNX%2FX5Q&amp;topic_pn=\"><span class=\"page-item_M4MDr pc\">8</span></a>, <a href=\"/s?wd=%E4%B8%87%E9%97%A8%E5%A4%A7%E5%AD%A6&amp;pn=80&amp;oq=%E4%B8%87%E9%97%A8%E5%A4%A7%E5%AD%A6&amp;ie=utf-8&amp;usm=2&amp;rsv_pq=eef9a4e8009e44b9&amp;rsv_t=1a4aVyhWeK1Wj6D4tIRA2UpOjQezrxfbjSurw%2Bg%2BRzkuRJ5Pera7fNX%2FX5Q&amp;topic_pn=\"><span class=\"page-item_M4MDr pc\">9</span></a>, <a href=\"/s?wd=%E4%B8%87%E9%97%A8%E5%A4%A7%E5%AD%A6&amp;pn=90&amp;oq=%E4%B8%87%E9%97%A8%E5%A4%A7%E5%AD%A6&amp;ie=utf-8&amp;usm=2&amp;rsv_pq=eef9a4e8009e44b9&amp;rsv_t=1a4aVyhWeK1Wj6D4tIRA2UpOjQezrxfbjSurw%2Bg%2BRzkuRJ5Pera7fNX%2FX5Q&amp;topic_pn=\"><span class=\"page-item_M4MDr pc\">10</span></a>, <a class=\"n\" href=\"/s?wd=%E4%B8%87%E9%97%A8%E5%A4%A7%E5%AD%A6&amp;pn=10&amp;oq=%E4%B8%87%E9%97%A8%E5%A4%A7%E5%AD%A6&amp;ie=utf-8&amp;usm=2&amp;rsv_pq=eef9a4e8009e44b9&amp;rsv_t=1a4aVyhWeK1Wj6D4tIRA2UpOjQezrxfbjSurw%2Bg%2BRzkuRJ5Pera7fNX%2FX5Q&amp;topic_pn=&amp;rsv_page=1\">下一页 &gt;</a>, <a href=\"http://help.baidu.com/question\" target=\"_blank\">帮助</a>, <a href=\"http://www.baidu.com/search/jubao.html\" target=\"_blank\">举报</a>, <a class=\"feedback\" href=\"javascript:;\" onclick=\"return false;\" target=\"_blank\">用户反馈</a>]\n"
     ]
    }
   ],
   "source": [
    "from bs4 import BeautifulSoup\n",
    "\n",
    "with open('wanmen.html','r') as f:\n",
    "    content = f.read()\n",
    "\n",
    "soup = BeautifulSoup(content, \"lxml\")\n",
    "\n",
    "res_1 = soup.find_all(name='a')\n",
    "print(res_1)"
   ]
  },
  {
   "cell_type": "code",
   "execution_count": null,
   "metadata": {},
   "outputs": [],
   "source": [
    "from lxml import etree"
   ]
  },
  {
   "cell_type": "code",
   "execution_count": null,
   "metadata": {},
   "outputs": [],
   "source": [
    "tree = etree.HTML(content)"
   ]
  },
  {
   "cell_type": "code",
   "execution_count": null,
   "metadata": {},
   "outputs": [],
   "source": [
    "tree"
   ]
  },
  {
   "cell_type": "code",
   "execution_count": null,
   "metadata": {},
   "outputs": [],
   "source": [
    "res_1 = tree.xpath('/html/head/title')\n",
    "print(type(res_1))\n",
    "for i in res_1:\n",
    "    print(i)"
   ]
  },
  {
   "cell_type": "code",
   "execution_count": null,
   "metadata": {},
   "outputs": [],
   "source": [
    "res_2 = tree.xpath('/ul/li')\n",
    "res_2"
   ]
  },
  {
   "cell_type": "code",
   "execution_count": null,
   "metadata": {},
   "outputs": [],
   "source": [
    "import requests\n",
    "url = \"https://www.taobao.com\"\n",
    "\n",
    "res = requests.get(url=url)\n",
    "res"
   ]
  },
  {
   "cell_type": "code",
   "execution_count": null,
   "metadata": {},
   "outputs": [],
   "source": [
    "with open('taobao.index.html','a') as h:\n",
    "    h.write(res.text)"
   ]
  },
  {
   "cell_type": "code",
   "execution_count": null,
   "metadata": {},
   "outputs": [],
   "source": [
    "import re\n",
    "\n",
    "patter1 = re.compile(r\"<a.*?></a>\")\n",
    "\n",
    "res_list = re.findall(pattern=patter1,string=res.text)\n"
   ]
  },
  {
   "cell_type": "code",
   "execution_count": null,
   "metadata": {},
   "outputs": [],
   "source": [
    "res_list"
   ]
  },
  {
   "cell_type": "code",
   "execution_count": null,
   "metadata": {},
   "outputs": [],
   "source": [
    "res_list"
   ]
  },
  {
   "cell_type": "code",
   "execution_count": null,
   "metadata": {},
   "outputs": [],
   "source": [
    "patter2 = '''<span class=\"cate_menu_line\">/</span>\\B<a target=\"_blank\" class=\"cate_menu_lk\" href=\".*?\">.*?</a>'''\n",
    "patter2_com = re.compile(pattern=patter2)\n"
   ]
  },
  {
   "cell_type": "code",
   "execution_count": null,
   "metadata": {},
   "outputs": [],
   "source": [
    "url = \"https://https://www.jd.com/?\"\n",
    "\n",
    "header = {\n",
    "    \"User-Agent\": \"Mozilla/5.0 (Windows NT 10.0; Win64; x64) AppleWebKit/537.36 (KHTML, like Gecko) Chrome/96.0.4664.110 Safari/537.36\",\n",
    "    \"Connection\":\"close\",\n",
    "}\n",
    "requests.adapters.DEFAULT_RETRIES = 2\n",
    "s = requests.session()\n",
    "s.keep_alive = False\n",
    "# jd_html = requests.get(url=url, headers=header, verify=False)\n"
   ]
  },
  {
   "cell_type": "code",
   "execution_count": null,
   "metadata": {},
   "outputs": [],
   "source": [
    "with open('jd.index.html','r') as f:\n",
    "    content = f.read()\n",
    "\n",
    "re.findall(pattern=patter2_com, string=content)"
   ]
  },
  {
   "cell_type": "code",
   "execution_count": null,
   "metadata": {},
   "outputs": [],
   "source": [
    "patt3_com = re.compile(r'''<li clstag=\".*\" class=\"fore6\"><a class=\"navitems-lk\" target=\"_blank\" href=\".*\" aria-lable=\".*\">.*</a></li>''')"
   ]
  },
  {
   "cell_type": "code",
   "execution_count": null,
   "metadata": {},
   "outputs": [],
   "source": [
    "re.findall(pattern=patt3_com, string=content, flags=re.S)"
   ]
  },
  {
   "cell_type": "code",
   "execution_count": null,
   "metadata": {},
   "outputs": [],
   "source": [
    "pat4 = re.compile(r'<a target=\"_blank\" class=\"cate_menu_lk\" href=\".*?\">.*?</a>')\n",
    "cate_mune_lk = re.findall(pattern=pat4, string=content)\n",
    "len(cate_mune_lk)\n"
   ]
  },
  {
   "cell_type": "code",
   "execution_count": null,
   "metadata": {},
   "outputs": [],
   "source": [
    "pat4 = re.compile(r'<a.*?>.*?</a>')\n",
    "\n",
    "re.findall(pattern=pat4, string=content)"
   ]
  },
  {
   "cell_type": "code",
   "execution_count": null,
   "metadata": {},
   "outputs": [],
   "source": [
    "\n",
    "def get_data(file_name, div_name:str, attr:dict):\n",
    "    from bs4 import BeautifulSoup\n",
    "    with open(file_name, 'r') as f:\n",
    "        content = f.read()\n",
    "    soup = BeautifulSoup(content, 'lxml')\n",
    "    info = soup.find_all(name=div_name, attrs=attr)\n",
    "    return info"
   ]
  },
  {
   "cell_type": "code",
   "execution_count": null,
   "metadata": {},
   "outputs": [],
   "source": [
    "info = get_data('jd.index.html','a', {\"class\": \"cate_menu_lk\"})"
   ]
  },
  {
   "cell_type": "code",
   "execution_count": null,
   "metadata": {},
   "outputs": [],
   "source": [
    "# <div class=\"goods-item goods-item--nomargin\" style=\"padding: 15px;\"><div class=\"goods-item__cover\" style=\"height: 160px;\"><img class=\"goods-item__img\" src=\"//img14.360buyimg.com/babel/s320x320_jfs/t1/205028/39/20182/161787/61cd72ffEfb026795/2ab877ef3a48cdf9.jpg!cc_320x320.webp\" style=\"width: 160px; height: 160px;\"></div><div class=\"goods-item__info\"><div class=\"goods-item__title goods-item__title--twoline\" style=\"color: rgb(0, 0, 0);\">荣耀 Magic3 至臻版 多主摄计算摄影 骁龙888Plus 6.76英寸超曲屏 纳米微晶面板 12GB+512GB 陶瓷黑</div><div class=\"goods-item__content\"><div class=\"goods-item__price\" style=\"color: rgb(240, 43, 43);\">￥6999.00</div></div></div></div>\n",
    "\n",
    "\n",
    "info = get_data('jd.phone.html','div', {'class':'goods-tem goods-item--nomargin'})\n",
    "for li in info:\n",
    "    print(li)\n",
    "    print('*'*20)"
   ]
  },
  {
   "cell_type": "code",
   "execution_count": null,
   "metadata": {},
   "outputs": [],
   "source": [
    "# sqlite3 单线程\n",
    "import sqlite3\n",
    "\n",
    "conn = sqlite3.connect('my_data.db')\n",
    "c = conn.cursor()\n",
    "c.execute('CREATE TABLE info (id, tab, url)')\n",
    "id = \"1\"\n",
    "tab = \"线上商超\"\n",
    "url = \"http://www.jd.com\"\n",
    "c.execute('INSERT INTO info VALUES(\"%s\",\"%s\",\"%s\")'%(id, tab, url))\n",
    "conn.commit()\n"
   ]
  },
  {
   "cell_type": "code",
   "execution_count": null,
   "metadata": {},
   "outputs": [],
   "source": [
    "\n",
    "# sqlite3 单线程\n",
    "import sqlite3\n",
    "\n",
    "conn = sqlite3.connect('my_data.db')\n",
    "c = conn.cursor()\n",
    "res = c.execute('SELECT * FROM info')\n",
    "\n",
    "print(res.__next__())"
   ]
  },
  {
   "cell_type": "code",
   "execution_count": null,
   "metadata": {},
   "outputs": [],
   "source": [
    "total = [1,2,3,4,5,6,7,8]\n",
    "\n",
    "def task_distribute(total):\n",
    "    t1 = total[:int(len(total)/2)]\n",
    "    t2 = total[int(len(total)/2):]\n",
    "    return (t1,t2)\n",
    "\n",
    "task_distribute(total)\n"
   ]
  },
  {
   "cell_type": "code",
   "execution_count": null,
   "metadata": {},
   "outputs": [],
   "source": [
    "import re\n",
    "\n",
    "pat5 = re.compile(r'(?:href=\")(.*?)(?:\")')\n",
    "pat5_key = re.compile(r'(?:>)(.*?)(?:<)')\n",
    "# for i in cate_mune_lk:\n",
    "\n",
    "value = re.findall(pattern=pat5, string=cate_mune_lk[0]) \n",
    "key = re.findall(pattern=pat5_key, string=cate_mune_lk[0]) \n",
    "print(key.pop(), value.pop())"
   ]
  },
  {
   "cell_type": "code",
   "execution_count": null,
   "metadata": {},
   "outputs": [],
   "source": []
  },
  {
   "cell_type": "code",
   "execution_count": 29,
   "metadata": {},
   "outputs": [],
   "source": [
    "# excel 操作\n",
    "\n",
    "from openpyxl import load_workbook, Workbook\n",
    "wb = Workbook()\n",
    "ws = wb.create_sheet('city')\n",
    "ws.append(['name','city'])\n",
    "wb.save(\"city.xlsx\")"
   ]
  },
  {
   "cell_type": "code",
   "execution_count": null,
   "metadata": {},
   "outputs": [],
   "source": [
    "wb = load_workbook('city.xlsx')\n",
    "ws = wb['city']\n"
   ]
  }
 ],
 "metadata": {
  "interpreter": {
   "hash": "23438c0a383b21e5925825422837624217041df97599b654a1dabc03955a8e33"
  },
  "kernelspec": {
   "display_name": "Python 3.6.2 64-bit ('newpy3': conda)",
   "language": "python",
   "name": "python3"
  },
  "language_info": {
   "codemirror_mode": {
    "name": "ipython",
    "version": 3
   },
   "file_extension": ".py",
   "mimetype": "text/x-python",
   "name": "python",
   "nbconvert_exporter": "python",
   "pygments_lexer": "ipython3",
   "version": "3.6.13"
  },
  "orig_nbformat": 4
 },
 "nbformat": 4,
 "nbformat_minor": 2
}
