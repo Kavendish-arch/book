with open('jd.index.html','r') as f:
    content = f.read()