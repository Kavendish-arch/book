{
 "cells": [
  {
   "cell_type": "markdown",
   "metadata": {
    "run_control": {
     "frozen": false,
     "read_only": false
    }
   },
   "source": [
    "To run this notebook you will need:  \n",
    "python 3.4.3  \n",
    "pandas 0.18.1  \n",
    "requests 2.9.0  \n",
    "json 2.0.9  \n",
    "numpy 1.11.0  \n",
    "  \n",
    "credit to: sev@thedatascout.com  "
   ]
  },
  {
   "cell_type": "code",
   "execution_count": 4,
   "metadata": {
    "collapsed": false,
    "run_control": {
     "frozen": false,
     "read_only": false
    }
   },
   "outputs": [
    {
     "name": "stdout",
     "output_type": "stream",
     "text": [
      "0.20.3\n",
      "2.18.4\n",
      "2.0.9\n",
      "1.12.0\n"
     ]
    }
   ],
   "source": [
    "import pandas\n",
    "import requests\n",
    "import json\n",
    "import numpy\n",
    "from pandas.io.json import json_normalize\n",
    "import re\n",
    "\n",
    "print(pandas.__version__)\n",
    "print(requests.__version__)\n",
    "print(json.__version__)\n",
    "print(numpy.__version__)"
   ]
  },
  {
   "cell_type": "markdown",
   "metadata": {
    "run_control": {
     "frozen": false,
     "read_only": false
    }
   },
   "source": [
    "Creating the RidbData object"
   ]
  },
  {
   "cell_type": "code",
   "execution_count": 84,
   "metadata": {
    "collapsed": false,
    "run_control": {
     "frozen": false,
     "read_only": false
    }
   },
   "outputs": [],
   "source": [
    "import pandas as pd \n",
    "import requests\n",
    "import json\n",
    "from pandas.io.json import json_normalize\n",
    "import numpy as np\n",
    "\n",
    "class RidbData():\n",
    "    def __init__(self, name, endpoint, url_params):\n",
    "        self.df = pd.DataFrame()\n",
    "        self.endpoint = endpoint\n",
    "        self.url_params = url_params\n",
    "        self.name = name\n",
    "    \n",
    "    def clean(self) :\n",
    "        # by replacing '' with np.NaN we can use dropna to remove rows missing required data, like lat/longs\n",
    "        self.df = self.df.replace('', np.nan)\n",
    "    \n",
    "        # normalize column names for lat and long. i.e. can be FacilityLatitude or RecAreaLatitude\n",
    "        self.df.columns = self.df.columns.str.replace('.*Latitude', 'Latitude')\n",
    "        self.df.columns = self.df.columns.str.replace('.*Longitude', 'Longitude')\n",
    "        self.df = self.df.dropna(subset=['Latitude','Longitude'])\n",
    "\n",
    "    def extract(self):\n",
    "        request_url = self.endpoint\n",
    "        response = requests.get(url=self.endpoint,params=self.url_params,headers={})\n",
    "        data = json.loads(response.text)\n",
    "        self.df = json_normalize(data['RECDATA'])"
   ]
  },
  {
   "cell_type": "code",
   "execution_count": 5,
   "metadata": {
    "collapsed": false
   },
   "outputs": [],
   "source": [
    "? requests.get"
   ]
  },
  {
   "cell_type": "markdown",
   "metadata": {
    "run_control": {
     "frozen": false,
     "read_only": false
    }
   },
   "source": [
    "Create an instance of RidbData to connect to the facilities endpoint. <br>\n",
    "You can get a RIDB API key here: https://ridb.recreation.gov/?action=register"
   ]
  },
  {
   "cell_type": "code",
   "execution_count": 76,
   "metadata": {
    "collapsed": false,
    "run_control": {
     "frozen": false,
     "read_only": false
    }
   },
   "outputs": [],
   "source": [
    "ridb_facilities_endpoint = 'https://ridb.recreation.gov/api/v1/facilities'\n",
    "ridb_params = dict(apiKey= \"CBE42AEF8619445F9823241CCB78E219\")\n",
    "ridb = RidbData('ridb', ridb_facilities_endpoint, ridb_params)"
   ]
  },
  {
   "cell_type": "markdown",
   "metadata": {
    "run_control": {
     "frozen": false,
     "read_only": false
    }
   },
   "source": [
    "Running the extract method, we can observe the 'df' attribute with the fetched data"
   ]
  },
  {
   "cell_type": "code",
   "execution_count": 77,
   "metadata": {
    "collapsed": false,
    "run_control": {
     "frozen": false,
     "read_only": false
    }
   },
   "outputs": [],
   "source": [
    "ridb.extract()"
   ]
  },
  {
   "cell_type": "code",
   "execution_count": 78,
   "metadata": {
    "collapsed": false,
    "run_control": {
     "frozen": false,
     "read_only": false
    }
   },
   "outputs": [
    {
     "data": {
      "text/plain": [
       "FacilityAdaAccess            0\n",
       "FacilityDescription          0\n",
       "FacilityDirections           0\n",
       "FacilityEmail                0\n",
       "FacilityID                   0\n",
       "FacilityLatitude             0\n",
       "FacilityLongitude            0\n",
       "FacilityMapURL               0\n",
       "FacilityName                 0\n",
       "FacilityPhone                0\n",
       "FacilityReservationURL       0\n",
       "FacilityTypeDescription      0\n",
       "FacilityUseFeeDescription    0\n",
       "GEOJSON.COORDINATES          0\n",
       "GEOJSON.TYPE                 0\n",
       "Keywords                     0\n",
       "LastUpdatedDate              0\n",
       "LegacyFacilityID             0\n",
       "OrgFacilityID                0\n",
       "StayLimit                    0\n",
       "dtype: int64"
      ]
     },
     "execution_count": 78,
     "metadata": {},
     "output_type": "execute_result"
    }
   ],
   "source": [
    "ridb.df.isnull().sum()"
   ]
  },
  {
   "cell_type": "code",
   "execution_count": 79,
   "metadata": {
    "collapsed": false,
    "run_control": {
     "frozen": false,
     "read_only": false
    },
    "scrolled": true
   },
   "outputs": [
    {
     "data": {
      "text/html": [
       "<div>\n",
       "<style>\n",
       "    .dataframe thead tr:only-child th {\n",
       "        text-align: right;\n",
       "    }\n",
       "\n",
       "    .dataframe thead th {\n",
       "        text-align: left;\n",
       "    }\n",
       "\n",
       "    .dataframe tbody tr th {\n",
       "        vertical-align: top;\n",
       "    }\n",
       "</style>\n",
       "<table border=\"1\" class=\"dataframe\">\n",
       "  <thead>\n",
       "    <tr style=\"text-align: right;\">\n",
       "      <th></th>\n",
       "      <th>FacilityID</th>\n",
       "      <th>FacilityLatitude</th>\n",
       "      <th>FacilityLongitude</th>\n",
       "    </tr>\n",
       "  </thead>\n",
       "  <tbody>\n",
       "    <tr>\n",
       "      <th>count</th>\n",
       "      <td>50.00000</td>\n",
       "      <td>50.000000</td>\n",
       "      <td>50.000000</td>\n",
       "    </tr>\n",
       "    <tr>\n",
       "      <th>mean</th>\n",
       "      <td>201413.96000</td>\n",
       "      <td>39.293978</td>\n",
       "      <td>-105.397023</td>\n",
       "    </tr>\n",
       "    <tr>\n",
       "      <th>std</th>\n",
       "      <td>934.63198</td>\n",
       "      <td>4.477295</td>\n",
       "      <td>14.192505</td>\n",
       "    </tr>\n",
       "    <tr>\n",
       "      <th>min</th>\n",
       "      <td>200001.00000</td>\n",
       "      <td>30.285824</td>\n",
       "      <td>-122.263400</td>\n",
       "    </tr>\n",
       "    <tr>\n",
       "      <th>25%</th>\n",
       "      <td>200013.25000</td>\n",
       "      <td>35.468325</td>\n",
       "      <td>-114.178798</td>\n",
       "    </tr>\n",
       "    <tr>\n",
       "      <th>50%</th>\n",
       "      <td>202053.00000</td>\n",
       "      <td>39.493600</td>\n",
       "      <td>-111.868919</td>\n",
       "    </tr>\n",
       "    <tr>\n",
       "      <th>75%</th>\n",
       "      <td>202080.25000</td>\n",
       "      <td>42.910205</td>\n",
       "      <td>-96.553334</td>\n",
       "    </tr>\n",
       "    <tr>\n",
       "      <th>max</th>\n",
       "      <td>202122.00000</td>\n",
       "      <td>47.246301</td>\n",
       "      <td>-71.079722</td>\n",
       "    </tr>\n",
       "  </tbody>\n",
       "</table>\n",
       "</div>"
      ],
      "text/plain": [
       "         FacilityID  FacilityLatitude  FacilityLongitude\n",
       "count      50.00000         50.000000          50.000000\n",
       "mean   201413.96000         39.293978        -105.397023\n",
       "std       934.63198          4.477295          14.192505\n",
       "min    200001.00000         30.285824        -122.263400\n",
       "25%    200013.25000         35.468325        -114.178798\n",
       "50%    202053.00000         39.493600        -111.868919\n",
       "75%    202080.25000         42.910205         -96.553334\n",
       "max    202122.00000         47.246301         -71.079722"
      ]
     },
     "execution_count": 79,
     "metadata": {},
     "output_type": "execute_result"
    }
   ],
   "source": [
    "ridb.df.describe()"
   ]
  },
  {
   "cell_type": "code",
   "execution_count": 80,
   "metadata": {
    "collapsed": false,
    "run_control": {
     "frozen": false,
     "read_only": false
    }
   },
   "outputs": [
    {
     "data": {
      "text/html": [
       "<div>\n",
       "<style>\n",
       "    .dataframe thead tr:only-child th {\n",
       "        text-align: right;\n",
       "    }\n",
       "\n",
       "    .dataframe thead th {\n",
       "        text-align: left;\n",
       "    }\n",
       "\n",
       "    .dataframe tbody tr th {\n",
       "        vertical-align: top;\n",
       "    }\n",
       "</style>\n",
       "<table border=\"1\" class=\"dataframe\">\n",
       "  <thead>\n",
       "    <tr style=\"text-align: right;\">\n",
       "      <th></th>\n",
       "      <th>FacilityAdaAccess</th>\n",
       "      <th>FacilityDescription</th>\n",
       "      <th>FacilityDirections</th>\n",
       "      <th>FacilityEmail</th>\n",
       "      <th>FacilityID</th>\n",
       "      <th>FacilityLatitude</th>\n",
       "      <th>FacilityLongitude</th>\n",
       "      <th>FacilityMapURL</th>\n",
       "      <th>FacilityName</th>\n",
       "      <th>FacilityPhone</th>\n",
       "      <th>FacilityReservationURL</th>\n",
       "      <th>FacilityTypeDescription</th>\n",
       "      <th>FacilityUseFeeDescription</th>\n",
       "      <th>GEOJSON.COORDINATES</th>\n",
       "      <th>GEOJSON.TYPE</th>\n",
       "      <th>Keywords</th>\n",
       "      <th>LastUpdatedDate</th>\n",
       "      <th>LegacyFacilityID</th>\n",
       "      <th>OrgFacilityID</th>\n",
       "      <th>StayLimit</th>\n",
       "    </tr>\n",
       "  </thead>\n",
       "  <tbody>\n",
       "    <tr>\n",
       "      <th>0</th>\n",
       "      <td>True</td>\n",
       "      <td>Like the other Presidential Libraries, the Geo...</td>\n",
       "      <td>See the map at &lt;a href=\"http://bushlibrary.tam...</td>\n",
       "      <td>Library.Bush@nara.gov</td>\n",
       "      <td>200001</td>\n",
       "      <td>30.612222</td>\n",
       "      <td>-96.331389</td>\n",
       "      <td>http://bushlibrary.tamu.edu/map.html</td>\n",
       "      <td>George Bush Presidential Library and Museum</td>\n",
       "      <td>979-691-4000</td>\n",
       "      <td></td>\n",
       "      <td>Library</td>\n",
       "      <td></td>\n",
       "      <td>[-96.331389, 30.612222]</td>\n",
       "      <td>Point</td>\n",
       "      <td></td>\n",
       "      <td>2007-02-26</td>\n",
       "      <td></td>\n",
       "      <td></td>\n",
       "      <td></td>\n",
       "    </tr>\n",
       "    <tr>\n",
       "      <th>1</th>\n",
       "      <td>True</td>\n",
       "      <td>The National Archives Building in Washington, ...</td>\n",
       "      <td>The National Archives Building is located betw...</td>\n",
       "      <td></td>\n",
       "      <td>200002</td>\n",
       "      <td>38.892778</td>\n",
       "      <td>-77.023056</td>\n",
       "      <td>http://www.archives.gov/national_archives_expe...</td>\n",
       "      <td>National Archives Building</td>\n",
       "      <td>(866) 272-6272</td>\n",
       "      <td></td>\n",
       "      <td>Archives</td>\n",
       "      <td></td>\n",
       "      <td>[-77.023056, 38.892778]</td>\n",
       "      <td>Point</td>\n",
       "      <td></td>\n",
       "      <td>2016-03-21</td>\n",
       "      <td></td>\n",
       "      <td></td>\n",
       "      <td></td>\n",
       "    </tr>\n",
       "    <tr>\n",
       "      <th>2</th>\n",
       "      <td>True</td>\n",
       "      <td>The National Archives at College Park opened f...</td>\n",
       "      <td>From I-495 (The Capital Beltway) take exit 28B...</td>\n",
       "      <td></td>\n",
       "      <td>200003</td>\n",
       "      <td>38.997500</td>\n",
       "      <td>-76.925556</td>\n",
       "      <td>http://www.archives.gov/facilities/md/images/m...</td>\n",
       "      <td>National Archives at College Park</td>\n",
       "      <td>1-866-272-6272</td>\n",
       "      <td></td>\n",
       "      <td>Archives</td>\n",
       "      <td></td>\n",
       "      <td>[-76.925556, 38.9975]</td>\n",
       "      <td>Point</td>\n",
       "      <td></td>\n",
       "      <td>2007-02-26</td>\n",
       "      <td></td>\n",
       "      <td></td>\n",
       "      <td></td>\n",
       "    </tr>\n",
       "    <tr>\n",
       "      <th>3</th>\n",
       "      <td>True</td>\n",
       "      <td>Located in Atlanta, Georgia, the Jimmy Carter ...</td>\n",
       "      <td>The Jimmy Carter Library and Museum is located...</td>\n",
       "      <td>carter.library@nara.gov</td>\n",
       "      <td>200004</td>\n",
       "      <td>33.767500</td>\n",
       "      <td>-84.355300</td>\n",
       "      <td>http://www.jimmycarterlibrary.gov/images/map_a...</td>\n",
       "      <td>Jimmy Carter Presidential Library and Museum</td>\n",
       "      <td>(404) 865-7100</td>\n",
       "      <td></td>\n",
       "      <td>Library</td>\n",
       "      <td></td>\n",
       "      <td>[-84.3553, 33.7675]</td>\n",
       "      <td>Point</td>\n",
       "      <td></td>\n",
       "      <td>2007-02-26</td>\n",
       "      <td></td>\n",
       "      <td></td>\n",
       "      <td></td>\n",
       "    </tr>\n",
       "    <tr>\n",
       "      <th>4</th>\n",
       "      <td>True</td>\n",
       "      <td>The Eisenhower Presidential Library is a natio...</td>\n",
       "      <td>Abilene is located on I-70 approximately 150 m...</td>\n",
       "      <td>eisenhower.library@nara.gov</td>\n",
       "      <td>200005</td>\n",
       "      <td>38.943889</td>\n",
       "      <td>-97.219167</td>\n",
       "      <td></td>\n",
       "      <td>Dwight D. Eisenhower Presidential Library and ...</td>\n",
       "      <td>(785) 263-6700</td>\n",
       "      <td></td>\n",
       "      <td>Library</td>\n",
       "      <td></td>\n",
       "      <td>[-97.219167, 38.943889]</td>\n",
       "      <td>Point</td>\n",
       "      <td></td>\n",
       "      <td>2007-02-26</td>\n",
       "      <td></td>\n",
       "      <td></td>\n",
       "      <td></td>\n",
       "    </tr>\n",
       "  </tbody>\n",
       "</table>\n",
       "</div>"
      ],
      "text/plain": [
       "  FacilityAdaAccess                                FacilityDescription  \\\n",
       "0              True  Like the other Presidential Libraries, the Geo...   \n",
       "1              True  The National Archives Building in Washington, ...   \n",
       "2              True  The National Archives at College Park opened f...   \n",
       "3              True  Located in Atlanta, Georgia, the Jimmy Carter ...   \n",
       "4              True  The Eisenhower Presidential Library is a natio...   \n",
       "\n",
       "                                  FacilityDirections  \\\n",
       "0  See the map at <a href=\"http://bushlibrary.tam...   \n",
       "1  The National Archives Building is located betw...   \n",
       "2  From I-495 (The Capital Beltway) take exit 28B...   \n",
       "3  The Jimmy Carter Library and Museum is located...   \n",
       "4  Abilene is located on I-70 approximately 150 m...   \n",
       "\n",
       "                 FacilityEmail  FacilityID  FacilityLatitude  \\\n",
       "0        Library.Bush@nara.gov      200001         30.612222   \n",
       "1                                   200002         38.892778   \n",
       "2                                   200003         38.997500   \n",
       "3     carter.library@nara.gov       200004         33.767500   \n",
       "4  eisenhower.library@nara.gov      200005         38.943889   \n",
       "\n",
       "   FacilityLongitude                                     FacilityMapURL  \\\n",
       "0         -96.331389               http://bushlibrary.tamu.edu/map.html   \n",
       "1         -77.023056  http://www.archives.gov/national_archives_expe...   \n",
       "2         -76.925556  http://www.archives.gov/facilities/md/images/m...   \n",
       "3         -84.355300  http://www.jimmycarterlibrary.gov/images/map_a...   \n",
       "4         -97.219167                                                      \n",
       "\n",
       "                                        FacilityName   FacilityPhone  \\\n",
       "0        George Bush Presidential Library and Museum    979-691-4000   \n",
       "1                         National Archives Building  (866) 272-6272   \n",
       "2                  National Archives at College Park  1-866-272-6272   \n",
       "3       Jimmy Carter Presidential Library and Museum  (404) 865-7100   \n",
       "4  Dwight D. Eisenhower Presidential Library and ...  (785) 263-6700   \n",
       "\n",
       "  FacilityReservationURL FacilityTypeDescription FacilityUseFeeDescription  \\\n",
       "0                                        Library                             \n",
       "1                                       Archives                             \n",
       "2                                       Archives                             \n",
       "3                                        Library                             \n",
       "4                                        Library                             \n",
       "\n",
       "       GEOJSON.COORDINATES GEOJSON.TYPE Keywords LastUpdatedDate  \\\n",
       "0  [-96.331389, 30.612222]        Point               2007-02-26   \n",
       "1  [-77.023056, 38.892778]        Point               2016-03-21   \n",
       "2    [-76.925556, 38.9975]        Point               2007-02-26   \n",
       "3      [-84.3553, 33.7675]        Point               2007-02-26   \n",
       "4  [-97.219167, 38.943889]        Point               2007-02-26   \n",
       "\n",
       "  LegacyFacilityID OrgFacilityID StayLimit  \n",
       "0                                           \n",
       "1                                           \n",
       "2                                           \n",
       "3                                           \n",
       "4                                           "
      ]
     },
     "execution_count": 80,
     "metadata": {},
     "output_type": "execute_result"
    }
   ],
   "source": [
    "ridb.df.head()"
   ]
  },
  {
   "cell_type": "code",
   "execution_count": 81,
   "metadata": {
    "collapsed": false,
    "run_control": {
     "frozen": false,
     "read_only": false
    }
   },
   "outputs": [
    {
     "data": {
      "text/plain": [
       "(50, 20)"
      ]
     },
     "execution_count": 81,
     "metadata": {},
     "output_type": "execute_result"
    }
   ],
   "source": [
    "ridb.df.shape"
   ]
  },
  {
   "cell_type": "markdown",
   "metadata": {
    "run_control": {
     "frozen": false,
     "read_only": false
    }
   },
   "source": [
    "Next, we will remove any entries that dont have a lat/long and clean up empty strings with np.NAN"
   ]
  },
  {
   "cell_type": "code",
   "execution_count": 82,
   "metadata": {
    "collapsed": true,
    "run_control": {
     "frozen": false,
     "read_only": false
    }
   },
   "outputs": [],
   "source": [
    "ridb.clean()"
   ]
  },
  {
   "cell_type": "code",
   "execution_count": 83,
   "metadata": {
    "collapsed": false,
    "run_control": {
     "frozen": false,
     "read_only": false
    }
   },
   "outputs": [
    {
     "data": {
      "text/plain": [
       "FacilityAdaAccess            32\n",
       "FacilityDescription           0\n",
       "FacilityDirections            0\n",
       "FacilityEmail                 3\n",
       "FacilityID                    0\n",
       "Latitude                      0\n",
       "Longitude                     0\n",
       "FacilityMapURL               33\n",
       "FacilityName                  0\n",
       "FacilityPhone                 1\n",
       "FacilityReservationURL       45\n",
       "FacilityTypeDescription      35\n",
       "FacilityUseFeeDescription    41\n",
       "GEOJSON.COORDINATES           0\n",
       "GEOJSON.TYPE                  0\n",
       "Keywords                     43\n",
       "LastUpdatedDate               0\n",
       "LegacyFacilityID             38\n",
       "OrgFacilityID                50\n",
       "StayLimit                    32\n",
       "dtype: int64"
      ]
     },
     "execution_count": 83,
     "metadata": {},
     "output_type": "execute_result"
    }
   ],
   "source": [
    "ridb.df.isnull().sum()"
   ]
  },
  {
   "cell_type": "markdown",
   "metadata": {
    "run_control": {
     "frozen": false,
     "read_only": false
    }
   },
   "source": [
    "Compare the 'FacilityReservationURL' field from above with the cleaned up column below. You'll see 'NaN' after the DataFrame has been cleaned"
   ]
  },
  {
   "cell_type": "code",
   "execution_count": 43,
   "metadata": {
    "collapsed": false,
    "run_control": {
     "frozen": false,
     "read_only": false
    }
   },
   "outputs": [
    {
     "data": {
      "text/html": [
       "<div>\n",
       "<style>\n",
       "    .dataframe thead tr:only-child th {\n",
       "        text-align: right;\n",
       "    }\n",
       "\n",
       "    .dataframe thead th {\n",
       "        text-align: left;\n",
       "    }\n",
       "\n",
       "    .dataframe tbody tr th {\n",
       "        vertical-align: top;\n",
       "    }\n",
       "</style>\n",
       "<table border=\"1\" class=\"dataframe\">\n",
       "  <thead>\n",
       "    <tr style=\"text-align: right;\">\n",
       "      <th></th>\n",
       "      <th>FacilityAdaAccess</th>\n",
       "      <th>FacilityDescription</th>\n",
       "      <th>FacilityDirections</th>\n",
       "      <th>FacilityEmail</th>\n",
       "      <th>FacilityID</th>\n",
       "      <th>Latitude</th>\n",
       "      <th>Longitude</th>\n",
       "      <th>FacilityMapURL</th>\n",
       "      <th>FacilityName</th>\n",
       "      <th>FacilityPhone</th>\n",
       "      <th>FacilityReservationURL</th>\n",
       "      <th>FacilityTypeDescription</th>\n",
       "      <th>FacilityUseFeeDescription</th>\n",
       "      <th>GEOJSON.COORDINATES</th>\n",
       "      <th>GEOJSON.TYPE</th>\n",
       "      <th>Keywords</th>\n",
       "      <th>LastUpdatedDate</th>\n",
       "      <th>LegacyFacilityID</th>\n",
       "      <th>OrgFacilityID</th>\n",
       "      <th>StayLimit</th>\n",
       "    </tr>\n",
       "  </thead>\n",
       "  <tbody>\n",
       "    <tr>\n",
       "      <th>0</th>\n",
       "      <td>True</td>\n",
       "      <td>Like the other Presidential Libraries, the Geo...</td>\n",
       "      <td>See the map at &lt;a href=\"http://bushlibrary.tam...</td>\n",
       "      <td>Library.Bush@nara.gov</td>\n",
       "      <td>200001</td>\n",
       "      <td>30.612222</td>\n",
       "      <td>-96.331389</td>\n",
       "      <td>http://bushlibrary.tamu.edu/map.html</td>\n",
       "      <td>George Bush Presidential Library and Museum</td>\n",
       "      <td>979-691-4000</td>\n",
       "      <td>NaN</td>\n",
       "      <td>Library</td>\n",
       "      <td>NaN</td>\n",
       "      <td>[-96.331389, 30.612222]</td>\n",
       "      <td>Point</td>\n",
       "      <td>NaN</td>\n",
       "      <td>2007-02-26</td>\n",
       "      <td>NaN</td>\n",
       "      <td>NaN</td>\n",
       "      <td>NaN</td>\n",
       "    </tr>\n",
       "    <tr>\n",
       "      <th>1</th>\n",
       "      <td>True</td>\n",
       "      <td>The National Archives Building in Washington, ...</td>\n",
       "      <td>The National Archives Building is located betw...</td>\n",
       "      <td>NaN</td>\n",
       "      <td>200002</td>\n",
       "      <td>38.892778</td>\n",
       "      <td>-77.023056</td>\n",
       "      <td>http://www.archives.gov/national_archives_expe...</td>\n",
       "      <td>National Archives Building</td>\n",
       "      <td>(866) 272-6272</td>\n",
       "      <td>NaN</td>\n",
       "      <td>Archives</td>\n",
       "      <td>NaN</td>\n",
       "      <td>[-77.023056, 38.892778]</td>\n",
       "      <td>Point</td>\n",
       "      <td>NaN</td>\n",
       "      <td>2016-03-21</td>\n",
       "      <td>NaN</td>\n",
       "      <td>NaN</td>\n",
       "      <td>NaN</td>\n",
       "    </tr>\n",
       "    <tr>\n",
       "      <th>2</th>\n",
       "      <td>True</td>\n",
       "      <td>The National Archives at College Park opened f...</td>\n",
       "      <td>From I-495 (The Capital Beltway) take exit 28B...</td>\n",
       "      <td>NaN</td>\n",
       "      <td>200003</td>\n",
       "      <td>38.997500</td>\n",
       "      <td>-76.925556</td>\n",
       "      <td>http://www.archives.gov/facilities/md/images/m...</td>\n",
       "      <td>National Archives at College Park</td>\n",
       "      <td>1-866-272-6272</td>\n",
       "      <td>NaN</td>\n",
       "      <td>Archives</td>\n",
       "      <td>NaN</td>\n",
       "      <td>[-76.925556, 38.9975]</td>\n",
       "      <td>Point</td>\n",
       "      <td>NaN</td>\n",
       "      <td>2007-02-26</td>\n",
       "      <td>NaN</td>\n",
       "      <td>NaN</td>\n",
       "      <td>NaN</td>\n",
       "    </tr>\n",
       "    <tr>\n",
       "      <th>3</th>\n",
       "      <td>True</td>\n",
       "      <td>Located in Atlanta, Georgia, the Jimmy Carter ...</td>\n",
       "      <td>The Jimmy Carter Library and Museum is located...</td>\n",
       "      <td>carter.library@nara.gov</td>\n",
       "      <td>200004</td>\n",
       "      <td>33.767500</td>\n",
       "      <td>-84.355300</td>\n",
       "      <td>http://www.jimmycarterlibrary.gov/images/map_a...</td>\n",
       "      <td>Jimmy Carter Presidential Library and Museum</td>\n",
       "      <td>(404) 865-7100</td>\n",
       "      <td>NaN</td>\n",
       "      <td>Library</td>\n",
       "      <td>NaN</td>\n",
       "      <td>[-84.3553, 33.7675]</td>\n",
       "      <td>Point</td>\n",
       "      <td>NaN</td>\n",
       "      <td>2007-02-26</td>\n",
       "      <td>NaN</td>\n",
       "      <td>NaN</td>\n",
       "      <td>NaN</td>\n",
       "    </tr>\n",
       "    <tr>\n",
       "      <th>4</th>\n",
       "      <td>True</td>\n",
       "      <td>The Eisenhower Presidential Library is a natio...</td>\n",
       "      <td>Abilene is located on I-70 approximately 150 m...</td>\n",
       "      <td>eisenhower.library@nara.gov</td>\n",
       "      <td>200005</td>\n",
       "      <td>38.943889</td>\n",
       "      <td>-97.219167</td>\n",
       "      <td>NaN</td>\n",
       "      <td>Dwight D. Eisenhower Presidential Library and ...</td>\n",
       "      <td>(785) 263-6700</td>\n",
       "      <td>NaN</td>\n",
       "      <td>Library</td>\n",
       "      <td>NaN</td>\n",
       "      <td>[-97.219167, 38.943889]</td>\n",
       "      <td>Point</td>\n",
       "      <td>NaN</td>\n",
       "      <td>2007-02-26</td>\n",
       "      <td>NaN</td>\n",
       "      <td>NaN</td>\n",
       "      <td>NaN</td>\n",
       "    </tr>\n",
       "  </tbody>\n",
       "</table>\n",
       "</div>"
      ],
      "text/plain": [
       "  FacilityAdaAccess                                FacilityDescription  \\\n",
       "0              True  Like the other Presidential Libraries, the Geo...   \n",
       "1              True  The National Archives Building in Washington, ...   \n",
       "2              True  The National Archives at College Park opened f...   \n",
       "3              True  Located in Atlanta, Georgia, the Jimmy Carter ...   \n",
       "4              True  The Eisenhower Presidential Library is a natio...   \n",
       "\n",
       "                                  FacilityDirections  \\\n",
       "0  See the map at <a href=\"http://bushlibrary.tam...   \n",
       "1  The National Archives Building is located betw...   \n",
       "2  From I-495 (The Capital Beltway) take exit 28B...   \n",
       "3  The Jimmy Carter Library and Museum is located...   \n",
       "4  Abilene is located on I-70 approximately 150 m...   \n",
       "\n",
       "                 FacilityEmail  FacilityID   Latitude  Longitude  \\\n",
       "0        Library.Bush@nara.gov      200001  30.612222 -96.331389   \n",
       "1                          NaN      200002  38.892778 -77.023056   \n",
       "2                          NaN      200003  38.997500 -76.925556   \n",
       "3     carter.library@nara.gov       200004  33.767500 -84.355300   \n",
       "4  eisenhower.library@nara.gov      200005  38.943889 -97.219167   \n",
       "\n",
       "                                      FacilityMapURL  \\\n",
       "0               http://bushlibrary.tamu.edu/map.html   \n",
       "1  http://www.archives.gov/national_archives_expe...   \n",
       "2  http://www.archives.gov/facilities/md/images/m...   \n",
       "3  http://www.jimmycarterlibrary.gov/images/map_a...   \n",
       "4                                                NaN   \n",
       "\n",
       "                                        FacilityName   FacilityPhone  \\\n",
       "0        George Bush Presidential Library and Museum    979-691-4000   \n",
       "1                         National Archives Building  (866) 272-6272   \n",
       "2                  National Archives at College Park  1-866-272-6272   \n",
       "3       Jimmy Carter Presidential Library and Museum  (404) 865-7100   \n",
       "4  Dwight D. Eisenhower Presidential Library and ...  (785) 263-6700   \n",
       "\n",
       "  FacilityReservationURL FacilityTypeDescription FacilityUseFeeDescription  \\\n",
       "0                    NaN                 Library                       NaN   \n",
       "1                    NaN                Archives                       NaN   \n",
       "2                    NaN                Archives                       NaN   \n",
       "3                    NaN                 Library                       NaN   \n",
       "4                    NaN                 Library                       NaN   \n",
       "\n",
       "       GEOJSON.COORDINATES GEOJSON.TYPE Keywords LastUpdatedDate  \\\n",
       "0  [-96.331389, 30.612222]        Point      NaN      2007-02-26   \n",
       "1  [-77.023056, 38.892778]        Point      NaN      2016-03-21   \n",
       "2    [-76.925556, 38.9975]        Point      NaN      2007-02-26   \n",
       "3      [-84.3553, 33.7675]        Point      NaN      2007-02-26   \n",
       "4  [-97.219167, 38.943889]        Point      NaN      2007-02-26   \n",
       "\n",
       "  LegacyFacilityID  OrgFacilityID StayLimit  \n",
       "0              NaN            NaN       NaN  \n",
       "1              NaN            NaN       NaN  \n",
       "2              NaN            NaN       NaN  \n",
       "3              NaN            NaN       NaN  \n",
       "4              NaN            NaN       NaN  "
      ]
     },
     "execution_count": 43,
     "metadata": {},
     "output_type": "execute_result"
    }
   ],
   "source": [
    "ridb.df.head()"
   ]
  },
  {
   "cell_type": "markdown",
   "metadata": {
    "run_control": {
     "frozen": false,
     "read_only": false
    }
   },
   "source": [
    "Check the DataFrame shape after running clean to see if any entries were removed due to dropping cells with missing lat/longs. "
   ]
  },
  {
   "cell_type": "code",
   "execution_count": 44,
   "metadata": {
    "collapsed": false,
    "run_control": {
     "frozen": false,
     "read_only": false
    }
   },
   "outputs": [
    {
     "data": {
      "text/plain": [
       "(50, 20)"
      ]
     },
     "execution_count": 44,
     "metadata": {},
     "output_type": "execute_result"
    }
   ],
   "source": [
    "ridb.df.shape"
   ]
  },
  {
   "cell_type": "markdown",
   "metadata": {
    "run_control": {
     "frozen": false,
     "read_only": false
    }
   },
   "source": [
    "Great! We have a RIDB data object, but wouldnt it be easier to just write a function?"
   ]
  },
  {
   "cell_type": "code",
   "execution_count": 45,
   "metadata": {
    "collapsed": true,
    "run_control": {
     "frozen": false,
     "read_only": false
    }
   },
   "outputs": [],
   "source": [
    "def get_ridb_data(endpoint,url_params):\n",
    "    response = requests.get(url = endpoint, params = url_params)\n",
    "    data = json.loads(response.text)\n",
    "    df = json_normalize(data['RECDATA'])\n",
    "    df = df.replace('', np.nan)\n",
    "    df.columns = df.columns.str.replace('.*Latitude', 'Latitude')\n",
    "    df.columns = df.columns.str.replace('.*Longitude', 'Longitude')\n",
    "    df = df.dropna(subset=['Latitude','Longitude'])\n",
    "\n",
    "    return df"
   ]
  },
  {
   "cell_type": "code",
   "execution_count": 16,
   "metadata": {
    "collapsed": false,
    "run_control": {
     "frozen": false,
     "read_only": false
    }
   },
   "outputs": [],
   "source": [
    "ridb_df = get_ridb_data(ridb_facilities_endpoint, ridb_params)"
   ]
  },
  {
   "cell_type": "markdown",
   "metadata": {
    "run_control": {
     "frozen": false,
     "read_only": false
    }
   },
   "source": [
    "Indeed, our function has produced the same result as the object above:"
   ]
  },
  {
   "cell_type": "code",
   "execution_count": 17,
   "metadata": {
    "collapsed": false,
    "run_control": {
     "frozen": false,
     "read_only": false
    }
   },
   "outputs": [
    {
     "data": {
      "text/html": [
       "<div>\n",
       "<style>\n",
       "    .dataframe thead tr:only-child th {\n",
       "        text-align: right;\n",
       "    }\n",
       "\n",
       "    .dataframe thead th {\n",
       "        text-align: left;\n",
       "    }\n",
       "\n",
       "    .dataframe tbody tr th {\n",
       "        vertical-align: top;\n",
       "    }\n",
       "</style>\n",
       "<table border=\"1\" class=\"dataframe\">\n",
       "  <thead>\n",
       "    <tr style=\"text-align: right;\">\n",
       "      <th></th>\n",
       "      <th>FacilityAdaAccess</th>\n",
       "      <th>FacilityDescription</th>\n",
       "      <th>FacilityDirections</th>\n",
       "      <th>FacilityEmail</th>\n",
       "      <th>FacilityID</th>\n",
       "      <th>Latitude</th>\n",
       "      <th>Longitude</th>\n",
       "      <th>FacilityMapURL</th>\n",
       "      <th>FacilityName</th>\n",
       "      <th>FacilityPhone</th>\n",
       "      <th>FacilityReservationURL</th>\n",
       "      <th>FacilityTypeDescription</th>\n",
       "      <th>FacilityUseFeeDescription</th>\n",
       "      <th>GEOJSON.COORDINATES</th>\n",
       "      <th>GEOJSON.TYPE</th>\n",
       "      <th>Keywords</th>\n",
       "      <th>LastUpdatedDate</th>\n",
       "      <th>LegacyFacilityID</th>\n",
       "      <th>OrgFacilityID</th>\n",
       "      <th>StayLimit</th>\n",
       "    </tr>\n",
       "  </thead>\n",
       "  <tbody>\n",
       "    <tr>\n",
       "      <th>0</th>\n",
       "      <td>True</td>\n",
       "      <td>Like the other Presidential Libraries, the Geo...</td>\n",
       "      <td>See the map at &lt;a href=\"http://bushlibrary.tam...</td>\n",
       "      <td>Library.Bush@nara.gov</td>\n",
       "      <td>200001</td>\n",
       "      <td>30.612222</td>\n",
       "      <td>-96.331389</td>\n",
       "      <td>http://bushlibrary.tamu.edu/map.html</td>\n",
       "      <td>George Bush Presidential Library and Museum</td>\n",
       "      <td>979-691-4000</td>\n",
       "      <td>NaN</td>\n",
       "      <td>Library</td>\n",
       "      <td>NaN</td>\n",
       "      <td>[-96.331389, 30.612222]</td>\n",
       "      <td>Point</td>\n",
       "      <td>NaN</td>\n",
       "      <td>2007-02-26</td>\n",
       "      <td>NaN</td>\n",
       "      <td>NaN</td>\n",
       "      <td>NaN</td>\n",
       "    </tr>\n",
       "    <tr>\n",
       "      <th>1</th>\n",
       "      <td>True</td>\n",
       "      <td>The National Archives Building in Washington, ...</td>\n",
       "      <td>The National Archives Building is located betw...</td>\n",
       "      <td>NaN</td>\n",
       "      <td>200002</td>\n",
       "      <td>38.892778</td>\n",
       "      <td>-77.023056</td>\n",
       "      <td>http://www.archives.gov/national_archives_expe...</td>\n",
       "      <td>National Archives Building</td>\n",
       "      <td>(866) 272-6272</td>\n",
       "      <td>NaN</td>\n",
       "      <td>Archives</td>\n",
       "      <td>NaN</td>\n",
       "      <td>[-77.023056, 38.892778]</td>\n",
       "      <td>Point</td>\n",
       "      <td>NaN</td>\n",
       "      <td>2016-03-21</td>\n",
       "      <td>NaN</td>\n",
       "      <td>NaN</td>\n",
       "      <td>NaN</td>\n",
       "    </tr>\n",
       "    <tr>\n",
       "      <th>2</th>\n",
       "      <td>True</td>\n",
       "      <td>The National Archives at College Park opened f...</td>\n",
       "      <td>From I-495 (The Capital Beltway) take exit 28B...</td>\n",
       "      <td>NaN</td>\n",
       "      <td>200003</td>\n",
       "      <td>38.997500</td>\n",
       "      <td>-76.925556</td>\n",
       "      <td>http://www.archives.gov/facilities/md/images/m...</td>\n",
       "      <td>National Archives at College Park</td>\n",
       "      <td>1-866-272-6272</td>\n",
       "      <td>NaN</td>\n",
       "      <td>Archives</td>\n",
       "      <td>NaN</td>\n",
       "      <td>[-76.925556, 38.9975]</td>\n",
       "      <td>Point</td>\n",
       "      <td>NaN</td>\n",
       "      <td>2007-02-26</td>\n",
       "      <td>NaN</td>\n",
       "      <td>NaN</td>\n",
       "      <td>NaN</td>\n",
       "    </tr>\n",
       "    <tr>\n",
       "      <th>3</th>\n",
       "      <td>True</td>\n",
       "      <td>Located in Atlanta, Georgia, the Jimmy Carter ...</td>\n",
       "      <td>The Jimmy Carter Library and Museum is located...</td>\n",
       "      <td>carter.library@nara.gov</td>\n",
       "      <td>200004</td>\n",
       "      <td>33.767500</td>\n",
       "      <td>-84.355300</td>\n",
       "      <td>http://www.jimmycarterlibrary.gov/images/map_a...</td>\n",
       "      <td>Jimmy Carter Presidential Library and Museum</td>\n",
       "      <td>(404) 865-7100</td>\n",
       "      <td>NaN</td>\n",
       "      <td>Library</td>\n",
       "      <td>NaN</td>\n",
       "      <td>[-84.3553, 33.7675]</td>\n",
       "      <td>Point</td>\n",
       "      <td>NaN</td>\n",
       "      <td>2007-02-26</td>\n",
       "      <td>NaN</td>\n",
       "      <td>NaN</td>\n",
       "      <td>NaN</td>\n",
       "    </tr>\n",
       "    <tr>\n",
       "      <th>4</th>\n",
       "      <td>True</td>\n",
       "      <td>The Eisenhower Presidential Library is a natio...</td>\n",
       "      <td>Abilene is located on I-70 approximately 150 m...</td>\n",
       "      <td>eisenhower.library@nara.gov</td>\n",
       "      <td>200005</td>\n",
       "      <td>38.943889</td>\n",
       "      <td>-97.219167</td>\n",
       "      <td>NaN</td>\n",
       "      <td>Dwight D. Eisenhower Presidential Library and ...</td>\n",
       "      <td>(785) 263-6700</td>\n",
       "      <td>NaN</td>\n",
       "      <td>Library</td>\n",
       "      <td>NaN</td>\n",
       "      <td>[-97.219167, 38.943889]</td>\n",
       "      <td>Point</td>\n",
       "      <td>NaN</td>\n",
       "      <td>2007-02-26</td>\n",
       "      <td>NaN</td>\n",
       "      <td>NaN</td>\n",
       "      <td>NaN</td>\n",
       "    </tr>\n",
       "  </tbody>\n",
       "</table>\n",
       "</div>"
      ],
      "text/plain": [
       "  FacilityAdaAccess                                FacilityDescription  \\\n",
       "0              True  Like the other Presidential Libraries, the Geo...   \n",
       "1              True  The National Archives Building in Washington, ...   \n",
       "2              True  The National Archives at College Park opened f...   \n",
       "3              True  Located in Atlanta, Georgia, the Jimmy Carter ...   \n",
       "4              True  The Eisenhower Presidential Library is a natio...   \n",
       "\n",
       "                                  FacilityDirections  \\\n",
       "0  See the map at <a href=\"http://bushlibrary.tam...   \n",
       "1  The National Archives Building is located betw...   \n",
       "2  From I-495 (The Capital Beltway) take exit 28B...   \n",
       "3  The Jimmy Carter Library and Museum is located...   \n",
       "4  Abilene is located on I-70 approximately 150 m...   \n",
       "\n",
       "                 FacilityEmail  FacilityID   Latitude  Longitude  \\\n",
       "0        Library.Bush@nara.gov      200001  30.612222 -96.331389   \n",
       "1                          NaN      200002  38.892778 -77.023056   \n",
       "2                          NaN      200003  38.997500 -76.925556   \n",
       "3     carter.library@nara.gov       200004  33.767500 -84.355300   \n",
       "4  eisenhower.library@nara.gov      200005  38.943889 -97.219167   \n",
       "\n",
       "                                      FacilityMapURL  \\\n",
       "0               http://bushlibrary.tamu.edu/map.html   \n",
       "1  http://www.archives.gov/national_archives_expe...   \n",
       "2  http://www.archives.gov/facilities/md/images/m...   \n",
       "3  http://www.jimmycarterlibrary.gov/images/map_a...   \n",
       "4                                                NaN   \n",
       "\n",
       "                                        FacilityName   FacilityPhone  \\\n",
       "0        George Bush Presidential Library and Museum    979-691-4000   \n",
       "1                         National Archives Building  (866) 272-6272   \n",
       "2                  National Archives at College Park  1-866-272-6272   \n",
       "3       Jimmy Carter Presidential Library and Museum  (404) 865-7100   \n",
       "4  Dwight D. Eisenhower Presidential Library and ...  (785) 263-6700   \n",
       "\n",
       "  FacilityReservationURL FacilityTypeDescription FacilityUseFeeDescription  \\\n",
       "0                    NaN                 Library                       NaN   \n",
       "1                    NaN                Archives                       NaN   \n",
       "2                    NaN                Archives                       NaN   \n",
       "3                    NaN                 Library                       NaN   \n",
       "4                    NaN                 Library                       NaN   \n",
       "\n",
       "       GEOJSON.COORDINATES GEOJSON.TYPE Keywords LastUpdatedDate  \\\n",
       "0  [-96.331389, 30.612222]        Point      NaN      2007-02-26   \n",
       "1  [-77.023056, 38.892778]        Point      NaN      2016-03-21   \n",
       "2    [-76.925556, 38.9975]        Point      NaN      2007-02-26   \n",
       "3      [-84.3553, 33.7675]        Point      NaN      2007-02-26   \n",
       "4  [-97.219167, 38.943889]        Point      NaN      2007-02-26   \n",
       "\n",
       "  LegacyFacilityID  OrgFacilityID StayLimit  \n",
       "0              NaN            NaN       NaN  \n",
       "1              NaN            NaN       NaN  \n",
       "2              NaN            NaN       NaN  \n",
       "3              NaN            NaN       NaN  \n",
       "4              NaN            NaN       NaN  "
      ]
     },
     "execution_count": 17,
     "metadata": {},
     "output_type": "execute_result"
    }
   ],
   "source": [
    "ridb_df.head()"
   ]
  },
  {
   "cell_type": "markdown",
   "metadata": {
    "run_control": {
     "frozen": false,
     "read_only": false
    }
   },
   "source": [
    "Lets create a second function to handle the slightly different clean method needed for media files:"
   ]
  },
  {
   "cell_type": "code",
   "execution_count": 86,
   "metadata": {
    "collapsed": false,
    "run_control": {
     "frozen": false,
     "read_only": false
    }
   },
   "outputs": [],
   "source": [
    "def get_ridb_facility_media(endpoint, url_params):\n",
    "     # endpoint = https://ridb.recreation.gov/api/v1/facilities/facilityID/media/  \n",
    "    response = requests.get(url = endpoint, params = url_params) \n",
    "    data = json.loads(response.text)\n",
    "    df = json_normalize(data['RECDATA'])\n",
    "    df = df[df['MediaType'] == 'Image']\n",
    "    return df"
   ]
  },
  {
   "cell_type": "markdown",
   "metadata": {
    "run_control": {
     "frozen": false,
     "read_only": false
    }
   },
   "source": [
    "The RIDB Media Endpoint is per facility, so we have to provide the facility ID in the endpoint URL:  \n",
    "https://ridb.recreation.gov/api/v1/facilities/{facilityID}/media/  \n",
    "We'll get data for the FacilityID 200006"
   ]
  },
  {
   "cell_type": "code",
   "execution_count": 87,
   "metadata": {
    "collapsed": true,
    "run_control": {
     "frozen": false,
     "read_only": false
    }
   },
   "outputs": [],
   "source": [
    "ridb_media_endpoint = 'https://ridb.recreation.gov/api/v1/facilities/200006/media/'"
   ]
  },
  {
   "cell_type": "code",
   "execution_count": 88,
   "metadata": {
    "collapsed": false,
    "run_control": {
     "frozen": false,
     "read_only": false
    }
   },
   "outputs": [],
   "source": [
    "ridb_df_media = get_ridb_facility_media(ridb_media_endpoint, ridb_params)"
   ]
  },
  {
   "cell_type": "code",
   "execution_count": 89,
   "metadata": {
    "collapsed": false,
    "run_control": {
     "frozen": false,
     "read_only": false
    }
   },
   "outputs": [
    {
     "data": {
      "text/html": [
       "<div>\n",
       "<style>\n",
       "    .dataframe thead tr:only-child th {\n",
       "        text-align: right;\n",
       "    }\n",
       "\n",
       "    .dataframe thead th {\n",
       "        text-align: left;\n",
       "    }\n",
       "\n",
       "    .dataframe tbody tr th {\n",
       "        vertical-align: top;\n",
       "    }\n",
       "</style>\n",
       "<table border=\"1\" class=\"dataframe\">\n",
       "  <thead>\n",
       "    <tr style=\"text-align: right;\">\n",
       "      <th></th>\n",
       "      <th>Credits</th>\n",
       "      <th>Description</th>\n",
       "      <th>EmbedCode</th>\n",
       "      <th>EntityID</th>\n",
       "      <th>EntityMediaID</th>\n",
       "      <th>EntityType</th>\n",
       "      <th>Height</th>\n",
       "      <th>MediaID</th>\n",
       "      <th>MediaType</th>\n",
       "      <th>Subtitle</th>\n",
       "      <th>Title</th>\n",
       "      <th>URL</th>\n",
       "      <th>Width</th>\n",
       "    </tr>\n",
       "  </thead>\n",
       "  <tbody>\n",
       "    <tr>\n",
       "      <th>0</th>\n",
       "      <td></td>\n",
       "      <td></td>\n",
       "      <td></td>\n",
       "      <td>200006</td>\n",
       "      <td>309</td>\n",
       "      <td>Facility</td>\n",
       "      <td>0</td>\n",
       "      <td>0</td>\n",
       "      <td>Image</td>\n",
       "      <td></td>\n",
       "      <td>Gerald Ford Presidential Library</td>\n",
       "      <td>https://ridb.recreation.gov/images/309.jpg</td>\n",
       "      <td>0</td>\n",
       "    </tr>\n",
       "  </tbody>\n",
       "</table>\n",
       "</div>"
      ],
      "text/plain": [
       "  Credits Description EmbedCode  EntityID  EntityMediaID EntityType  Height  \\\n",
       "0                                  200006            309   Facility       0   \n",
       "\n",
       "   MediaID MediaType Subtitle                             Title  \\\n",
       "0        0     Image           Gerald Ford Presidential Library   \n",
       "\n",
       "                                          URL  Width  \n",
       "0  https://ridb.recreation.gov/images/309.jpg      0  "
      ]
     },
     "execution_count": 89,
     "metadata": {},
     "output_type": "execute_result"
    }
   ],
   "source": [
    "ridb_df_media"
   ]
  },
  {
   "cell_type": "markdown",
   "metadata": {
    "run_control": {
     "frozen": false,
     "read_only": false
    }
   },
   "source": [
    "## Extending Objects\n",
    "To accomodate the change in the media object clean method, we can extend the existing RidbData object. All we need to do is provide the new clean method. The rest of the code will be inherited from the RidbData object"
   ]
  },
  {
   "cell_type": "code",
   "execution_count": 90,
   "metadata": {
    "collapsed": true,
    "run_control": {
     "frozen": false,
     "read_only": false
    }
   },
   "outputs": [],
   "source": [
    "class RidbMediaData(RidbData):\n",
    "    def clean(self) :\n",
    "        self.df = self.df[self.df['MediaType'] == 'Image']"
   ]
  },
  {
   "cell_type": "markdown",
   "metadata": {
    "run_control": {
     "frozen": false,
     "read_only": false
    }
   },
   "source": [
    "If we also wanted to enable the RidbMediaData object to fetch all images for a given set of facilities, we could provide a new extract method as well:"
   ]
  },
  {
   "cell_type": "code",
   "execution_count": 92,
   "metadata": {
    "collapsed": false,
    "run_control": {
     "frozen": false,
     "read_only": false
    }
   },
   "outputs": [],
   "source": [
    "class RidbMediaData(RidbData):\n",
    "\n",
    "    def clean(self) :\n",
    "        self.df = self.df[self.df['MediaType'] == 'Image']\n",
    "        \n",
    "    def extract(self):\n",
    "        request_url = self.endpoint\n",
    "        for index, param_set in self.url_params.iterrows():\n",
    "            facility_id = param_set['facilityID']\n",
    "            req_url = self.endpoint + str(facility_id) + \"/media\"\n",
    "\n",
    "            response = requests.get(url=req_url,params=dict(apiKey=param_set['apiKey']))\n",
    "            data = json.loads(response.text)\n",
    "\n",
    "            # append new records to self.df if any exist\n",
    "            if data['RECDATA']:\n",
    "                new_entry = json_normalize(data['RECDATA'])\n",
    "                self.df = self.df.append(new_entry)"
   ]
  },
  {
   "cell_type": "markdown",
   "metadata": {
    "run_control": {
     "frozen": false,
     "read_only": false
    }
   },
   "source": [
    "To use this new method, we would need to make a change to the endpoint and url_params parameters we are passing to the constructor. The params object will now be a DataFrame containing the RIDB API key and the facilityIDs of interest."
   ]
  },
  {
   "cell_type": "code",
   "execution_count": 93,
   "metadata": {
    "collapsed": false,
    "run_control": {
     "frozen": false,
     "read_only": false
    }
   },
   "outputs": [],
   "source": [
    "media_url = 'https://ridb.recreation.gov/api/v1/facilities/'\n",
    "media_params = pd.DataFrame({\n",
    "    'apiKey':\"CBE42AEF8619445F9823241CCB78E219\",\n",
    "    'facilityID':[200001, 200002, 200003, 200004, 200005, 200006, 200007, 200008]\n",
    "    })"
   ]
  },
  {
   "cell_type": "code",
   "execution_count": 94,
   "metadata": {
    "collapsed": false,
    "run_control": {
     "frozen": false,
     "read_only": false
    }
   },
   "outputs": [],
   "source": [
    "ridb_media = RidbMediaData('media', media_url, media_params)"
   ]
  },
  {
   "cell_type": "code",
   "execution_count": 95,
   "metadata": {
    "collapsed": false,
    "run_control": {
     "frozen": false,
     "read_only": false
    }
   },
   "outputs": [],
   "source": [
    "ridb_media.extract()"
   ]
  },
  {
   "cell_type": "markdown",
   "metadata": {
    "run_control": {
     "frozen": false,
     "read_only": false
    }
   },
   "source": [
    "Lets take a look at what we have extracted. Note that EntityID = FacilityID"
   ]
  },
  {
   "cell_type": "code",
   "execution_count": 96,
   "metadata": {
    "collapsed": false,
    "run_control": {
     "frozen": false,
     "read_only": false
    }
   },
   "outputs": [
    {
     "data": {
      "text/html": [
       "<div>\n",
       "<style>\n",
       "    .dataframe thead tr:only-child th {\n",
       "        text-align: right;\n",
       "    }\n",
       "\n",
       "    .dataframe thead th {\n",
       "        text-align: left;\n",
       "    }\n",
       "\n",
       "    .dataframe tbody tr th {\n",
       "        vertical-align: top;\n",
       "    }\n",
       "</style>\n",
       "<table border=\"1\" class=\"dataframe\">\n",
       "  <thead>\n",
       "    <tr style=\"text-align: right;\">\n",
       "      <th></th>\n",
       "      <th>Credits</th>\n",
       "      <th>Description</th>\n",
       "      <th>EmbedCode</th>\n",
       "      <th>EntityID</th>\n",
       "      <th>EntityMediaID</th>\n",
       "      <th>EntityType</th>\n",
       "      <th>Height</th>\n",
       "      <th>MediaID</th>\n",
       "      <th>MediaType</th>\n",
       "      <th>Subtitle</th>\n",
       "      <th>Title</th>\n",
       "      <th>URL</th>\n",
       "      <th>Width</th>\n",
       "    </tr>\n",
       "  </thead>\n",
       "  <tbody>\n",
       "    <tr>\n",
       "      <th>0</th>\n",
       "      <td></td>\n",
       "      <td></td>\n",
       "      <td></td>\n",
       "      <td>200002</td>\n",
       "      <td>283</td>\n",
       "      <td>Facility</td>\n",
       "      <td>0</td>\n",
       "      <td>0</td>\n",
       "      <td>Image</td>\n",
       "      <td></td>\n",
       "      <td>National Archives Building, Washington, DC</td>\n",
       "      <td>https://ridb.recreation.gov/images/283.jpg</td>\n",
       "      <td>0</td>\n",
       "    </tr>\n",
       "    <tr>\n",
       "      <th>0</th>\n",
       "      <td></td>\n",
       "      <td></td>\n",
       "      <td></td>\n",
       "      <td>200003</td>\n",
       "      <td>240</td>\n",
       "      <td>Facility</td>\n",
       "      <td>0</td>\n",
       "      <td>0</td>\n",
       "      <td>Image</td>\n",
       "      <td></td>\n",
       "      <td>NARA's College Park Facility</td>\n",
       "      <td>https://ridb.recreation.gov/images/240.jpg</td>\n",
       "      <td>0</td>\n",
       "    </tr>\n",
       "    <tr>\n",
       "      <th>0</th>\n",
       "      <td></td>\n",
       "      <td></td>\n",
       "      <td></td>\n",
       "      <td>200004</td>\n",
       "      <td>296</td>\n",
       "      <td>Facility</td>\n",
       "      <td>0</td>\n",
       "      <td>0</td>\n",
       "      <td>Image</td>\n",
       "      <td></td>\n",
       "      <td>Entrance to the Carter Presidential Library</td>\n",
       "      <td>https://ridb.recreation.gov/images/296.jpg</td>\n",
       "      <td>0</td>\n",
       "    </tr>\n",
       "    <tr>\n",
       "      <th>0</th>\n",
       "      <td></td>\n",
       "      <td></td>\n",
       "      <td></td>\n",
       "      <td>200006</td>\n",
       "      <td>309</td>\n",
       "      <td>Facility</td>\n",
       "      <td>0</td>\n",
       "      <td>0</td>\n",
       "      <td>Image</td>\n",
       "      <td></td>\n",
       "      <td>Gerald Ford Presidential Library</td>\n",
       "      <td>https://ridb.recreation.gov/images/309.jpg</td>\n",
       "      <td>0</td>\n",
       "    </tr>\n",
       "    <tr>\n",
       "      <th>0</th>\n",
       "      <td></td>\n",
       "      <td></td>\n",
       "      <td></td>\n",
       "      <td>200007</td>\n",
       "      <td>310</td>\n",
       "      <td>Facility</td>\n",
       "      <td>0</td>\n",
       "      <td>0</td>\n",
       "      <td>Image</td>\n",
       "      <td></td>\n",
       "      <td>Gerald R. Ford Presidential Museum</td>\n",
       "      <td>https://ridb.recreation.gov/images/310.jpg</td>\n",
       "      <td>0</td>\n",
       "    </tr>\n",
       "  </tbody>\n",
       "</table>\n",
       "</div>"
      ],
      "text/plain": [
       "  Credits Description EmbedCode  EntityID  EntityMediaID EntityType  Height  \\\n",
       "0                                  200002            283   Facility       0   \n",
       "0                                  200003            240   Facility       0   \n",
       "0                                  200004            296   Facility       0   \n",
       "0                                  200006            309   Facility       0   \n",
       "0                                  200007            310   Facility       0   \n",
       "\n",
       "   MediaID MediaType Subtitle                                        Title  \\\n",
       "0        0     Image            National Archives Building, Washington, DC   \n",
       "0        0     Image                          NARA's College Park Facility   \n",
       "0        0     Image           Entrance to the Carter Presidential Library   \n",
       "0        0     Image                      Gerald Ford Presidential Library   \n",
       "0        0     Image                    Gerald R. Ford Presidential Museum   \n",
       "\n",
       "                                          URL  Width  \n",
       "0  https://ridb.recreation.gov/images/283.jpg      0  \n",
       "0  https://ridb.recreation.gov/images/240.jpg      0  \n",
       "0  https://ridb.recreation.gov/images/296.jpg      0  \n",
       "0  https://ridb.recreation.gov/images/309.jpg      0  \n",
       "0  https://ridb.recreation.gov/images/310.jpg      0  "
      ]
     },
     "execution_count": 96,
     "metadata": {},
     "output_type": "execute_result"
    }
   ],
   "source": [
    "ridb_media.df"
   ]
  },
  {
   "cell_type": "markdown",
   "metadata": {
    "run_control": {
     "frozen": false,
     "read_only": false
    }
   },
   "source": [
    "Run the clean function. It looks like all our media is images, so we dont expect to drop any records in this step"
   ]
  },
  {
   "cell_type": "code",
   "execution_count": 97,
   "metadata": {
    "collapsed": true,
    "run_control": {
     "frozen": false,
     "read_only": false
    }
   },
   "outputs": [],
   "source": [
    "ridb_media.clean()"
   ]
  },
  {
   "cell_type": "code",
   "execution_count": 98,
   "metadata": {
    "collapsed": false,
    "run_control": {
     "frozen": false,
     "read_only": false
    }
   },
   "outputs": [
    {
     "data": {
      "text/html": [
       "<div>\n",
       "<style>\n",
       "    .dataframe thead tr:only-child th {\n",
       "        text-align: right;\n",
       "    }\n",
       "\n",
       "    .dataframe thead th {\n",
       "        text-align: left;\n",
       "    }\n",
       "\n",
       "    .dataframe tbody tr th {\n",
       "        vertical-align: top;\n",
       "    }\n",
       "</style>\n",
       "<table border=\"1\" class=\"dataframe\">\n",
       "  <thead>\n",
       "    <tr style=\"text-align: right;\">\n",
       "      <th></th>\n",
       "      <th>Credits</th>\n",
       "      <th>Description</th>\n",
       "      <th>EmbedCode</th>\n",
       "      <th>EntityID</th>\n",
       "      <th>EntityMediaID</th>\n",
       "      <th>EntityType</th>\n",
       "      <th>Height</th>\n",
       "      <th>MediaID</th>\n",
       "      <th>MediaType</th>\n",
       "      <th>Subtitle</th>\n",
       "      <th>Title</th>\n",
       "      <th>URL</th>\n",
       "      <th>Width</th>\n",
       "    </tr>\n",
       "  </thead>\n",
       "  <tbody>\n",
       "    <tr>\n",
       "      <th>0</th>\n",
       "      <td></td>\n",
       "      <td></td>\n",
       "      <td></td>\n",
       "      <td>200002</td>\n",
       "      <td>283</td>\n",
       "      <td>Facility</td>\n",
       "      <td>0</td>\n",
       "      <td>0</td>\n",
       "      <td>Image</td>\n",
       "      <td></td>\n",
       "      <td>National Archives Building, Washington, DC</td>\n",
       "      <td>https://ridb.recreation.gov/images/283.jpg</td>\n",
       "      <td>0</td>\n",
       "    </tr>\n",
       "    <tr>\n",
       "      <th>0</th>\n",
       "      <td></td>\n",
       "      <td></td>\n",
       "      <td></td>\n",
       "      <td>200003</td>\n",
       "      <td>240</td>\n",
       "      <td>Facility</td>\n",
       "      <td>0</td>\n",
       "      <td>0</td>\n",
       "      <td>Image</td>\n",
       "      <td></td>\n",
       "      <td>NARA's College Park Facility</td>\n",
       "      <td>https://ridb.recreation.gov/images/240.jpg</td>\n",
       "      <td>0</td>\n",
       "    </tr>\n",
       "    <tr>\n",
       "      <th>0</th>\n",
       "      <td></td>\n",
       "      <td></td>\n",
       "      <td></td>\n",
       "      <td>200004</td>\n",
       "      <td>296</td>\n",
       "      <td>Facility</td>\n",
       "      <td>0</td>\n",
       "      <td>0</td>\n",
       "      <td>Image</td>\n",
       "      <td></td>\n",
       "      <td>Entrance to the Carter Presidential Library</td>\n",
       "      <td>https://ridb.recreation.gov/images/296.jpg</td>\n",
       "      <td>0</td>\n",
       "    </tr>\n",
       "    <tr>\n",
       "      <th>0</th>\n",
       "      <td></td>\n",
       "      <td></td>\n",
       "      <td></td>\n",
       "      <td>200006</td>\n",
       "      <td>309</td>\n",
       "      <td>Facility</td>\n",
       "      <td>0</td>\n",
       "      <td>0</td>\n",
       "      <td>Image</td>\n",
       "      <td></td>\n",
       "      <td>Gerald Ford Presidential Library</td>\n",
       "      <td>https://ridb.recreation.gov/images/309.jpg</td>\n",
       "      <td>0</td>\n",
       "    </tr>\n",
       "    <tr>\n",
       "      <th>0</th>\n",
       "      <td></td>\n",
       "      <td></td>\n",
       "      <td></td>\n",
       "      <td>200007</td>\n",
       "      <td>310</td>\n",
       "      <td>Facility</td>\n",
       "      <td>0</td>\n",
       "      <td>0</td>\n",
       "      <td>Image</td>\n",
       "      <td></td>\n",
       "      <td>Gerald R. Ford Presidential Museum</td>\n",
       "      <td>https://ridb.recreation.gov/images/310.jpg</td>\n",
       "      <td>0</td>\n",
       "    </tr>\n",
       "  </tbody>\n",
       "</table>\n",
       "</div>"
      ],
      "text/plain": [
       "  Credits Description EmbedCode  EntityID  EntityMediaID EntityType  Height  \\\n",
       "0                                  200002            283   Facility       0   \n",
       "0                                  200003            240   Facility       0   \n",
       "0                                  200004            296   Facility       0   \n",
       "0                                  200006            309   Facility       0   \n",
       "0                                  200007            310   Facility       0   \n",
       "\n",
       "   MediaID MediaType Subtitle                                        Title  \\\n",
       "0        0     Image            National Archives Building, Washington, DC   \n",
       "0        0     Image                          NARA's College Park Facility   \n",
       "0        0     Image           Entrance to the Carter Presidential Library   \n",
       "0        0     Image                      Gerald Ford Presidential Library   \n",
       "0        0     Image                    Gerald R. Ford Presidential Museum   \n",
       "\n",
       "                                          URL  Width  \n",
       "0  https://ridb.recreation.gov/images/283.jpg      0  \n",
       "0  https://ridb.recreation.gov/images/240.jpg      0  \n",
       "0  https://ridb.recreation.gov/images/296.jpg      0  \n",
       "0  https://ridb.recreation.gov/images/309.jpg      0  \n",
       "0  https://ridb.recreation.gov/images/310.jpg      0  "
      ]
     },
     "execution_count": 98,
     "metadata": {},
     "output_type": "execute_result"
    }
   ],
   "source": [
    "ridb_media.df"
   ]
  },
  {
   "cell_type": "markdown",
   "metadata": {
    "run_control": {
     "frozen": false,
     "read_only": false
    }
   },
   "source": [
    "### Putting it all together\n",
    "Now that we have Ridb Data objects with the same interface we can use them to create a data extraction pipeline in just two lines!   \n",
    "First we will setup our endpoints and objects"
   ]
  },
  {
   "cell_type": "code",
   "execution_count": 30,
   "metadata": {
    "collapsed": false,
    "run_control": {
     "frozen": false,
     "read_only": false
    }
   },
   "outputs": [],
   "source": [
    "facilities_endpoint = 'https://ridb.recreation.gov/api/v1/facilities/'\n",
    "recareas_endpoint = 'https://ridb.recreation.gov/api/v1/recareas'\n",
    "key_dict = dict(apiKey = \"CBE42AEF8619445F9823241CCB78E219\")\n",
    "facilities = RidbData('facilities', facilities_endpoint, key_dict)\n",
    "recareas = RidbData('recareas', recareas_endpoint, key_dict)\n",
    "facility_media = RidbMediaData('facilitymedia', facilities_endpoint, media_params) \n",
    "\n",
    "ridb_data = [facilities,recareas,facility_media]"
   ]
  },
  {
   "cell_type": "markdown",
   "metadata": {
    "run_control": {
     "frozen": false,
     "read_only": false
    }
   },
   "source": [
    "Here we go - because our objects have the same interface, we can execute their methods within an array of like objects"
   ]
  },
  {
   "cell_type": "code",
   "execution_count": 31,
   "metadata": {
    "collapsed": false,
    "run_control": {
     "frozen": false,
     "read_only": false
    }
   },
   "outputs": [
    {
     "data": {
      "text/plain": [
       "[None, None, None]"
      ]
     },
     "execution_count": 31,
     "metadata": {},
     "output_type": "execute_result"
    }
   ],
   "source": [
    "# clean and extract all the RIDB data\n",
    "list(map(lambda x: x.extract(), ridb_data))\n",
    "list(map(lambda x: x.clean(), ridb_data))"
   ]
  },
  {
   "cell_type": "markdown",
   "metadata": {
    "run_control": {
     "frozen": false,
     "read_only": false
    }
   },
   "source": [
    "All done! lets check out the cleaned data"
   ]
  },
  {
   "cell_type": "code",
   "execution_count": 102,
   "metadata": {
    "collapsed": false,
    "run_control": {
     "frozen": false,
     "read_only": false
    }
   },
   "outputs": [
    {
     "data": {
      "text/plain": [
       "(50, 20)"
      ]
     },
     "execution_count": 102,
     "metadata": {},
     "output_type": "execute_result"
    }
   ],
   "source": [
    "facilities.df.shape"
   ]
  },
  {
   "cell_type": "code",
   "execution_count": 32,
   "metadata": {
    "collapsed": false,
    "run_control": {
     "frozen": false,
     "read_only": false
    }
   },
   "outputs": [
    {
     "data": {
      "text/html": [
       "<div>\n",
       "<style>\n",
       "    .dataframe thead tr:only-child th {\n",
       "        text-align: right;\n",
       "    }\n",
       "\n",
       "    .dataframe thead th {\n",
       "        text-align: left;\n",
       "    }\n",
       "\n",
       "    .dataframe tbody tr th {\n",
       "        vertical-align: top;\n",
       "    }\n",
       "</style>\n",
       "<table border=\"1\" class=\"dataframe\">\n",
       "  <thead>\n",
       "    <tr style=\"text-align: right;\">\n",
       "      <th></th>\n",
       "      <th>FacilityAdaAccess</th>\n",
       "      <th>FacilityDescription</th>\n",
       "      <th>FacilityDirections</th>\n",
       "      <th>FacilityEmail</th>\n",
       "      <th>FacilityID</th>\n",
       "      <th>Latitude</th>\n",
       "      <th>Longitude</th>\n",
       "      <th>FacilityMapURL</th>\n",
       "      <th>FacilityName</th>\n",
       "      <th>FacilityPhone</th>\n",
       "      <th>FacilityReservationURL</th>\n",
       "      <th>FacilityTypeDescription</th>\n",
       "      <th>FacilityUseFeeDescription</th>\n",
       "      <th>GEOJSON.COORDINATES</th>\n",
       "      <th>GEOJSON.TYPE</th>\n",
       "      <th>Keywords</th>\n",
       "      <th>LastUpdatedDate</th>\n",
       "      <th>LegacyFacilityID</th>\n",
       "      <th>OrgFacilityID</th>\n",
       "      <th>StayLimit</th>\n",
       "    </tr>\n",
       "  </thead>\n",
       "  <tbody>\n",
       "    <tr>\n",
       "      <th>0</th>\n",
       "      <td>True</td>\n",
       "      <td>Like the other Presidential Libraries, the Geo...</td>\n",
       "      <td>See the map at &lt;a href=\"http://bushlibrary.tam...</td>\n",
       "      <td>Library.Bush@nara.gov</td>\n",
       "      <td>200001</td>\n",
       "      <td>30.612222</td>\n",
       "      <td>-96.331389</td>\n",
       "      <td>http://bushlibrary.tamu.edu/map.html</td>\n",
       "      <td>George Bush Presidential Library and Museum</td>\n",
       "      <td>979-691-4000</td>\n",
       "      <td>NaN</td>\n",
       "      <td>Library</td>\n",
       "      <td>NaN</td>\n",
       "      <td>[-96.331389, 30.612222]</td>\n",
       "      <td>Point</td>\n",
       "      <td>NaN</td>\n",
       "      <td>2007-02-26</td>\n",
       "      <td>NaN</td>\n",
       "      <td>NaN</td>\n",
       "      <td>NaN</td>\n",
       "    </tr>\n",
       "    <tr>\n",
       "      <th>1</th>\n",
       "      <td>True</td>\n",
       "      <td>The National Archives Building in Washington, ...</td>\n",
       "      <td>The National Archives Building is located betw...</td>\n",
       "      <td>NaN</td>\n",
       "      <td>200002</td>\n",
       "      <td>38.892778</td>\n",
       "      <td>-77.023056</td>\n",
       "      <td>http://www.archives.gov/national_archives_expe...</td>\n",
       "      <td>National Archives Building</td>\n",
       "      <td>(866) 272-6272</td>\n",
       "      <td>NaN</td>\n",
       "      <td>Archives</td>\n",
       "      <td>NaN</td>\n",
       "      <td>[-77.023056, 38.892778]</td>\n",
       "      <td>Point</td>\n",
       "      <td>NaN</td>\n",
       "      <td>2016-03-21</td>\n",
       "      <td>NaN</td>\n",
       "      <td>NaN</td>\n",
       "      <td>NaN</td>\n",
       "    </tr>\n",
       "    <tr>\n",
       "      <th>2</th>\n",
       "      <td>True</td>\n",
       "      <td>The National Archives at College Park opened f...</td>\n",
       "      <td>From I-495 (The Capital Beltway) take exit 28B...</td>\n",
       "      <td>NaN</td>\n",
       "      <td>200003</td>\n",
       "      <td>38.997500</td>\n",
       "      <td>-76.925556</td>\n",
       "      <td>http://www.archives.gov/facilities/md/images/m...</td>\n",
       "      <td>National Archives at College Park</td>\n",
       "      <td>1-866-272-6272</td>\n",
       "      <td>NaN</td>\n",
       "      <td>Archives</td>\n",
       "      <td>NaN</td>\n",
       "      <td>[-76.925556, 38.9975]</td>\n",
       "      <td>Point</td>\n",
       "      <td>NaN</td>\n",
       "      <td>2007-02-26</td>\n",
       "      <td>NaN</td>\n",
       "      <td>NaN</td>\n",
       "      <td>NaN</td>\n",
       "    </tr>\n",
       "    <tr>\n",
       "      <th>3</th>\n",
       "      <td>True</td>\n",
       "      <td>Located in Atlanta, Georgia, the Jimmy Carter ...</td>\n",
       "      <td>The Jimmy Carter Library and Museum is located...</td>\n",
       "      <td>carter.library@nara.gov</td>\n",
       "      <td>200004</td>\n",
       "      <td>33.767500</td>\n",
       "      <td>-84.355300</td>\n",
       "      <td>http://www.jimmycarterlibrary.gov/images/map_a...</td>\n",
       "      <td>Jimmy Carter Presidential Library and Museum</td>\n",
       "      <td>(404) 865-7100</td>\n",
       "      <td>NaN</td>\n",
       "      <td>Library</td>\n",
       "      <td>NaN</td>\n",
       "      <td>[-84.3553, 33.7675]</td>\n",
       "      <td>Point</td>\n",
       "      <td>NaN</td>\n",
       "      <td>2007-02-26</td>\n",
       "      <td>NaN</td>\n",
       "      <td>NaN</td>\n",
       "      <td>NaN</td>\n",
       "    </tr>\n",
       "    <tr>\n",
       "      <th>4</th>\n",
       "      <td>True</td>\n",
       "      <td>The Eisenhower Presidential Library is a natio...</td>\n",
       "      <td>Abilene is located on I-70 approximately 150 m...</td>\n",
       "      <td>eisenhower.library@nara.gov</td>\n",
       "      <td>200005</td>\n",
       "      <td>38.943889</td>\n",
       "      <td>-97.219167</td>\n",
       "      <td>NaN</td>\n",
       "      <td>Dwight D. Eisenhower Presidential Library and ...</td>\n",
       "      <td>(785) 263-6700</td>\n",
       "      <td>NaN</td>\n",
       "      <td>Library</td>\n",
       "      <td>NaN</td>\n",
       "      <td>[-97.219167, 38.943889]</td>\n",
       "      <td>Point</td>\n",
       "      <td>NaN</td>\n",
       "      <td>2007-02-26</td>\n",
       "      <td>NaN</td>\n",
       "      <td>NaN</td>\n",
       "      <td>NaN</td>\n",
       "    </tr>\n",
       "  </tbody>\n",
       "</table>\n",
       "</div>"
      ],
      "text/plain": [
       "  FacilityAdaAccess                                FacilityDescription  \\\n",
       "0              True  Like the other Presidential Libraries, the Geo...   \n",
       "1              True  The National Archives Building in Washington, ...   \n",
       "2              True  The National Archives at College Park opened f...   \n",
       "3              True  Located in Atlanta, Georgia, the Jimmy Carter ...   \n",
       "4              True  The Eisenhower Presidential Library is a natio...   \n",
       "\n",
       "                                  FacilityDirections  \\\n",
       "0  See the map at <a href=\"http://bushlibrary.tam...   \n",
       "1  The National Archives Building is located betw...   \n",
       "2  From I-495 (The Capital Beltway) take exit 28B...   \n",
       "3  The Jimmy Carter Library and Museum is located...   \n",
       "4  Abilene is located on I-70 approximately 150 m...   \n",
       "\n",
       "                 FacilityEmail  FacilityID   Latitude  Longitude  \\\n",
       "0        Library.Bush@nara.gov      200001  30.612222 -96.331389   \n",
       "1                          NaN      200002  38.892778 -77.023056   \n",
       "2                          NaN      200003  38.997500 -76.925556   \n",
       "3     carter.library@nara.gov       200004  33.767500 -84.355300   \n",
       "4  eisenhower.library@nara.gov      200005  38.943889 -97.219167   \n",
       "\n",
       "                                      FacilityMapURL  \\\n",
       "0               http://bushlibrary.tamu.edu/map.html   \n",
       "1  http://www.archives.gov/national_archives_expe...   \n",
       "2  http://www.archives.gov/facilities/md/images/m...   \n",
       "3  http://www.jimmycarterlibrary.gov/images/map_a...   \n",
       "4                                                NaN   \n",
       "\n",
       "                                        FacilityName   FacilityPhone  \\\n",
       "0        George Bush Presidential Library and Museum    979-691-4000   \n",
       "1                         National Archives Building  (866) 272-6272   \n",
       "2                  National Archives at College Park  1-866-272-6272   \n",
       "3       Jimmy Carter Presidential Library and Museum  (404) 865-7100   \n",
       "4  Dwight D. Eisenhower Presidential Library and ...  (785) 263-6700   \n",
       "\n",
       "  FacilityReservationURL FacilityTypeDescription FacilityUseFeeDescription  \\\n",
       "0                    NaN                 Library                       NaN   \n",
       "1                    NaN                Archives                       NaN   \n",
       "2                    NaN                Archives                       NaN   \n",
       "3                    NaN                 Library                       NaN   \n",
       "4                    NaN                 Library                       NaN   \n",
       "\n",
       "       GEOJSON.COORDINATES GEOJSON.TYPE Keywords LastUpdatedDate  \\\n",
       "0  [-96.331389, 30.612222]        Point      NaN      2007-02-26   \n",
       "1  [-77.023056, 38.892778]        Point      NaN      2016-03-21   \n",
       "2    [-76.925556, 38.9975]        Point      NaN      2007-02-26   \n",
       "3      [-84.3553, 33.7675]        Point      NaN      2007-02-26   \n",
       "4  [-97.219167, 38.943889]        Point      NaN      2007-02-26   \n",
       "\n",
       "  LegacyFacilityID  OrgFacilityID StayLimit  \n",
       "0              NaN            NaN       NaN  \n",
       "1              NaN            NaN       NaN  \n",
       "2              NaN            NaN       NaN  \n",
       "3              NaN            NaN       NaN  \n",
       "4              NaN            NaN       NaN  "
      ]
     },
     "execution_count": 32,
     "metadata": {},
     "output_type": "execute_result"
    }
   ],
   "source": [
    "facilities.df.head()"
   ]
  },
  {
   "cell_type": "code",
   "execution_count": 103,
   "metadata": {
    "collapsed": false,
    "run_control": {
     "frozen": false,
     "read_only": false
    }
   },
   "outputs": [
    {
     "data": {
      "text/plain": [
       "(50, 17)"
      ]
     },
     "execution_count": 103,
     "metadata": {},
     "output_type": "execute_result"
    }
   ],
   "source": [
    "recareas.df.shape"
   ]
  },
  {
   "cell_type": "code",
   "execution_count": 33,
   "metadata": {
    "collapsed": false,
    "run_control": {
     "frozen": false,
     "read_only": false
    }
   },
   "outputs": [
    {
     "data": {
      "text/html": [
       "<div>\n",
       "<style>\n",
       "    .dataframe thead tr:only-child th {\n",
       "        text-align: right;\n",
       "    }\n",
       "\n",
       "    .dataframe thead th {\n",
       "        text-align: left;\n",
       "    }\n",
       "\n",
       "    .dataframe tbody tr th {\n",
       "        vertical-align: top;\n",
       "    }\n",
       "</style>\n",
       "<table border=\"1\" class=\"dataframe\">\n",
       "  <thead>\n",
       "    <tr style=\"text-align: right;\">\n",
       "      <th></th>\n",
       "      <th>GEOJSON.COORDINATES</th>\n",
       "      <th>GEOJSON.TYPE</th>\n",
       "      <th>Keywords</th>\n",
       "      <th>LastUpdatedDate</th>\n",
       "      <th>OrgRecAreaID</th>\n",
       "      <th>RecAreaDescription</th>\n",
       "      <th>RecAreaDirections</th>\n",
       "      <th>RecAreaEmail</th>\n",
       "      <th>RecAreaFeeDescription</th>\n",
       "      <th>RecAreaID</th>\n",
       "      <th>Latitude</th>\n",
       "      <th>Longitude</th>\n",
       "      <th>RecAreaMapURL</th>\n",
       "      <th>RecAreaName</th>\n",
       "      <th>RecAreaPhone</th>\n",
       "      <th>RecAreaReservationURL</th>\n",
       "      <th>StayLimit</th>\n",
       "    </tr>\n",
       "  </thead>\n",
       "  <tbody>\n",
       "    <tr>\n",
       "      <th>0</th>\n",
       "      <td>[-111.87832, 33.63307]</td>\n",
       "      <td>Point</td>\n",
       "      <td>NaN</td>\n",
       "      <td>2015-05-01</td>\n",
       "      <td>NaN</td>\n",
       "      <td>WestWorld is located in north Scottsdale at th...</td>\n",
       "      <td>Area is north of Frank Lloyd Wright Boulevard ...</td>\n",
       "      <td>NaN</td>\n",
       "      <td>NaN</td>\n",
       "      <td>4</td>\n",
       "      <td>33.63307</td>\n",
       "      <td>-111.87832</td>\n",
       "      <td>NaN</td>\n",
       "      <td>WestWorld</td>\n",
       "      <td>480-312-6802</td>\n",
       "      <td>NaN</td>\n",
       "      <td>NaN</td>\n",
       "    </tr>\n",
       "    <tr>\n",
       "      <th>1</th>\n",
       "      <td>[-112.32155, 33.86337]</td>\n",
       "      <td>Point</td>\n",
       "      <td>NaN</td>\n",
       "      <td>2016-12-15</td>\n",
       "      <td>NaN</td>\n",
       "      <td>This newly expanded reservoir has 114 miles of...</td>\n",
       "      <td>Site is about 30 miles from Phoenix, Arizona. ...</td>\n",
       "      <td>lakepleasant@mail.maricopa.gov</td>\n",
       "      <td>NaN</td>\n",
       "      <td>6</td>\n",
       "      <td>33.86337</td>\n",
       "      <td>-112.32155</td>\n",
       "      <td>http://www.maricopa.gov/parks/lake_pleasant/im...</td>\n",
       "      <td>Lake Pleasant</td>\n",
       "      <td>602-372-7460</td>\n",
       "      <td>NaN</td>\n",
       "      <td>NaN</td>\n",
       "    </tr>\n",
       "    <tr>\n",
       "      <th>2</th>\n",
       "      <td>[-105.86078, 40.2168]</td>\n",
       "      <td>Point</td>\n",
       "      <td>NaN</td>\n",
       "      <td>2015-05-01</td>\n",
       "      <td>NaN</td>\n",
       "      <td>&lt;A HREF=\"http://www.usbr.gov/dataweb/dams/co01...</td>\n",
       "      <td>North from Granby, Colorado on U.S. 34.</td>\n",
       "      <td>NaN</td>\n",
       "      <td>NaN</td>\n",
       "      <td>9</td>\n",
       "      <td>40.21680</td>\n",
       "      <td>-105.86078</td>\n",
       "      <td>NaN</td>\n",
       "      <td>Shadow Mountain Lake</td>\n",
       "      <td>970-887-4100</td>\n",
       "      <td>NaN</td>\n",
       "      <td>NaN</td>\n",
       "    </tr>\n",
       "    <tr>\n",
       "      <th>3</th>\n",
       "      <td>[-147.214, 65.546]</td>\n",
       "      <td>Point</td>\n",
       "      <td>NaN</td>\n",
       "      <td>2017-06-29</td>\n",
       "      <td>NaN</td>\n",
       "      <td>Located just an hour's drive from Fairbanks, A...</td>\n",
       "      <td>Begin your trip at the BLM office or the Alask...</td>\n",
       "      <td>EasternInterior@blm.gov</td>\n",
       "      <td>NaN</td>\n",
       "      <td>10</td>\n",
       "      <td>65.54600</td>\n",
       "      <td>-147.21400</td>\n",
       "      <td>www.blm.gov/maps</td>\n",
       "      <td>White Mountains National Recreation Area</td>\n",
       "      <td>800-437-7021 or 907-474-2200</td>\n",
       "      <td>https://www.recreation.gov/camping/white-moun...</td>\n",
       "      <td>10 days</td>\n",
       "    </tr>\n",
       "    <tr>\n",
       "      <th>4</th>\n",
       "      <td>[-121.16976, 38.70519]</td>\n",
       "      <td>Point</td>\n",
       "      <td>NaN</td>\n",
       "      <td>2016-11-14</td>\n",
       "      <td>NaN</td>\n",
       "      <td>Recreation at Folsom Reservoir is managed by t...</td>\n",
       "      <td>Folsom Lake is located 20 miles northeast of S...</td>\n",
       "      <td>plucero@mp.usbr.gov</td>\n",
       "      <td>NaN</td>\n",
       "      <td>11</td>\n",
       "      <td>38.70519</td>\n",
       "      <td>-121.16976</td>\n",
       "      <td>NaN</td>\n",
       "      <td>Folsom Lake</td>\n",
       "      <td>916-988-0205</td>\n",
       "      <td>NaN</td>\n",
       "      <td>NaN</td>\n",
       "    </tr>\n",
       "  </tbody>\n",
       "</table>\n",
       "</div>"
      ],
      "text/plain": [
       "      GEOJSON.COORDINATES GEOJSON.TYPE  Keywords LastUpdatedDate  \\\n",
       "0  [-111.87832, 33.63307]        Point       NaN      2015-05-01   \n",
       "1  [-112.32155, 33.86337]        Point       NaN      2016-12-15   \n",
       "2   [-105.86078, 40.2168]        Point       NaN      2015-05-01   \n",
       "3      [-147.214, 65.546]        Point       NaN      2017-06-29   \n",
       "4  [-121.16976, 38.70519]        Point       NaN      2016-11-14   \n",
       "\n",
       "   OrgRecAreaID                                 RecAreaDescription  \\\n",
       "0           NaN  WestWorld is located in north Scottsdale at th...   \n",
       "1           NaN  This newly expanded reservoir has 114 miles of...   \n",
       "2           NaN  <A HREF=\"http://www.usbr.gov/dataweb/dams/co01...   \n",
       "3           NaN  Located just an hour's drive from Fairbanks, A...   \n",
       "4           NaN  Recreation at Folsom Reservoir is managed by t...   \n",
       "\n",
       "                                   RecAreaDirections  \\\n",
       "0  Area is north of Frank Lloyd Wright Boulevard ...   \n",
       "1  Site is about 30 miles from Phoenix, Arizona. ...   \n",
       "2            North from Granby, Colorado on U.S. 34.   \n",
       "3  Begin your trip at the BLM office or the Alask...   \n",
       "4  Folsom Lake is located 20 miles northeast of S...   \n",
       "\n",
       "                     RecAreaEmail RecAreaFeeDescription  RecAreaID  Latitude  \\\n",
       "0                             NaN                   NaN          4  33.63307   \n",
       "1  lakepleasant@mail.maricopa.gov                   NaN          6  33.86337   \n",
       "2                             NaN                   NaN          9  40.21680   \n",
       "3         EasternInterior@blm.gov                   NaN         10  65.54600   \n",
       "4             plucero@mp.usbr.gov                   NaN         11  38.70519   \n",
       "\n",
       "   Longitude                                      RecAreaMapURL  \\\n",
       "0 -111.87832                                                NaN   \n",
       "1 -112.32155  http://www.maricopa.gov/parks/lake_pleasant/im...   \n",
       "2 -105.86078                                                NaN   \n",
       "3 -147.21400                                   www.blm.gov/maps   \n",
       "4 -121.16976                                                NaN   \n",
       "\n",
       "                                RecAreaName                  RecAreaPhone  \\\n",
       "0                                 WestWorld                  480-312-6802   \n",
       "1                             Lake Pleasant                  602-372-7460   \n",
       "2                      Shadow Mountain Lake                  970-887-4100   \n",
       "3  White Mountains National Recreation Area  800-437-7021 or 907-474-2200   \n",
       "4                               Folsom Lake                  916-988-0205   \n",
       "\n",
       "                               RecAreaReservationURL StayLimit  \n",
       "0                                                NaN       NaN  \n",
       "1                                                NaN       NaN  \n",
       "2                                                NaN       NaN  \n",
       "3   https://www.recreation.gov/camping/white-moun...   10 days  \n",
       "4                                                NaN       NaN  "
      ]
     },
     "execution_count": 33,
     "metadata": {},
     "output_type": "execute_result"
    }
   ],
   "source": [
    "recareas.df.head()"
   ]
  },
  {
   "cell_type": "code",
   "execution_count": 104,
   "metadata": {
    "collapsed": false,
    "run_control": {
     "frozen": false,
     "read_only": false
    }
   },
   "outputs": [
    {
     "data": {
      "text/plain": [
       "(5, 13)"
      ]
     },
     "execution_count": 104,
     "metadata": {},
     "output_type": "execute_result"
    }
   ],
   "source": [
    "facility_media.df.shape"
   ]
  },
  {
   "cell_type": "code",
   "execution_count": 100,
   "metadata": {
    "collapsed": false,
    "run_control": {
     "frozen": false,
     "read_only": false
    }
   },
   "outputs": [
    {
     "data": {
      "text/html": [
       "<div>\n",
       "<style>\n",
       "    .dataframe thead tr:only-child th {\n",
       "        text-align: right;\n",
       "    }\n",
       "\n",
       "    .dataframe thead th {\n",
       "        text-align: left;\n",
       "    }\n",
       "\n",
       "    .dataframe tbody tr th {\n",
       "        vertical-align: top;\n",
       "    }\n",
       "</style>\n",
       "<table border=\"1\" class=\"dataframe\">\n",
       "  <thead>\n",
       "    <tr style=\"text-align: right;\">\n",
       "      <th></th>\n",
       "      <th>Credits</th>\n",
       "      <th>Description</th>\n",
       "      <th>EmbedCode</th>\n",
       "      <th>EntityID</th>\n",
       "      <th>EntityMediaID</th>\n",
       "      <th>EntityType</th>\n",
       "      <th>Height</th>\n",
       "      <th>MediaID</th>\n",
       "      <th>MediaType</th>\n",
       "      <th>Subtitle</th>\n",
       "      <th>Title</th>\n",
       "      <th>URL</th>\n",
       "      <th>Width</th>\n",
       "    </tr>\n",
       "  </thead>\n",
       "  <tbody>\n",
       "    <tr>\n",
       "      <th>0</th>\n",
       "      <td></td>\n",
       "      <td></td>\n",
       "      <td></td>\n",
       "      <td>200002</td>\n",
       "      <td>283</td>\n",
       "      <td>Facility</td>\n",
       "      <td>0</td>\n",
       "      <td>0</td>\n",
       "      <td>Image</td>\n",
       "      <td></td>\n",
       "      <td>National Archives Building, Washington, DC</td>\n",
       "      <td>https://ridb.recreation.gov/images/283.jpg</td>\n",
       "      <td>0</td>\n",
       "    </tr>\n",
       "    <tr>\n",
       "      <th>0</th>\n",
       "      <td></td>\n",
       "      <td></td>\n",
       "      <td></td>\n",
       "      <td>200003</td>\n",
       "      <td>240</td>\n",
       "      <td>Facility</td>\n",
       "      <td>0</td>\n",
       "      <td>0</td>\n",
       "      <td>Image</td>\n",
       "      <td></td>\n",
       "      <td>NARA's College Park Facility</td>\n",
       "      <td>https://ridb.recreation.gov/images/240.jpg</td>\n",
       "      <td>0</td>\n",
       "    </tr>\n",
       "    <tr>\n",
       "      <th>0</th>\n",
       "      <td></td>\n",
       "      <td></td>\n",
       "      <td></td>\n",
       "      <td>200004</td>\n",
       "      <td>296</td>\n",
       "      <td>Facility</td>\n",
       "      <td>0</td>\n",
       "      <td>0</td>\n",
       "      <td>Image</td>\n",
       "      <td></td>\n",
       "      <td>Entrance to the Carter Presidential Library</td>\n",
       "      <td>https://ridb.recreation.gov/images/296.jpg</td>\n",
       "      <td>0</td>\n",
       "    </tr>\n",
       "    <tr>\n",
       "      <th>0</th>\n",
       "      <td></td>\n",
       "      <td></td>\n",
       "      <td></td>\n",
       "      <td>200006</td>\n",
       "      <td>309</td>\n",
       "      <td>Facility</td>\n",
       "      <td>0</td>\n",
       "      <td>0</td>\n",
       "      <td>Image</td>\n",
       "      <td></td>\n",
       "      <td>Gerald Ford Presidential Library</td>\n",
       "      <td>https://ridb.recreation.gov/images/309.jpg</td>\n",
       "      <td>0</td>\n",
       "    </tr>\n",
       "    <tr>\n",
       "      <th>0</th>\n",
       "      <td></td>\n",
       "      <td></td>\n",
       "      <td></td>\n",
       "      <td>200007</td>\n",
       "      <td>310</td>\n",
       "      <td>Facility</td>\n",
       "      <td>0</td>\n",
       "      <td>0</td>\n",
       "      <td>Image</td>\n",
       "      <td></td>\n",
       "      <td>Gerald R. Ford Presidential Museum</td>\n",
       "      <td>https://ridb.recreation.gov/images/310.jpg</td>\n",
       "      <td>0</td>\n",
       "    </tr>\n",
       "  </tbody>\n",
       "</table>\n",
       "</div>"
      ],
      "text/plain": [
       "  Credits Description EmbedCode  EntityID  EntityMediaID EntityType  Height  \\\n",
       "0                                  200002            283   Facility       0   \n",
       "0                                  200003            240   Facility       0   \n",
       "0                                  200004            296   Facility       0   \n",
       "0                                  200006            309   Facility       0   \n",
       "0                                  200007            310   Facility       0   \n",
       "\n",
       "   MediaID MediaType Subtitle                                        Title  \\\n",
       "0        0     Image            National Archives Building, Washington, DC   \n",
       "0        0     Image                          NARA's College Park Facility   \n",
       "0        0     Image           Entrance to the Carter Presidential Library   \n",
       "0        0     Image                      Gerald Ford Presidential Library   \n",
       "0        0     Image                    Gerald R. Ford Presidential Museum   \n",
       "\n",
       "                                          URL  Width  \n",
       "0  https://ridb.recreation.gov/images/283.jpg      0  \n",
       "0  https://ridb.recreation.gov/images/240.jpg      0  \n",
       "0  https://ridb.recreation.gov/images/296.jpg      0  \n",
       "0  https://ridb.recreation.gov/images/309.jpg      0  \n",
       "0  https://ridb.recreation.gov/images/310.jpg      0  "
      ]
     },
     "execution_count": 100,
     "metadata": {},
     "output_type": "execute_result"
    }
   ],
   "source": [
    "facility_media.df.head()"
   ]
  }
 ],
 "metadata": {
  "kernelspec": {
   "display_name": "Python 3",
   "language": "python",
   "name": "python3"
  },
  "language_info": {
   "codemirror_mode": {
    "name": "ipython",
    "version": 3
   },
   "file_extension": ".py",
   "mimetype": "text/x-python",
   "name": "python",
   "nbconvert_exporter": "python",
   "pygments_lexer": "ipython3",
   "version": "3.6.0"
  }
 },
 "nbformat": 4,
 "nbformat_minor": 0
}
