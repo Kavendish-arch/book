{
 "cells": [
  {
   "cell_type": "markdown",
   "metadata": {
    "run_control": {
     "frozen": false,
     "read_only": false
    }
   },
   "source": [
    "## Quiz 1\n",
    "\n",
    "Use Python `list` as a *stack* and complete the following tasks.\n",
    "\n",
    "### Task 1: Infix to Postfix\n",
    "\n",
    "Write a function to convert a infix string into a postfix string. For this quiz, you may assume the string only contains **numbers** and the following operator:\n",
    "\n",
    "- `*, /`\n",
    "- `+, -`\n",
    "- `(`, `)`\n",
    "\n",
    "The precedence is from the highest to lowest."
   ]
  },
  {
   "cell_type": "code",
   "execution_count": 1,
   "metadata": {
    "collapsed": true,
    "run_control": {
     "frozen": false,
     "read_only": false
    }
   },
   "outputs": [],
   "source": [
    "def infix_to_postfix(infix: str) -> str:\n",
    "    # Remove all white space\n",
    "    infix = ''.join([c for c in infix if c != ' '])\n",
    "\n",
    "    stk = []\n",
    "    out = ''\n",
    "\n",
    "    for c in infix:\n",
    "        if c.isdigit():  # if c is an operand\n",
    "            out += c\n",
    "        elif c in '*/+-':  # if c is an operator\n",
    "            # pop all op with higher precedence\n",
    "            high_pre_op = '*/+-' if c in '+-' else '*/'\n",
    "            while stk and stk[-1] in high_pre_op:\n",
    "                out += stk.pop()\n",
    "            stk.append(c)\n",
    "        elif c == '(':\n",
    "            stk.append(c)\n",
    "        else:\n",
    "            # pop until '('\n",
    "            while stk[-1] != '(':\n",
    "                out += stk.pop()\n",
    "            stk.pop()\n",
    "\n",
    "    while stk:\n",
    "        out += stk.pop()\n",
    "\n",
    "    return out"
   ]
  },
  {
   "cell_type": "code",
   "execution_count": 7,
   "metadata": {
    "collapsed": false,
    "run_control": {
     "frozen": false,
     "read_only": false
    }
   },
   "outputs": [
    {
     "data": {
      "text/plain": [
       "'2532*+1+3/-'"
      ]
     },
     "execution_count": 7,
     "metadata": {},
     "output_type": "execute_result"
    }
   ],
   "source": [
    "infix_to_postfix('2 - ( 5 + 3 * 2 + 1 ) / 3')"
   ]
  },
  {
   "cell_type": "markdown",
   "metadata": {
    "run_control": {
     "frozen": false,
     "read_only": false
    }
   },
   "source": [
    "## Task 2: Evaluate Postfix String\n",
    "\n",
    "Write a function to evaluate a postfix string we get from previous quiz and output the numeric result."
   ]
  },
  {
   "cell_type": "code",
   "execution_count": 5,
   "metadata": {
    "collapsed": true,
    "run_control": {
     "frozen": false,
     "read_only": false
    }
   },
   "outputs": [],
   "source": [
    "def eval_postfix(postfix: str):\n",
    "    \n",
    "    def compute(op, op1, op2):\n",
    "        if op == '+':\n",
    "            return op1 + op2\n",
    "        elif op == '-':\n",
    "            return op1 - op2\n",
    "        elif op == '*':\n",
    "            return op1 * op2\n",
    "        else:\n",
    "            return op1 / op2\n",
    "        \n",
    "    # Remove all white space\n",
    "    postfix = ''.join([c for c in postfix if c != ' '])\n",
    "    \n",
    "    stk = []\n",
    "    for c in postfix:\n",
    "        if c.isdigit():\n",
    "            stk.append(int(c))\n",
    "        else:\n",
    "            op2 = stk.pop()\n",
    "            op1 = stk.pop()\n",
    "            stk.append(compute(c, op1, op2))\n",
    "    return stk.pop()"
   ]
  },
  {
   "cell_type": "code",
   "execution_count": 6,
   "metadata": {
    "collapsed": false,
    "run_control": {
     "frozen": false,
     "read_only": false
    }
   },
   "outputs": [
    {
     "data": {
      "text/plain": [
       "-2.0"
      ]
     },
     "execution_count": 6,
     "metadata": {},
     "output_type": "execute_result"
    }
   ],
   "source": [
    "eval_postfix('2532*+1+3/-')"
   ]
  },
  {
   "cell_type": "markdown",
   "metadata": {
    "run_control": {
     "frozen": false,
     "read_only": false
    }
   },
   "source": [
    "## Quiz 2\n",
    "\n",
    "Create a class named `OrderedLinkedList` that inherit from `LinkedList` class we defined in the class. Your new class should keep all element in the list ordered from the **smallest** to the **largest**.\n",
    "\n",
    "You class should have the following methods:\n",
    "\n",
    "1. Initialize (empty/from list)\n",
    "2. `isEmpty`\n",
    "3. `add(val)`\n",
    "4. `remove(val)`\n",
    "5. `__str__`\n",
    "6. `__repr__`\n",
    "7. `index`\n",
    "8. `in`\n",
    "9. `insert(idx, val)`\n",
    "10. `len`\n",
    "\n",
    "> Think about which methods you can keep un-touched."
   ]
  },
  {
   "cell_type": "code",
   "execution_count": 46,
   "metadata": {
    "collapsed": true,
    "run_control": {
     "frozen": false,
     "read_only": false
    }
   },
   "outputs": [],
   "source": [
    "# Import LinkedList and Node\n",
    "from linked_list import *\n",
    "\n",
    "class OrderedLinkedList(LinkedList):\n",
    "    def add(self, val):\n",
    "        p = self.head\n",
    "        \n",
    "        if not p:\n",
    "            self.head = Node(val, None)\n",
    "        elif p.val > val:\n",
    "            self.head = Node(val, p)\n",
    "        else:\n",
    "            # Locate node before the position to insert\n",
    "            while p.next and p.next.val < val:\n",
    "                p = p.next\n",
    "            p.next = Node(val, p.next)\n",
    "    \n",
    "    def insert(self, idx, val):\n",
    "        # ignore idx\n",
    "        self.add(val)"
   ]
  },
  {
   "cell_type": "code",
   "execution_count": 48,
   "metadata": {
    "collapsed": false,
    "run_control": {
     "frozen": false,
     "read_only": false
    }
   },
   "outputs": [
    {
     "name": "stdout",
     "output_type": "stream",
     "text": [
      "-> 1 -> 3 -> 4 -> 5 -> None\n",
      "-> 1 -> 2 -> 3 -> 4 -> 5 -> None\n",
      "-> 1 -> 2 -> 4 -> 5 -> None\n"
     ]
    }
   ],
   "source": [
    "# Test Cases\n",
    "ol = OrderedLinkedList([5,3,1,4])\n",
    "print(ol)\n",
    "ol.add(2)\n",
    "print(ol)\n",
    "ol.remove(3)\n",
    "print(ol)"
   ]
  },
  {
   "cell_type": "markdown",
   "metadata": {
    "run_control": {
     "frozen": false,
     "read_only": false
    }
   },
   "source": [
    "**Expected**:\n",
    "\n",
    "`-> 1 -> 3 -> 4 -> 5 -> None` <br>\n",
    "`-> 1 -> 2 -> 3 -> 4 -> 5 -> None` <br>\n",
    "`-> 1 -> 2 -> 4 -> 5 -> None`"
   ]
  }
 ],
 "metadata": {
  "kernelspec": {
   "display_name": "Python 3",
   "language": "python",
   "name": "python3"
  },
  "language_info": {
   "codemirror_mode": {
    "name": "ipython",
    "version": 3
   },
   "file_extension": ".py",
   "mimetype": "text/x-python",
   "name": "python",
   "nbconvert_exporter": "python",
   "pygments_lexer": "ipython3",
   "version": "3.6.0"
  }
 },
 "nbformat": 4,
 "nbformat_minor": 2
}
