{
 "cells": [
  {
   "cell_type": "markdown",
   "metadata": {},
   "source": [
    "## 动手写代码"
   ]
  },
  {
   "cell_type": "markdown",
   "metadata": {},
   "source": [
    "Create a class named `Point` with following attributes:\n",
    "\n",
    "- x: float\n",
    "- y: float\n",
    "\n",
    "and following methods:\n",
    "\n",
    "- `__str__()`: return a `str`, e.g.: `(1.0, 2.0)`\n",
    "- `__repr__()`: return a `str`, e.g.: `Point(1.0, 2.0)`"
   ]
  },
  {
   "cell_type": "code",
   "execution_count": null,
   "metadata": {
    "collapsed": true
   },
   "outputs": [],
   "source": [
    "\n",
    "\n",
    "\n"
   ]
  },
  {
   "cell_type": "code",
   "execution_count": null,
   "metadata": {
    "collapsed": true
   },
   "outputs": [],
   "source": [
    "p = Point(1.0, 2.0)\n",
    "print(p)\n",
    "p"
   ]
  },
  {
   "cell_type": "markdown",
   "metadata": {},
   "source": [
    "**Exptected**:\n",
    "\n",
    "`(1.0, 2.0)` <br>\n",
    "`Point(1.0, 2.0)`"
   ]
  },
  {
   "cell_type": "markdown",
   "metadata": {},
   "source": [
    "### Create a class named `Circle` with the following attributes:\n",
    "\n",
    "- `center：Point`\n",
    "- `radius: float`\n",
    "\n",
    "and following methods:\n",
    "\n",
    "- `__str__()`: return `str` like `Circle at (1.0, 2.0), r = 5.0`\n",
    "- `__repr__()`: return `str` like `Cricle(center=Point(1.0, 2.0), r=5.0)`"
   ]
  },
  {
   "cell_type": "code",
   "execution_count": null,
   "metadata": {
    "collapsed": true
   },
   "outputs": [],
   "source": [
    "\n",
    "\n",
    "\n",
    "\n"
   ]
  },
  {
   "cell_type": "code",
   "execution_count": null,
   "metadata": {
    "collapsed": true
   },
   "outputs": [],
   "source": [
    "# Test Case\n",
    "c = Circle(center=Point(1.0, 2.0), radius=5.0)\n",
    "print(c)\n",
    "c"
   ]
  },
  {
   "cell_type": "markdown",
   "metadata": {},
   "source": [
    "**Expected**:\n",
    "\n",
    "`Circle at (1.0, 2.0), r = 5.0` <br>\n",
    "`Circle(center=(1.0, 2.0), r=5.0)`"
   ]
  },
  {
   "cell_type": "markdown",
   "metadata": {},
   "source": [
    "### Create a new class named `Triangle` with the following attributes:\n",
    "\n",
    "- `vertx：tuple of Point`\n",
    "\n",
    "and following methods:\n",
    "\n",
    "- `__str__()`: return `str` like `Triangle at ((0.0, 0.0), (0.0, 10.0), (5.0, 5.0))`\n",
    "- `__repr__()`: return `str` like `Triangle(vertx=(Point(0.0, 0.0), Point(0.0, 10.0), Point(5.0, 5.0)))`\n",
    "\n",
    "and computing attributes:\n",
    "\n",
    "- `area`\n",
    "\n",
    "**Hint**:\n",
    "\n",
    "You may want to use the following formulat to calculate the area of a triangle:\n",
    "\n",
    "$$\n",
    "area = \\left| \\frac{A_x(B_y-C_y) + B_x(C_y-A_y) + C_x(A_y-B_y)}{2} \\right|\n",
    "$$"
   ]
  },
  {
   "cell_type": "code",
   "execution_count": null,
   "metadata": {
    "collapsed": true
   },
   "outputs": [],
   "source": [
    "\n",
    "\n",
    "\n",
    "\n",
    "\n"
   ]
  },
  {
   "cell_type": "markdown",
   "metadata": {},
   "source": [
    "<span style=\"color:red\">**Tips:**</span>\n",
    "\n",
    "Note that in this line:\n",
    "\n",
    "```python\n",
    "'Triangle at (%s, %s, %s)' % self.vertx\n",
    "```\n",
    "\n",
    "Here `self.vertx` will provide the tuple that is requested from the format string."
   ]
  },
  {
   "cell_type": "code",
   "execution_count": null,
   "metadata": {
    "collapsed": true
   },
   "outputs": [],
   "source": [
    "# Test Case\n",
    "vertx = (Point(0.0, 0.0), Point(0.0, 10.0), Point(5.0, 5.0))\n",
    "t = Triangle(vertx)\n",
    "print(t)\n",
    "print(repr(t))\n",
    "print('Area =', t.area)"
   ]
  },
  {
   "cell_type": "markdown",
   "metadata": {},
   "source": [
    "**Expected**:\n",
    "\n",
    "`Triangle at ((0.0, 0.0), (0.0, 10.0), (5.0, 5.0))` <br>\n",
    "`Tirangle(vertx=(Point(0.0, 0.0), Point(0.0, 10.0), Point(5.0, 5.0)))` <br>\n",
    "`Area = 25.0`"
   ]
  },
  {
   "cell_type": "markdown",
   "metadata": {},
   "source": [
    "### Create a function named `getArea` that takes an object and return the `area` of that object."
   ]
  },
  {
   "cell_type": "code",
   "execution_count": null,
   "metadata": {
    "collapsed": true
   },
   "outputs": [],
   "source": [
    "\n",
    "\n",
    "\n"
   ]
  },
  {
   "cell_type": "code",
   "execution_count": null,
   "metadata": {
    "collapsed": true
   },
   "outputs": [],
   "source": [
    "shapes = [\n",
    "    Circle(Point(1.0, 2.0), 5.0),\n",
    "    Triangle((Point(0.0, 0.0), Point(0.0, 10.0), Point(5.0, 5.0))),\n",
    "    Circle(Point(1.0, 2.0), 10.0)\n",
    "]\n",
    "\n",
    "for shape in shapes:\n",
    "    print('Area of %s is:\\t%.2f' % (type(shape).__name__, get_area(shape)))"
   ]
  },
  {
   "cell_type": "markdown",
   "metadata": {},
   "source": [
    "**Exptected**:\n",
    "\n",
    "`Area of Circle is:     78.54` <br>\n",
    "`Area of Triangle is:   25.00` <br>\n",
    "`Area of Circle is:     314.16`"
   ]
  },
  {
   "cell_type": "markdown",
   "metadata": {},
   "source": [
    "### create a class named `EquilateralTriangle` that *inherit* from `Triangle`. Do the following update:\n",
    "\n",
    "Add a computing attribute:\n",
    "\n",
    "- `center: Point`\n",
    "\n",
    "Override the following methods:\n",
    "\n",
    "- `__str__()`: `Equilateral Triangle at ((0.0, 0.0), (0.0, 10.0), (5.0, 5.0))`\n",
    "- `__repr__()`: `EquilateralTirangle(vertx=(Point(0.0, 0.0), Point(0.0, 10.0), Point(5.0, 5.0)))`"
   ]
  },
  {
   "cell_type": "code",
   "execution_count": null,
   "metadata": {
    "collapsed": true
   },
   "outputs": [],
   "source": [
    "\n",
    "\n",
    "\n",
    "\n",
    "\n"
   ]
  },
  {
   "cell_type": "markdown",
   "metadata": {},
   "source": [
    "<span style=\"color:red\">**Tips:**</span>\n",
    "\n",
    "1. Using methods from parent is recommended here to save some typing."
   ]
  },
  {
   "cell_type": "code",
   "execution_count": null,
   "metadata": {
    "collapsed": true
   },
   "outputs": [],
   "source": [
    "import math\n",
    "vertx = (Point(-5.0, 0.0), Point(0.0, 5.0 * math.sqrt(3.0)), Point(5.0, 0.0))\n",
    "et = EquilateralTriangle(vertx)\n",
    "print(et)\n",
    "print(repr(et))\n",
    "print('Center =', et.center)"
   ]
  },
  {
   "cell_type": "markdown",
   "metadata": {},
   "source": [
    "**Expected**:\n",
    "\n",
    "`Equilateral Triangle at ((-5.0, 0.0), (0.0, 8.660254037844386), (5.0, 0.0))` <br>\n",
    "`EquilateralTirangle(vertx=(Point(-5.0, 0.0), Point(0.0, 8.660254037844386), Point(5.0, 0.0)))` <br>\n",
    "`Center = (0.0, 2.8867513459481287)`"
   ]
  },
  {
   "cell_type": "markdown",
   "metadata": {
    "run_control": {
     "frozen": false,
     "read_only": false
    }
   },
   "source": [
    "Use Python `list` as a *stack* and complete the following tasks.\n",
    "\n",
    "### Task 1: Infix to Postfix\n",
    "\n",
    "Write a function to convert a infix string into a postfix string. For this quiz, you may assume the string only contains **numbers** and the following operator:\n",
    "\n",
    "- `*, /`\n",
    "- `+, -`\n",
    "- `(`, `)`\n",
    "\n",
    "The precedence is from the highest to lowest."
   ]
  },
  {
   "cell_type": "markdown",
   "metadata": {},
   "source": [
    "'2 - ( 5 + 3 * 2 + 1 ) / 3'"
   ]
  },
  {
   "cell_type": "code",
   "execution_count": 3,
   "metadata": {},
   "outputs": [
    {
     "data": {
      "text/plain": [
       "6"
      ]
     },
     "execution_count": 3,
     "metadata": {},
     "output_type": "execute_result"
    }
   ],
   "source": [
    "[1,2,3,4,5,6][-1]"
   ]
  },
  {
   "cell_type": "code",
   "execution_count": 7,
   "metadata": {},
   "outputs": [
    {
     "data": {
      "text/plain": [
       "'*/'"
      ]
     },
     "execution_count": 7,
     "metadata": {},
     "output_type": "execute_result"
    }
   ],
   "source": [
    "c = '*'\n",
    "high_pre_op = '*/+-' if  c in '+-' else '*/'\n",
    "high_pre_op"
   ]
  },
  {
   "cell_type": "code",
   "execution_count": 1,
   "metadata": {
    "collapsed": true,
    "run_control": {
     "frozen": false,
     "read_only": false
    }
   },
   "outputs": [],
   "source": [
    "def infix_to_postfix(infix: str) -> str:\n",
    "    #your code\n",
    "    infix = ''.join([c for c in infix if c!=' '])\n",
    "    stk = []\n",
    "    out = ''\n",
    "    \n",
    "    for c in infix:\n",
    "        if c.isdigit():\n",
    "            out +=c\n",
    "        elif c in '*/+-':\n",
    "            # pop all op with higher precedence\n",
    "            high_pre_op = '*/+-' if  c in '+-' else '*/'\n",
    "            while stk and stk[-1] in high_pre_op:\n",
    "                out +=stk.pop()\n",
    "            stk.append(c)    \n",
    "        elif c == '(':\n",
    "            stk.append(c)\n",
    "        \n",
    "    \n",
    "    print(infix)\n",
    "    return out"
   ]
  },
  {
   "cell_type": "code",
   "execution_count": 2,
   "metadata": {
    "run_control": {
     "frozen": false,
     "read_only": false
    }
   },
   "outputs": [
    {
     "name": "stdout",
     "output_type": "stream",
     "text": [
      "2-(5+3*2+1)/3\n"
     ]
    },
    {
     "ename": "NameError",
     "evalue": "name 'out' is not defined",
     "output_type": "error",
     "traceback": [
      "\u001b[1;31m---------------------------------------------------------------------------\u001b[0m",
      "\u001b[1;31mNameError\u001b[0m                                 Traceback (most recent call last)",
      "\u001b[1;32m<ipython-input-2-5cb5050cb2b1>\u001b[0m in \u001b[0;36m<module>\u001b[1;34m()\u001b[0m\n\u001b[1;32m----> 1\u001b[1;33m \u001b[0minfix_to_postfix\u001b[0m\u001b[1;33m(\u001b[0m\u001b[1;34m'2 - ( 5 + 3 * 2 + 1 ) / 3'\u001b[0m\u001b[1;33m)\u001b[0m\u001b[1;33m\u001b[0m\u001b[0m\n\u001b[0m",
      "\u001b[1;32m<ipython-input-1-b5bd5f6f0a38>\u001b[0m in \u001b[0;36minfix_to_postfix\u001b[1;34m(infix)\u001b[0m\n\u001b[0;32m      3\u001b[0m     \u001b[0minfix\u001b[0m \u001b[1;33m=\u001b[0m \u001b[1;34m''\u001b[0m\u001b[1;33m.\u001b[0m\u001b[0mjoin\u001b[0m\u001b[1;33m(\u001b[0m\u001b[1;33m[\u001b[0m\u001b[0mc\u001b[0m \u001b[1;32mfor\u001b[0m \u001b[0mc\u001b[0m \u001b[1;32min\u001b[0m \u001b[0minfix\u001b[0m \u001b[1;32mif\u001b[0m \u001b[0mc\u001b[0m\u001b[1;33m!=\u001b[0m\u001b[1;34m' '\u001b[0m\u001b[1;33m]\u001b[0m\u001b[1;33m)\u001b[0m\u001b[1;33m\u001b[0m\u001b[0m\n\u001b[0;32m      4\u001b[0m     \u001b[0mprint\u001b[0m\u001b[1;33m(\u001b[0m\u001b[0minfix\u001b[0m\u001b[1;33m)\u001b[0m\u001b[1;33m\u001b[0m\u001b[0m\n\u001b[1;32m----> 5\u001b[1;33m     \u001b[1;32mreturn\u001b[0m \u001b[0mout\u001b[0m\u001b[1;33m\u001b[0m\u001b[0m\n\u001b[0m",
      "\u001b[1;31mNameError\u001b[0m: name 'out' is not defined"
     ]
    }
   ],
   "source": [
    "infix_to_postfix('2 - ( 5 + 3 * 2 + 1 ) / 3')"
   ]
  },
  {
   "cell_type": "markdown",
   "metadata": {
    "run_control": {
     "frozen": false,
     "read_only": false
    }
   },
   "source": [
    "## Task 2: Evaluate Postfix String\n",
    "\n",
    "Write a function to evaluate a postfix string we get from previous quiz and output the numeric result."
   ]
  },
  {
   "cell_type": "code",
   "execution_count": null,
   "metadata": {
    "code_folding": [],
    "collapsed": true,
    "run_control": {
     "frozen": false,
     "read_only": false
    }
   },
   "outputs": [],
   "source": [
    "def eval_postfix(postfix: str):\n",
    "    \n",
    "    def compute(op, op1, op2):\n",
    "        if op == '+':\n",
    "            return op1 + op2\n",
    "        elif op == '-':\n",
    "            return op1 - op2\n",
    "        elif op == '*':\n",
    "            return op1 * op2\n",
    "        else:\n",
    "            return op1 / op2\n",
    "        \n",
    "    # your code\n",
    "    return stk.pop()"
   ]
  },
  {
   "cell_type": "code",
   "execution_count": null,
   "metadata": {
    "collapsed": true,
    "run_control": {
     "frozen": false,
     "read_only": false
    }
   },
   "outputs": [],
   "source": [
    "eval_postfix('2532*+1+3/-')"
   ]
  },
  {
   "cell_type": "markdown",
   "metadata": {
    "run_control": {
     "frozen": false,
     "read_only": false
    }
   },
   "source": [
    "## Quiz 2\n",
    "\n",
    "Create a class named `OrderedLinkedList` that inherit from `LinkedList` class we defined in the class. Your new class should keep all element in the list ordered from the **smallest** to the **largest**.\n",
    "\n",
    "You class should have the following methods:\n",
    "\n",
    "1. Initialize (empty/from list)\n",
    "2. `isEmpty`\n",
    "3. `add(val)`\n",
    "4. `remove(val)`\n",
    "5. `__str__`\n",
    "6. `__repr__`\n",
    "7. `index`\n",
    "8. `in`\n",
    "9. `insert(idx, val)`\n",
    "10. `len`\n",
    "\n",
    "> Think about which methods you can keep un-touched."
   ]
  },
  {
   "cell_type": "code",
   "execution_count": null,
   "metadata": {
    "collapsed": true,
    "run_control": {
     "frozen": false,
     "read_only": false
    }
   },
   "outputs": [],
   "source": [
    "# Import LinkedList and Node\n",
    "from linked_list import *\n",
    "\n",
    "class OrderedLinkedList(LinkedList):\n",
    "    def add(self, val):\n",
    "        pass\n",
    "    \n",
    "    def insert(self, idx, val):\n",
    "        pass"
   ]
  },
  {
   "cell_type": "code",
   "execution_count": null,
   "metadata": {
    "collapsed": true,
    "run_control": {
     "frozen": false,
     "read_only": false
    }
   },
   "outputs": [],
   "source": [
    "# Test Cases\n",
    "ol = OrderedLinkedList([5,3,1,4])\n",
    "print(ol)\n",
    "ol.add(2)\n",
    "print(ol)\n",
    "ol.remove(3)\n",
    "print(ol)"
   ]
  },
  {
   "cell_type": "markdown",
   "metadata": {
    "run_control": {
     "frozen": false,
     "read_only": false
    }
   },
   "source": [
    "**Expected**:\n",
    "\n",
    "`-> 1 -> 3 -> 4 -> 5 -> None` <br>\n",
    "`-> 1 -> 2 -> 3 -> 4 -> 5 -> None` <br>\n",
    "`-> 1 -> 2 -> 4 -> 5 -> None`"
   ]
  }
 ],
 "metadata": {
  "kernelspec": {
   "display_name": "Python 3",
   "language": "python",
   "name": "python3"
  },
  "language_info": {
   "codemirror_mode": {
    "name": "ipython",
    "version": 3
   },
   "file_extension": ".py",
   "mimetype": "text/x-python",
   "name": "python",
   "nbconvert_exporter": "python",
   "pygments_lexer": "ipython3",
   "version": "3.6.3"
  }
 },
 "nbformat": 4,
 "nbformat_minor": 2
}
