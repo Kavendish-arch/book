{
 "cells": [
  {
   "cell_type": "code",
   "execution_count": 16,
   "metadata": {
    "collapsed": true,
    "run_control": {
     "frozen": false,
     "read_only": false
    }
   },
   "outputs": [],
   "source": [
    "import requests\n",
    "import random"
   ]
  },
  {
   "cell_type": "code",
   "execution_count": 8,
   "metadata": {
    "collapsed": true,
    "run_control": {
     "frozen": false,
     "read_only": false
    }
   },
   "outputs": [],
   "source": [
    "url = 'http://www.tuling123.com/openapi/api'\n",
    "reps = requests.post(url, data={'key': \"39b51776a5ed4171858d2783503cce6f\",'userid':\"187017\",\"info\":\"北京天气\"})"
   ]
  },
  {
   "cell_type": "code",
   "execution_count": 9,
   "metadata": {
    "collapsed": false,
    "run_control": {
     "frozen": false,
     "read_only": false
    }
   },
   "outputs": [
    {
     "name": "stdout",
     "output_type": "stream",
     "text": [
      "{'code': 100000, 'text': '北京:周二 12月12日 (实时：-6℃),多云 东北风微风,最低气温2度，最高气温7度'}\n"
     ]
    }
   ],
   "source": [
    "print(reps.json())"
   ]
  },
  {
   "cell_type": "code",
   "execution_count": 21,
   "metadata": {
    "collapsed": true,
    "run_control": {
     "frozen": false,
     "read_only": false
    }
   },
   "outputs": [],
   "source": [
    "    def angelapper_tuling(word):\n",
    "        url = 'http://www.tuling123.com/openapi/api'\n",
    "        try:\n",
    "            r = requests.post(url, data={\n",
    "                'key': \"39b51776a5ed4171858d2783503cce6f\",\n",
    "                'userid':\"187017\",\"info\":word})\n",
    "#            ans = r.json()  \n",
    "            return  r.text\n",
    "        except:\n",
    "            return \"自动回复: \" + sententences[say_index]"
   ]
  },
  {
   "cell_type": "code",
   "execution_count": 36,
   "metadata": {
    "collapsed": false,
    "run_control": {
     "frozen": false,
     "read_only": false
    }
   },
   "outputs": [
    {
     "data": {
      "text/plain": [
       "'{\"code\":200000,\"text\":\"亲，已帮你找到图片\",\"url\":\"http://m.image.so.com/i?q=%E4%BA%9B%E5%B0%8F%E7%8B%97\"}'"
      ]
     },
     "execution_count": 36,
     "metadata": {},
     "output_type": "execute_result"
    }
   ],
   "source": [
    "angelapper_tuling(\"一张小狗的图片\")"
   ]
  },
  {
   "cell_type": "code",
   "execution_count": 33,
   "metadata": {
    "collapsed": false,
    "run_control": {
     "frozen": false,
     "read_only": false
    }
   },
   "outputs": [
    {
     "data": {
      "text/html": [
       "<img src=\"http://m.image.so.com/i?q=%E5%B0%8F%E7%8B%97\"/>"
      ],
      "text/plain": [
       "<IPython.core.display.Image object>"
      ]
     },
     "execution_count": 33,
     "metadata": {},
     "output_type": "execute_result"
    }
   ],
   "source": [
    "from IPython.display import Image\n",
    "?Image\n",
    "Image(url='http://m.image.so.com/i?q=%E5%B0%8F%E7%8B%97') "
   ]
  }
 ],
 "metadata": {
  "kernelspec": {
   "display_name": "Python 3",
   "language": "python",
   "name": "python3"
  },
  "language_info": {
   "codemirror_mode": {
    "name": "ipython",
    "version": 3
   },
   "file_extension": ".py",
   "mimetype": "text/x-python",
   "name": "python",
   "nbconvert_exporter": "python",
   "pygments_lexer": "ipython3",
   "version": "3.6.0"
  }
 },
 "nbformat": 4,
 "nbformat_minor": 2
}
