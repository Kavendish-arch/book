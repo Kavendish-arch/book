{
 "cells": [
  {
   "cell_type": "markdown",
   "metadata": {
    "run_control": {
     "frozen": false,
     "read_only": false
    }
   },
   "source": [
    "- input: \"凯\" => { \"cname\": \"凯\", \"title\": \"嚣狂之镰\", \"hero_type\": \"刺客|全部\", \"skin_name\": \"嚣狂之镰|威尼斯狂欢\" }\n",
    "\n",
    "- input \"刺客\" => [{hero1},{hero2},{hero3}]\n",
    "\n",
    "=> lookup\n",
    "input: keyword\n",
    "output: 英雄列表"
   ]
  },
  {
   "cell_type": "markdown",
   "metadata": {
    "run_control": {
     "frozen": false,
     "read_only": false
    }
   },
   "source": [
    "## 王者荣耀改～"
   ]
  },
  {
   "cell_type": "code",
   "execution_count": null,
   "metadata": {
    "run_control": {
     "frozen": false,
     "read_only": false
    }
   },
   "outputs": [],
   "source": [
    "content= None\n",
    "with open('wangzhe.html') as html_data:\n",
    "    content= html_data.read()\n",
    "    print(content)"
   ]
  },
  {
   "cell_type": "code",
   "execution_count": null,
   "metadata": {
    "collapsed": true,
    "run_control": {
     "frozen": false,
     "read_only": false
    }
   },
   "outputs": [],
   "source": [
    "def next_html_text(content,start, start_delimiter='>',end_delimiter='<'):\n",
    "    brack_end=content.find(start_delimiter,start+1)\n",
    "    brack_start=content.find(end_delimiter,brack_end+1)\n",
    "    return brack_start, content[brack_end+1:brack_start]"
   ]
  },
  {
   "cell_type": "markdown",
   "metadata": {
    "run_control": {
     "frozen": false,
     "read_only": false
    }
   },
   "source": [
    "## at beginning\n",
    "```python\n",
    "#get avatar\n",
    "img_pos=content.find('<img')\n",
    "img_src=content.find('src=\"',img_pos+1)\n",
    "img_start_quote=content.find('\"',img_src+1)\n",
    "img_end_quote=content.find('\"',img_start_quote+1)\n",
    "\n",
    "#get name\n",
    "img_name_left=content.find('>',img_end_quote+1)\n",
    "img_name_right=content.find('<',img_name_left+1)\n",
    "\n",
    "position_pos=content.find('class=\"heroposition\"',img_name_right+1)\n",
    "hero_type_right, hero_type = next_html_text(content,position_pos)\n",
    "\n",
    "print(content[img_start_quote+1:img_end_quote])\n",
    "print(content[img_name_left+1:img_name_right])\n",
    "print(hero_type)\n",
    "```"
   ]
  },
  {
   "cell_type": "markdown",
   "metadata": {
    "run_control": {
     "frozen": false,
     "read_only": false
    }
   },
   "source": [
    "## use function to replace duplicate jobs\n",
    "```python\n",
    "#get avatar\n",
    "img_pos=content.find('<img')\n",
    "img_src=content.find('src=\"',img_pos+1)\n",
    "img_end_quote, hero_url = next_html_text(content,img_src,'\"','\"')\n",
    "\n",
    "#get name\n",
    "img_name_right, hero_name = next_html_text(content,img_end_quote+1)\n",
    "\n",
    "#get position\n",
    "position_pos=content.find('class=\"heroposition\"',img_name_right+1)\n",
    "hero_type_right, hero_type = next_html_text(content,position_pos)\n",
    "\n",
    "#get skin\n",
    "skin_pos=content.find('class=\"heroposkin\"',hero_type_right+1)\n",
    "hero_skin_right, hero_skin = next_html_text(content,skin_pos)\n",
    "\n",
    "[hero_name,hero_type,hero_skin,hero_url]\n",
    "print(content[hero_skin_right+1:])\n",
    "```"
   ]
  },
  {
   "cell_type": "code",
   "execution_count": null,
   "metadata": {
    "collapsed": true,
    "run_control": {
     "frozen": false,
     "read_only": false
    }
   },
   "outputs": [],
   "source": [
    "last_index=0\n",
    "\n",
    "def extract_hero_and_img(current_page):\n",
    "    #get avatar\n",
    "    img_pos=current_page.find('<img')\n",
    "    img_src=current_page.find('src=\"',img_pos+1)\n",
    "    img_end_quote, hero_url = next_html_text(current_page,img_src,'\"','\"')\n",
    "\n",
    "    #get name\n",
    "    img_name_right, hero_name = next_html_text(current_page,img_end_quote)\n",
    "\n",
    "    #get position\n",
    "    position_pos=current_page.find('class=\"heroposition\"',img_name_right+1)\n",
    "    hero_type_right, hero_type = next_html_text(current_page,position_pos)\n",
    "\n",
    "    #get skin\n",
    "    skin_pos = current_page.find('class=\"heroposkin\"',hero_type_right+1)\n",
    "    hero_skin_right, hero_skin = next_html_text(current_page,skin_pos)\n",
    "    if hero_name:\n",
    "        return hero_skin_right, [hero_name, hero_type, hero_skin, hero_url]\n",
    "    else:\n",
    "        return -1,[]"
   ]
  },
  {
   "cell_type": "markdown",
   "metadata": {
    "run_control": {
     "frozen": false,
     "read_only": false
    }
   },
   "source": [
    "```python\n",
    "page_hero = content\n",
    "page_hero = page_hero[last_index:]\n",
    "last_index, hero_info = extract_hero_and_img(page_hero)\n",
    "print(\"{},{}\".format(last_index,hero_info))\n",
    "```"
   ]
  },
  {
   "cell_type": "code",
   "execution_count": null,
   "metadata": {
    "code_folding": [],
    "run_control": {
     "frozen": false,
     "read_only": false
    }
   },
   "outputs": [],
   "source": [
    "def retrieve_all_hero(page_hero):\n",
    "    last_index=0\n",
    "    while True:\n",
    "        page_hero = page_hero[last_index:]\n",
    "        last_index, hero_info = extract_hero_and_img(page_hero)\n",
    "        if last_index == -1:\n",
    "            break;\n",
    "        print(hero_info)\n",
    "        "
   ]
  },
  {
   "cell_type": "code",
   "execution_count": null,
   "metadata": {
    "run_control": {
     "frozen": false,
     "read_only": false
    },
    "scrolled": false
   },
   "outputs": [],
   "source": [
    "retrieve_all_hero(content)"
   ]
  },
  {
   "cell_type": "markdown",
   "metadata": {
    "run_control": {
     "frozen": false,
     "read_only": false
    }
   },
   "source": [
    "## build up index\n",
    "add_to_index\n",
    "```\n",
    "index is \n",
    "[\n",
    "\n",
    "[<keyword>,[<hero_detail>,...]],\n",
    "[<keyword>,[<hero_detail>,...]]...\n",
    "\n",
    "]\n",
    "keyword string\n",
    "a url\n",
    "```\n",
    "[\n",
    "[unit,factor],[]\n",
    "]\n",
    "\n",
    "[\n",
    "\n",
    "[keyword],[\n",
    "['百里玄策', '刺客|全部', '嚣狂之镰|威尼斯狂欢', 'http://game.gtimg.cn/images/yxzj/img201606/heroimg/195/195.jpg'],\n",
    "['百里玄策', '刺客|全部', '嚣狂之镰|威尼斯狂欢', 'http://game.gtimg.cn/images/yxzj/img201606/heroimg/195/195.jpg'],\n",
    "['百里玄策', '刺客|全部', '嚣狂之镰|威尼斯狂欢', 'http://game.gtimg.cn/images/yxzj/img201606/heroimg/195/195.jpg']],\n",
    "\n",
    "]\n",
    "## use list for storage\n",
    "['百里玄策', '刺客|全部', '嚣狂之镰|威尼斯狂欢', 'http://game.gtimg.cn/images/yxzj/img201606/heroimg/195/195.jpg']\n"
   ]
  },
  {
   "cell_type": "code",
   "execution_count": null,
   "metadata": {
    "code_folding": [
     1,
     10
    ],
    "collapsed": true,
    "run_control": {
     "frozen": false,
     "read_only": false
    }
   },
   "outputs": [],
   "source": [
    "# build up index data structure\n",
    "def add_to_index(index, keyword, info):\n",
    "    pass\n",
    "\n",
    "# lookup information by keywords\n",
    "def lookup(index,keyword):\n",
    "    pass\n"
   ]
  },
  {
   "cell_type": "code",
   "execution_count": null,
   "metadata": {
    "code_folding": [],
    "collapsed": true,
    "run_control": {
     "frozen": false,
     "read_only": false
    }
   },
   "outputs": [],
   "source": [
    "def get_keywords_array(hero):\n",
    "    pass"
   ]
  },
  {
   "cell_type": "code",
   "execution_count": null,
   "metadata": {},
   "outputs": [],
   "source": [
    "get_keywords_array(['钟无艳', '战士|全部|坦克', '野蛮之锤|生化警戒|王者之锤|海滩丽影', 'http://game.gtimg.cn/images/yxzj/img201606/heroimg/117/117.jpg'])"
   ]
  },
  {
   "cell_type": "code",
   "execution_count": null,
   "metadata": {
    "code_folding": [
     0
    ],
    "collapsed": true,
    "run_control": {
     "frozen": false,
     "read_only": false
    }
   },
   "outputs": [],
   "source": [
    "def build_up_index(index, page_hero):\n",
    "    pass"
   ]
  },
  {
   "cell_type": "code",
   "execution_count": null,
   "metadata": {
    "collapsed": true,
    "run_control": {
     "frozen": false,
     "read_only": false
    }
   },
   "outputs": [],
   "source": [
    "search_index=[]\n",
    "build_up_index(search_index,content)"
   ]
  },
  {
   "cell_type": "code",
   "execution_count": null,
   "metadata": {
    "collapsed": true,
    "run_control": {
     "frozen": false,
     "read_only": false
    }
   },
   "outputs": [],
   "source": [
    "keywords => [values]"
   ]
  },
  {
   "cell_type": "code",
   "execution_count": null,
   "metadata": {
    "run_control": {
     "frozen": false,
     "read_only": false
    }
   },
   "outputs": [],
   "source": [
    "lookup(search_index,\"百里玄策\")"
   ]
  },
  {
   "cell_type": "code",
   "execution_count": null,
   "metadata": {
    "run_control": {
     "frozen": false,
     "read_only": false
    }
   },
   "outputs": [],
   "source": [
    "lookup(search_index,\"战士\")"
   ]
  },
  {
   "cell_type": "markdown",
   "metadata": {
    "run_control": {
     "frozen": false,
     "read_only": false
    }
   },
   "source": [
    "## measurement"
   ]
  },
  {
   "cell_type": "code",
   "execution_count": null,
   "metadata": {
    "collapsed": true,
    "run_control": {
     "frozen": false,
     "read_only": false
    }
   },
   "outputs": [],
   "source": [
    "import time\n",
    "def time_execution(code):\n",
    "    start = time.clock()\n",
    "    result = eval(code)\n",
    "    run_time = time.clock() - start\n",
    "    return result, run_time"
   ]
  },
  {
   "cell_type": "code",
   "execution_count": null,
   "metadata": {
    "collapsed": true,
    "run_control": {
     "frozen": false,
     "read_only": false
    }
   },
   "outputs": [],
   "source": [
    "def spin_loop(n):\n",
    "    i =0\n",
    "    while i< n:\n",
    "        i = i +1"
   ]
  },
  {
   "cell_type": "code",
   "execution_count": null,
   "metadata": {
    "run_control": {
     "frozen": false,
     "read_only": false
    }
   },
   "outputs": [],
   "source": [
    "time_execution(\"spin_loop(10000000)\")"
   ]
  },
  {
   "cell_type": "code",
   "execution_count": null,
   "metadata": {
    "run_control": {
     "frozen": false,
     "read_only": false
    }
   },
   "outputs": [],
   "source": [
    "time_execution(\"2+2\")"
   ]
  },
  {
   "cell_type": "code",
   "execution_count": null,
   "metadata": {
    "run_control": {
     "frozen": false,
     "read_only": false
    }
   },
   "outputs": [],
   "source": [
    "%%time\n",
    "spin_loop(10000000)"
   ]
  },
  {
   "cell_type": "markdown",
   "metadata": {
    "run_control": {
     "frozen": false,
     "read_only": false
    }
   },
   "source": [
    "## save result"
   ]
  },
  {
   "cell_type": "code",
   "execution_count": null,
   "metadata": {
    "collapsed": true,
    "run_control": {
     "frozen": false,
     "read_only": false
    }
   },
   "outputs": [],
   "source": [
    "import json"
   ]
  },
  {
   "cell_type": "code",
   "execution_count": null,
   "metadata": {
    "collapsed": true
   },
   "outputs": [],
   "source": [
    "?json.dumps"
   ]
  },
  {
   "cell_type": "code",
   "execution_count": null,
   "metadata": {
    "run_control": {
     "frozen": false,
     "read_only": false
    }
   },
   "outputs": [],
   "source": [
    "json_str=json.dumps(search_index)"
   ]
  },
  {
   "cell_type": "code",
   "execution_count": null,
   "metadata": {},
   "outputs": [],
   "source": [
    "print(json_str)"
   ]
  },
  {
   "cell_type": "code",
   "execution_count": null,
   "metadata": {
    "collapsed": true,
    "run_control": {
     "frozen": false,
     "read_only": false
    }
   },
   "outputs": [],
   "source": [
    "with open('index.json', 'w') as f:\n",
    "    f.write(json_str)"
   ]
  },
  {
   "cell_type": "code",
   "execution_count": null,
   "metadata": {
    "collapsed": true,
    "run_control": {
     "frozen": false,
     "read_only": false
    }
   },
   "outputs": [],
   "source": [
    "recover_json= None\n",
    "with open('index.json','r') as index_fd:\n",
    "    recover_json= json.loads(index_fd.read())\n"
   ]
  },
  {
   "cell_type": "code",
   "execution_count": null,
   "metadata": {
    "run_control": {
     "frozen": false,
     "read_only": false
    }
   },
   "outputs": [],
   "source": [
    "recover_json"
   ]
  },
  {
   "cell_type": "code",
   "execution_count": null,
   "metadata": {
    "run_control": {
     "frozen": false,
     "read_only": false
    }
   },
   "outputs": [],
   "source": [
    "lookup(recover_json,\"刺客\")"
   ]
  }
 ],
 "metadata": {
  "kernelspec": {
   "display_name": "Python 3",
   "language": "python",
   "name": "python3"
  },
  "language_info": {
   "codemirror_mode": {
    "name": "ipython",
    "version": 3
   },
   "file_extension": ".py",
   "mimetype": "text/x-python",
   "name": "python",
   "nbconvert_exporter": "python",
   "pygments_lexer": "ipython3",
   "version": "3.6.3"
  }
 },
 "nbformat": 4,
 "nbformat_minor": 2
}
