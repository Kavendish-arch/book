{
 "cells": [
  {
   "cell_type": "markdown",
   "metadata": {},
   "source": [
    "https://github.com/domoritz/gameoflife-python"
   ]
  },
  {
   "cell_type": "markdown",
   "metadata": {
    "run_control": {
     "frozen": false,
     "read_only": false
    }
   },
   "source": [
    "# John Conway's Game of Life\n",
    "\n",
    "The cellular automata game *Life*, invented by the mathematician [John Conway](https://en.wikipedia.org/wiki/John_Horton_Conway), makes a fun programming exercise.  Let's review the [rules](http://en.wikipedia.org/wiki/Conway%27s_Game_of_Life):\n",
    "\n",
    "The *world* of the Game of Life is an infinite two-dimensional orthogonal grid of *cells*, each of which is in one of two possible states, *live* or *empty*. Each cell has eight *neighbors*, the cells that are horizontally, vertically, or diagonally adjacent. At each step in time, the following rules are applied to create the next *generation*:\n",
    "\n",
    "+ Any live cell with two or three live neighbors lives on to the next generation.\n",
    "+ Any empty cell with exactly three live neighbors becomes a live cell in the next generation.\n",
    "+ All other cells are empty in the next generation.\n",
    "\n",
    "生命游戏由一个无限二维平面以及被定义在这个平面上的几条简单规则组成，一般来说，这个无限二维平面是由无限个相同大小的方形网格组成的，定义于其上的规则有：\n",
    "\n",
    "+ 每个网格称为cell\n",
    "+ 每个cell有两种状态，alive和dead，分别用两种不同的颜色来表示\n",
    "+ 每个cell的状态变化受其周围8个cell影响\n",
    "+ 如果一个活的(alive)cell，其周围的活的cell数量少于2——即为0或1，则这个cell将死去(dead)\n",
    "+ 如果一个活的cell，其周围的活的cell数量为2或3，则它继续存活\n",
    "+ 如果一个活的cell，其周围的活的cell数量超过3——即为4至8，则这个cell将死去\n",
    "+ 如果一个死的cell，其周围的活的cell数量为3，则它成为活的cell，否则仍然为死的cell\n",
    "\n",
    "可以把最初的细胞结构定义为种子，当所有在种子中的细胞同时被以上规则处理后, 可以得到第一代细胞图。按规则继续处理当前的细胞图，可以得到下一代的细胞图，周而复始。\n",
    "\n",
    "For example, in the diagram below, grey cells are live. In the transition from Generation 0 to 1, the cell marked \"E\" becomes empty (dies off) because it has zero live neighbors.  In the next transition, the cell marked \"L\" becomes live, because it has 3 live neighbors. All other cells stay the same. \n",
    "\n",
    "<table><tr><td><table>\n",
    "  <tr>\n",
    "    <td >&nbsp;&nbsp;&nbsp;&nbsp;\n",
    "    <td >&nbsp;&nbsp;&nbsp;&nbsp;\n",
    "    <td >&nbsp;&nbsp;&nbsp;&nbsp;\n",
    "    <td >&nbsp;&nbsp;&nbsp;&nbsp;\n",
    "    <td >&nbsp;&nbsp;&nbsp;&nbsp;\n",
    "  <tr>\n",
    "    <td >&nbsp;&nbsp;&nbsp;&nbsp;\n",
    "    <td >&nbsp;&nbsp;&nbsp;&nbsp;\n",
    "    <td >&nbsp;&nbsp;&nbsp;&nbsp;\n",
    "    <td bgcolor=lightgrey>&nbsp;E&nbsp;\n",
    "    <td >&nbsp;&nbsp;&nbsp;&nbsp;\n",
    "  <tr>\n",
    "    <td>&nbsp;&nbsp;&nbsp;\n",
    "    <td bgcolor=lightgrey>&nbsp;&nbsp;&nbsp;\n",
    "    <td >&nbsp;&nbsp;&nbsp;\n",
    "    <td >&nbsp;&nbsp;&nbsp;\n",
    "    <td >&nbsp;&nbsp;&nbsp;&nbsp;\n",
    "  <tr>\n",
    "    <td ></td>&nbsp;&nbsp;&nbsp;\n",
    "    <td bgcolor=lightgrey>&nbsp;&nbsp;&nbsp;\n",
    "    <td bgcolor=lightgrey>&nbsp;&nbsp;&nbsp;\n",
    "    <td >&nbsp;&nbsp;&nbsp;\n",
    "    <td >&nbsp;&nbsp;&nbsp;&nbsp;\n",
    "  <tr>\n",
    "    <td >&nbsp;&nbsp;&nbsp;\n",
    "    <td >&nbsp;&nbsp;&nbsp;\n",
    "    <td >&nbsp;&nbsp;&nbsp;\n",
    "    <td >&nbsp;&nbsp;&nbsp;\n",
    "    <td >&nbsp;&nbsp;&nbsp;&nbsp;\n",
    "</table>\n",
    "<br><center>Generation 0\n",
    "\n",
    "<td><table>\n",
    "  <tr>\n",
    "    <td >&nbsp;&nbsp;&nbsp;\n",
    "    <td >&nbsp;&nbsp;&nbsp;\n",
    "    <td >&nbsp;&nbsp;&nbsp;\n",
    "    <td >&nbsp;&nbsp;&nbsp;\n",
    "    <td >&nbsp;&nbsp;&nbsp;&nbsp;\n",
    "  <tr>\n",
    "    <td >&nbsp;&nbsp;&nbsp;&nbsp;\n",
    "    <td >&nbsp;&nbsp;&nbsp;&nbsp;\n",
    "    <td >&nbsp;&nbsp;&nbsp;&nbsp;\n",
    "    <td >&nbsp;&nbsp;&nbsp;&nbsp;\n",
    "    <td >&nbsp;&nbsp;&nbsp;&nbsp;\n",
    "  <tr>\n",
    "    <td>&nbsp;&nbsp;&nbsp;\n",
    "    <td bgcolor=lightgrey>&nbsp;&nbsp;&nbsp;\n",
    "    <td >&nbsp;L\n",
    "    <td >&nbsp;&nbsp;&nbsp;\n",
    "    <td >&nbsp;&nbsp;&nbsp;&nbsp;\n",
    "  <tr>\n",
    "    <td ></td>&nbsp;&nbsp;&nbsp;\n",
    "    <td bgcolor=lightgrey>&nbsp;&nbsp;&nbsp;\n",
    "    <td bgcolor=lightgrey>&nbsp;&nbsp;&nbsp;\n",
    "    <td >&nbsp;&nbsp;&nbsp;\n",
    "    <td >&nbsp;&nbsp;&nbsp;&nbsp;\n",
    "  </tr>\n",
    "  <tr>\n",
    "    <td >&nbsp;&nbsp;&nbsp;\n",
    "    <td >&nbsp;&nbsp;&nbsp;\n",
    "    <td >&nbsp;&nbsp;&nbsp;\n",
    "    <td >&nbsp;&nbsp;&nbsp;\n",
    "    <td >&nbsp;&nbsp;&nbsp;&nbsp;\n",
    "  </tr>\n",
    "</table>\n",
    "<br><center>Generation 1\n",
    "\n",
    "<td><table>\n",
    "  <tr>\n",
    "    <td >&nbsp;&nbsp;&nbsp;\n",
    "    <td >&nbsp;&nbsp;&nbsp;\n",
    "    <td >&nbsp;&nbsp;&nbsp;\n",
    "    <td >&nbsp;&nbsp;&nbsp;\n",
    "    <td >&nbsp;&nbsp;&nbsp;&nbsp;\n",
    "  <tr>\n",
    "    <td >&nbsp;&nbsp;&nbsp;&nbsp;\n",
    "    <td >&nbsp;&nbsp;&nbsp;&nbsp;\n",
    "    <td >&nbsp;&nbsp;&nbsp;&nbsp;\n",
    "    <td >&nbsp;&nbsp;&nbsp;&nbsp;\n",
    "    <td >&nbsp;&nbsp;&nbsp;&nbsp;\n",
    "  <tr>\n",
    "    <td>&nbsp;&nbsp;&nbsp;\n",
    "    <td bgcolor=lightgrey>&nbsp;&nbsp;&nbsp;\n",
    "    <td bgcolor=lightgrey>&nbsp;&nbsp;&nbsp;\n",
    "    <td >&nbsp;&nbsp;&nbsp;\n",
    "    <td >&nbsp;&nbsp;&nbsp;&nbsp;\n",
    "  <tr>\n",
    "    <td ></td>&nbsp;&nbsp;&nbsp;\n",
    "    <td bgcolor=lightgrey>&nbsp;&nbsp;&nbsp;\n",
    "    <td bgcolor=lightgrey>&nbsp;&nbsp;&nbsp;\n",
    "    <td >&nbsp;&nbsp;&nbsp;\n",
    "    <td >&nbsp;&nbsp;&nbsp;&nbsp;\n",
    "  </tr>\n",
    "  <tr>\n",
    "    <td >&nbsp;&nbsp;&nbsp;\n",
    "    <td >&nbsp;&nbsp;&nbsp;\n",
    "    <td >&nbsp;&nbsp;&nbsp;\n",
    "    <td >&nbsp;&nbsp;&nbsp;\n",
    "    <td >&nbsp;&nbsp;&nbsp;&nbsp;\n",
    "  </tr>\n",
    "</table>\n",
    "<br><center>Generation 2\n",
    "</table>\n",
    "\n",
    "The world continues to evolve by these rules for as long as you care to observe. \n",
    "\n",
    "# Developing a Life Program\n",
    "\n",
    "http://www.zmonster.me/2014/07/04/game-of-life-and-implementation-with-python.html\n",
    "\n",
    "To create a program to play Life, start with the vocabulary of concepts:\n",
    "\n",
    "+ **World**\n",
    "+ **Cell**\n",
    "+ **Live/Empty**\n",
    "+ **Neighbors**\n",
    "+ **Next Generation**\n",
    "+ **Display**\n",
    "+ **Live Neighbor Counts**\n",
    "\n",
    "and consider how to implement them:\n",
    "\n",
    "+ **World**: The state of the world must represent which cells are empty and which are live. The tricky part is that the number of cells is infinite, and we can't store an infinite array in a finite computer.  I can think of three ways to deal with this problem:\n",
    "  1. **Change the rules**; make the world finite instead of infinite. (Cells at the edge of the world have fewer neighbors, or perhaps they wrap around to the other side of the world.)\n",
    "  2. Use a **finite rectangular window** that covers all the live cells in the infinite grid. \n",
    "<br>Example: `world = [[0, 0, 0, 0, 0], [0, 0, 0, 1, 0], [0, 1, 0, 0, 0], [0, 1, 1, 0, 0], [0, 0, 0, 0, 0]]` \n",
    "\n",
    "  3. Represent a world as a **set of live cells.**  This set will grow and shrink in size from one generation to the next, but we don't have to worry about overflowing the edges of an array.\n",
    "<br>Example: `world = {(3, 1), (1, 2), (1, 3), (2, 3)}` \n",
    "<br>I will go with this choice.\n",
    "\n",
    "\n",
    "+ **Cell**: Each cell will be represented as an (x, y) pair of integer coordinates. <br>Example: `cell = (1, 2)`.\n",
    "+ **Live/Empty**: \n",
    "A cell is live if it is a member of the set of live cells. \n",
    "<br>Example: \"`cell in world`\" is True, given the definition of `cell` and `world` above.\n",
    "+ **Neighbors**:  The cell `(x, y)` has eight neighbors, formed by adding or subtracting 1 from `x` or `y` or both. We can define\n",
    "a function `neighbors(cell)` to return this set.\n",
    "<br>Example: `neighbors((8, 8)) == [(7, 7), (8, 7), (9, 7), (7, 8), (9, 8), (7, 9), (8, 9), (9, 9)]`\n",
    "<table>\n",
    "  <tr style=\"height:3em\">\n",
    "    <td class=\"tg-031e\">(x-1, y-1)\n",
    "    <td class=\"tg-031e\">(x, y-1)\n",
    "    <td class=\"tg-031e\">(x+1, y-1)\n",
    "  <tr style=\"height:3em\">\n",
    "    <td class=\"tg-031e\">(x-1, y)</td>\n",
    "    <td bgcolor=\"lightgrey\">(x, y)</td>\n",
    "    <td class=\"tg-031e\">(x+1, y)</td>\n",
    "  <tr style=\"height:3em\">\n",
    "    <td class=\"tg-031e\">(x-1, y+1)</td>\n",
    "    <td class=\"tg-031e\">(x, y+1)</td>\n",
    "    <td class=\"tg-s6z2\">(x+1, y+1)</td>\n",
    "  </tr>\n",
    "</table>\n",
    "\n",
    "+ **Display**: We will need some way to display the state of the world. Let's defer that for now.\n",
    "\n",
    "+ **Next Generation**: We can define a function, `next_generation(world)`, that takes a world as input and returns\n",
    "a new world with the new set of live cells according to the rules.\n",
    "Example: `next_generation({(3, 1), (1, 2), (1, 3), (2, 3)}) == {(1, 2), (1, 3), (2, 3)}`\n",
    "\n",
    "+ **Live Neighbor Counts**: I need to know how many live neighbors each cell has. A good way to represent this is a dict of `{(x, y): count}`. But which cells need to be the keys of this dict? We can start with the live cells, and also add any cells neighboring the live cells. An efficient way to generate this dict is to create a `Counter` and pass it every neighbor of every live cell. This may feel like we're doing the counting \"backwards.\" Instead of asking \"for each cell, how many live neighbors does it have?\" we are saying \"for each live cell, increment the count of each of its neighbors.\" The two amount to the same thing because *neighbor* is symmetric&mdash;if P is a neighbor of Q, then Q is a neighbor of P. Below we see the neighbor counts for each of the three generations:\n",
    "\n",
    "\n",
    "<table><tr>\n",
    "\n",
    "<td><table>\n",
    "  <tr>\n",
    "    <td >&nbsp;&nbsp;&nbsp;\n",
    "    <td >&nbsp;&nbsp;&nbsp;\n",
    "    <td >&nbsp;&nbsp;1&nbsp;\n",
    "    <td >&nbsp;&nbsp;1&nbsp;\n",
    "    <td >&nbsp;&nbsp;1&nbsp;\n",
    "  <tr>\n",
    "    <td >&nbsp;&nbsp;1&nbsp;\n",
    "    <td >&nbsp;&nbsp;1&nbsp;\n",
    "    <td >&nbsp;&nbsp;2&nbsp;\n",
    "    <td bgcolor=lightgrey>&nbsp;&nbsp;&nbsp;&nbsp;\n",
    "    <td >&nbsp;&nbsp;1&nbsp;\n",
    "  <tr>\n",
    "    <td>&nbsp;&nbsp;2&nbsp;\n",
    "    <td bgcolor=lightgrey>&nbsp;&nbsp;2&nbsp;\n",
    "    <td >&nbsp;&nbsp;4&nbsp;\n",
    "    <td >&nbsp;&nbsp;2&nbsp;\n",
    "    <td >&nbsp;&nbsp;1&nbsp;\n",
    "  <tr>\n",
    "    <td >&nbsp;&nbsp;2&nbsp;\n",
    "    <td bgcolor=lightgrey>&nbsp;&nbsp;2&nbsp;\n",
    "    <td bgcolor=lightgrey>&nbsp;&nbsp;2&nbsp;\n",
    "    <td >&nbsp;&nbsp;1&nbsp;\n",
    "    <td >&nbsp;&nbsp;&nbsp;\n",
    "  </tr>\n",
    "  <tr>\n",
    "    <td >&nbsp;&nbsp;1&nbsp;\n",
    "    <td >&nbsp;&nbsp;2&nbsp;\n",
    "    <td >&nbsp;&nbsp;2&nbsp;\n",
    "    <td >&nbsp;&nbsp;1&nbsp;\n",
    "    <td >&nbsp;&nbsp;&nbsp;\n",
    "  </tr>\n",
    "</table>\n",
    "<br><center>Generation 0\n",
    "\n",
    "<td><table>\n",
    "  <tr>\n",
    "    <td >&nbsp;&nbsp;&nbsp;\n",
    "    <td >&nbsp;&nbsp;&nbsp;\n",
    "    <td >&nbsp;&nbsp;&nbsp;\n",
    "    <td >&nbsp;&nbsp;&nbsp;\n",
    "    <td >&nbsp;&nbsp;&nbsp;&nbsp;\n",
    "  <tr>\n",
    "    <td >&nbsp;&nbsp;1&nbsp;\n",
    "    <td >&nbsp;&nbsp;1&nbsp;\n",
    "    <td >&nbsp;&nbsp;1&nbsp;\n",
    "    <td >&nbsp;&nbsp;&nbsp;&nbsp;\n",
    "    <td >&nbsp;&nbsp;&nbsp;\n",
    "  <tr>\n",
    "    <td>&nbsp;&nbsp;2&nbsp;\n",
    "    <td bgcolor=lightgrey>&nbsp;&nbsp;2&nbsp;\n",
    "    <td >&nbsp;&nbsp;3&nbsp;\n",
    "    <td >&nbsp;&nbsp;1&nbsp;\n",
    "    <td >&nbsp;&nbsp;&nbsp;\n",
    "  <tr>\n",
    "    <td >&nbsp;&nbsp;2&nbsp;\n",
    "    <td bgcolor=lightgrey>&nbsp;&nbsp;2&nbsp;\n",
    "    <td bgcolor=lightgrey>&nbsp;&nbsp;2&nbsp;\n",
    "    <td >&nbsp;&nbsp;1&nbsp;\n",
    "    <td >&nbsp;&nbsp;&nbsp;\n",
    "  </tr>\n",
    "  <tr>\n",
    "    <td >&nbsp;&nbsp;1&nbsp;\n",
    "    <td >&nbsp;&nbsp;2&nbsp;\n",
    "    <td >&nbsp;&nbsp;2&nbsp;\n",
    "    <td >&nbsp;&nbsp;1&nbsp;\n",
    "    <td >&nbsp;&nbsp;&nbsp;\n",
    "  </tr>\n",
    "</table>\n",
    "<br><center>Generation 1\n",
    "\n",
    "<td><table>\n",
    "  <tr>\n",
    "    <td >&nbsp;&nbsp;&nbsp;\n",
    "    <td >&nbsp;&nbsp;&nbsp;\n",
    "    <td >&nbsp;&nbsp;&nbsp;\n",
    "    <td >&nbsp;&nbsp;&nbsp;\n",
    "    <td >&nbsp;&nbsp;&nbsp;&nbsp;\n",
    "  <tr>\n",
    "    <td >&nbsp;&nbsp;1&nbsp;\n",
    "    <td >&nbsp;&nbsp;2&nbsp;\n",
    "    <td >&nbsp;&nbsp;2&nbsp;\n",
    "    <td >&nbsp;&nbsp;1&nbsp;&nbsp;\n",
    "    <td >&nbsp;&nbsp;&nbsp;\n",
    "  <tr>\n",
    "    <td>&nbsp;&nbsp;2&nbsp;\n",
    "    <td bgcolor=lightgrey>&nbsp;&nbsp;3&nbsp;\n",
    "    <td bgcolor=lightgrey>&nbsp;&nbsp;3&nbsp;\n",
    "    <td >&nbsp;&nbsp;2&nbsp;\n",
    "    <td >&nbsp;&nbsp;&nbsp;\n",
    "  <tr>\n",
    "    <td >&nbsp;&nbsp;2&nbsp;\n",
    "    <td bgcolor=lightgrey>&nbsp;&nbsp;3&nbsp;\n",
    "    <td bgcolor=lightgrey>&nbsp;&nbsp;3&nbsp;\n",
    "    <td >&nbsp;&nbsp;2&nbsp;\n",
    "    <td >&nbsp;&nbsp;&nbsp;\n",
    "  </tr>\n",
    "  <tr>\n",
    "    <td >&nbsp;&nbsp;1&nbsp;\n",
    "    <td >&nbsp;&nbsp;2&nbsp;\n",
    "    <td >&nbsp;&nbsp;2&nbsp;\n",
    "    <td >&nbsp;&nbsp;1&nbsp;\n",
    "    <td >&nbsp;&nbsp;&nbsp;\n",
    "  </tr>\n",
    "</table>\n",
    "<br><center>Generation 2\n",
    "\n",
    "\n",
    "</table>\n",
    "\n",
    "Here is the implementation.Note that in `next_generation` the `neighbor_counts` is used two ways: `possible_cells` is used to iterate over all cells that might be live, and `counts` is used to check if a cell has the right number of neighbors."
   ]
  },
  {
   "cell_type": "code",
   "execution_count": null,
   "metadata": {
    "collapsed": false,
    "run_control": {
     "frozen": false,
     "read_only": false
    }
   },
   "outputs": [],
   "source": [
    "from collections import Counter\n",
    "\n",
    "def next_generation(world):\n",
    "    \"The set of live cells in the next generation.\"\n",
    "    possible_cells = counts = neighbor_counts(world)\n",
    "    return {cell for cell in possible_cells\n",
    "            if (counts[cell] == 3) \n",
    "            or (counts[cell] == 2 and cell in world)}\n",
    "\n",
    "def neighbor_counts(world):\n",
    "    \"A {cell: int} counter of the number of live neighbors for each cell that has neighbors.\"\n",
    "    return Counter(nb for cell in world \n",
    "                      for nb in neighbors(cell))\n",
    "\n",
    "def neighbors(cell):\n",
    "    \"All 8 adjacent neighbors of cell.\"\n",
    "    (x, y) = cell\n",
    "    return [(x-1, y-1), (x, y-1), (x+1, y-1), \n",
    "            (x-1, y),             (x+1, y), \n",
    "            (x-1, y+1), (x, y+1), (x+1, y+1)]"
   ]
  },
  {
   "cell_type": "markdown",
   "metadata": {
    "run_control": {
     "frozen": false,
     "read_only": false
    }
   },
   "source": [
    "We can see how this works:"
   ]
  },
  {
   "cell_type": "code",
   "execution_count": null,
   "metadata": {
    "collapsed": false,
    "run_control": {
     "frozen": false,
     "read_only": false
    }
   },
   "outputs": [],
   "source": [
    "world = {(3, 1), (1, 2), (1, 3), (2, 3)}\n",
    "next_generation(world)"
   ]
  },
  {
   "cell_type": "code",
   "execution_count": null,
   "metadata": {
    "collapsed": false,
    "run_control": {
     "frozen": false,
     "read_only": false
    }
   },
   "outputs": [],
   "source": [
    "next_generation(next_generation(world))"
   ]
  },
  {
   "cell_type": "code",
   "execution_count": null,
   "metadata": {
    "collapsed": false,
    "run_control": {
     "frozen": false,
     "read_only": false
    }
   },
   "outputs": [],
   "source": [
    "neighbors((2, 4))"
   ]
  },
  {
   "cell_type": "code",
   "execution_count": null,
   "metadata": {
    "collapsed": false,
    "run_control": {
     "frozen": false,
     "read_only": false
    }
   },
   "outputs": [],
   "source": [
    "neighbor_counts(world)"
   ]
  },
  {
   "cell_type": "markdown",
   "metadata": {
    "run_control": {
     "frozen": false,
     "read_only": false
    }
   },
   "source": [
    "`run` is a function to play n generations of Life:"
   ]
  },
  {
   "cell_type": "code",
   "execution_count": null,
   "metadata": {
    "collapsed": false,
    "run_control": {
     "frozen": false,
     "read_only": false
    }
   },
   "outputs": [],
   "source": [
    "def run(world, n):\n",
    "    \"Run the world for n generations. No display; just return the nth generation.\"\n",
    "    for g in range(n):\n",
    "        world = next_generation(world)\n",
    "    return world"
   ]
  },
  {
   "cell_type": "code",
   "execution_count": null,
   "metadata": {
    "collapsed": false,
    "run_control": {
     "frozen": false,
     "read_only": false
    }
   },
   "outputs": [],
   "source": [
    "run(world, 100)"
   ]
  },
  {
   "cell_type": "markdown",
   "metadata": {
    "run_control": {
     "frozen": false,
     "read_only": false
    }
   },
   "source": [
    "# Display\n",
    "\n",
    "Now let's see how to display each generation. We'll consider a window on the infinite plane, specified as a range of `Xs` and `Ys` coordinates. The function `picture` turns a world into a string showing what the world looks like, and `display_run` runs the world, displaying the picture at each step."
   ]
  },
  {
   "cell_type": "code",
   "execution_count": null,
   "metadata": {
    "collapsed": false,
    "run_control": {
     "frozen": false,
     "read_only": false
    }
   },
   "outputs": [],
   "source": [
    "import time\n",
    "from IPython.display import clear_output, display_html\n",
    "\n",
    "LIVE  = '@'\n",
    "EMPTY = '.'\n",
    "PAD   = ' '\n",
    "\n",
    "def display_run(world, n=10, Xs=range(10), Ys=range(10), pause=0.1):\n",
    "    \"Step and display the world for the given number of generations.\"\n",
    "    for g in range(n + 1):\n",
    "        clear_output()\n",
    "        display_html('Generation {}, Population {}\\n{}'\n",
    "                     .format(g, len(world), pre(picture(world, Xs, Ys))), \n",
    "                     raw=True)\n",
    "        time.sleep(pause)\n",
    "        world = next_generation(world)\n",
    "        \n",
    "def pre(text): return '<pre>' + text + '</pre>'\n",
    "        \n",
    "def picture(world, Xs, Ys):\n",
    "    \"Return a picture: a grid of characters representing the cells in this window.\"\n",
    "    def row(y): return PAD.join(LIVE if (x, y) in world else EMPTY for x in Xs)\n",
    "    return '\\n'.join(row(y) for y in Ys)"
   ]
  },
  {
   "cell_type": "code",
   "execution_count": null,
   "metadata": {
    "collapsed": false,
    "run_control": {
     "frozen": false,
     "read_only": false
    }
   },
   "outputs": [],
   "source": [
    "print(picture(world, range(5), range(5)))"
   ]
  },
  {
   "cell_type": "code",
   "execution_count": null,
   "metadata": {
    "collapsed": false,
    "run_control": {
     "frozen": false,
     "read_only": false
    }
   },
   "outputs": [],
   "source": [
    "display_run(world, 10, range(5), range(5))"
   ]
  },
  {
   "cell_type": "markdown",
   "metadata": {
    "collapsed": false,
    "run_control": {
     "frozen": false,
     "read_only": false
    }
   },
   "source": [
    "# Interesting Worlds\n",
    "\n",
    "Now let's take a look at some initial worlds that *Life* enthusiasts have discovered. It would be tedious to define these with an explicit set of `(x, y)` coordinates, so we will define the function `shape` that takes a picture as input and returns a world; `shape` and `picture` are more-or-less inverses. "
   ]
  },
  {
   "cell_type": "code",
   "execution_count": 3,
   "metadata": {
    "collapsed": false,
    "run_control": {
     "frozen": false,
     "read_only": false
    }
   },
   "outputs": [
    {
     "ename": "NameError",
     "evalue": "name 'PAD' is not defined",
     "output_type": "error",
     "traceback": [
      "\u001b[0;31m---------------------------------------------------------------------------\u001b[0m",
      "\u001b[0;31mNameError\u001b[0m                                 Traceback (most recent call last)",
      "\u001b[0;32m<ipython-input-3-5f4ad685dd38>\u001b[0m in \u001b[0;36m<module>\u001b[0;34m()\u001b[0m\n\u001b[1;32m     12\u001b[0m     \u001b[0;32mreturn\u001b[0m \u001b[0;34m{\u001b[0m\u001b[0;34m(\u001b[0m\u001b[0mx\u001b[0m\u001b[0;34m+\u001b[0m\u001b[0mdx\u001b[0m\u001b[0;34m,\u001b[0m \u001b[0my\u001b[0m\u001b[0;34m+\u001b[0m\u001b[0mdy\u001b[0m\u001b[0;34m)\u001b[0m \u001b[0;32mfor\u001b[0m \u001b[0;34m(\u001b[0m\u001b[0mx\u001b[0m\u001b[0;34m,\u001b[0m \u001b[0my\u001b[0m\u001b[0;34m)\u001b[0m \u001b[0;32min\u001b[0m \u001b[0mcells\u001b[0m\u001b[0;34m}\u001b[0m\u001b[0;34m\u001b[0m\u001b[0m\n\u001b[1;32m     13\u001b[0m \u001b[0;34m\u001b[0m\u001b[0m\n\u001b[0;32m---> 14\u001b[0;31m \u001b[0mblinker\u001b[0m     \u001b[0;34m=\u001b[0m \u001b[0mshape\u001b[0m\u001b[0;34m(\u001b[0m\u001b[0;34m\"@@@\"\u001b[0m\u001b[0;34m)\u001b[0m\u001b[0;34m\u001b[0m\u001b[0m\n\u001b[0m\u001b[1;32m     15\u001b[0m \u001b[0mblock\u001b[0m       \u001b[0;34m=\u001b[0m \u001b[0mshape\u001b[0m\u001b[0;34m(\u001b[0m\u001b[0;34m\"@@\\n@@\"\u001b[0m\u001b[0;34m)\u001b[0m\u001b[0;34m\u001b[0m\u001b[0m\n\u001b[1;32m     16\u001b[0m \u001b[0mbeacon\u001b[0m      \u001b[0;34m=\u001b[0m \u001b[0mblock\u001b[0m \u001b[0;34m|\u001b[0m \u001b[0mmove\u001b[0m\u001b[0;34m(\u001b[0m\u001b[0mblock\u001b[0m\u001b[0;34m,\u001b[0m \u001b[0;34m(\u001b[0m\u001b[0;36m2\u001b[0m\u001b[0;34m,\u001b[0m \u001b[0;36m2\u001b[0m\u001b[0;34m)\u001b[0m\u001b[0;34m)\u001b[0m\u001b[0;34m\u001b[0m\u001b[0m\n",
      "\u001b[0;32m<ipython-input-3-5f4ad685dd38>\u001b[0m in \u001b[0;36mshape\u001b[0;34m(picture, offset)\u001b[0m\n\u001b[1;32m      2\u001b[0m     \u001b[0;34m\"Convert a graphical picture (e.g. '@ @ .\\n. @@') into a world (set of cells).\"\u001b[0m\u001b[0;34m\u001b[0m\u001b[0m\n\u001b[1;32m      3\u001b[0m     cells = {(x, y) \n\u001b[0;32m----> 4\u001b[0;31m              \u001b[0;32mfor\u001b[0m \u001b[0;34m(\u001b[0m\u001b[0my\u001b[0m\u001b[0;34m,\u001b[0m \u001b[0mrow\u001b[0m\u001b[0;34m)\u001b[0m \u001b[0;32min\u001b[0m \u001b[0menumerate\u001b[0m\u001b[0;34m(\u001b[0m\u001b[0mpicture\u001b[0m\u001b[0;34m.\u001b[0m\u001b[0msplitlines\u001b[0m\u001b[0;34m(\u001b[0m\u001b[0;34m)\u001b[0m\u001b[0;34m)\u001b[0m\u001b[0;34m\u001b[0m\u001b[0m\n\u001b[0m\u001b[1;32m      5\u001b[0m              \u001b[0;32mfor\u001b[0m \u001b[0;34m(\u001b[0m\u001b[0mx\u001b[0m\u001b[0;34m,\u001b[0m \u001b[0mc\u001b[0m\u001b[0;34m)\u001b[0m \u001b[0;32min\u001b[0m \u001b[0menumerate\u001b[0m\u001b[0;34m(\u001b[0m\u001b[0mrow\u001b[0m\u001b[0;34m.\u001b[0m\u001b[0mreplace\u001b[0m\u001b[0;34m(\u001b[0m\u001b[0mPAD\u001b[0m\u001b[0;34m,\u001b[0m \u001b[0;34m''\u001b[0m\u001b[0;34m)\u001b[0m\u001b[0;34m)\u001b[0m\u001b[0;34m\u001b[0m\u001b[0m\n\u001b[1;32m      6\u001b[0m              if c == LIVE}\n",
      "\u001b[0;32m<ipython-input-3-5f4ad685dd38>\u001b[0m in \u001b[0;36m<setcomp>\u001b[0;34m(.0)\u001b[0m\n\u001b[1;32m      3\u001b[0m     cells = {(x, y) \n\u001b[1;32m      4\u001b[0m              \u001b[0;32mfor\u001b[0m \u001b[0;34m(\u001b[0m\u001b[0my\u001b[0m\u001b[0;34m,\u001b[0m \u001b[0mrow\u001b[0m\u001b[0;34m)\u001b[0m \u001b[0;32min\u001b[0m \u001b[0menumerate\u001b[0m\u001b[0;34m(\u001b[0m\u001b[0mpicture\u001b[0m\u001b[0;34m.\u001b[0m\u001b[0msplitlines\u001b[0m\u001b[0;34m(\u001b[0m\u001b[0;34m)\u001b[0m\u001b[0;34m)\u001b[0m\u001b[0;34m\u001b[0m\u001b[0m\n\u001b[0;32m----> 5\u001b[0;31m              \u001b[0;32mfor\u001b[0m \u001b[0;34m(\u001b[0m\u001b[0mx\u001b[0m\u001b[0;34m,\u001b[0m \u001b[0mc\u001b[0m\u001b[0;34m)\u001b[0m \u001b[0;32min\u001b[0m \u001b[0menumerate\u001b[0m\u001b[0;34m(\u001b[0m\u001b[0mrow\u001b[0m\u001b[0;34m.\u001b[0m\u001b[0mreplace\u001b[0m\u001b[0;34m(\u001b[0m\u001b[0mPAD\u001b[0m\u001b[0;34m,\u001b[0m \u001b[0;34m''\u001b[0m\u001b[0;34m)\u001b[0m\u001b[0;34m)\u001b[0m\u001b[0;34m\u001b[0m\u001b[0m\n\u001b[0m\u001b[1;32m      6\u001b[0m              if c == LIVE}\n\u001b[1;32m      7\u001b[0m     \u001b[0;32mreturn\u001b[0m \u001b[0mmove\u001b[0m\u001b[0;34m(\u001b[0m\u001b[0mcells\u001b[0m\u001b[0;34m,\u001b[0m \u001b[0moffset\u001b[0m\u001b[0;34m)\u001b[0m\u001b[0;34m\u001b[0m\u001b[0m\n",
      "\u001b[0;31mNameError\u001b[0m: name 'PAD' is not defined"
     ]
    }
   ],
   "source": [
    "def shape(picture, offset=(3, 3)):\n",
    "    \"Convert a graphical picture (e.g. '@ @ .\\n. @@') into a world (set of cells).\"\n",
    "    cells = {(x, y) \n",
    "             for (y, row) in enumerate(picture.splitlines())\n",
    "             for (x, c) in enumerate(row.replace(PAD, ''))\n",
    "             if c == LIVE}\n",
    "    return move(cells, offset)\n",
    "\n",
    "def move(cells, offset):\n",
    "    \"Move/Translate/slide a set of cells by a (dx, dy) displacement/offset.\"\n",
    "    (dx, dy) = offset\n",
    "    return {(x+dx, y+dy) for (x, y) in cells}\n",
    "\n",
    "blinker     = shape(\"@@@\")\n",
    "block       = shape(\"@@\\n@@\")\n",
    "beacon      = block | move(block, (2, 2))\n",
    "toad        = shape(\".@@@\\n@@@.\")\n",
    "glider      = shape(\".@.\\n..@\\n@@@\")\n",
    "rpentomino  = shape(\".@@\\n@@.\\n.@.\", (36, 20))\n",
    "line        = shape(\".@@@@@@@@.@@@@@...@@@......@@@@@@@.@@@@@\", (10, 10))\n",
    "growth      = shape(\"@@@.@\\n@\\n...@@\\n.@@.@\\n@.@.@\", (10, 10))"
   ]
  },
  {
   "cell_type": "markdown",
   "metadata": {
    "run_control": {
     "frozen": false,
     "read_only": false
    }
   },
   "source": [
    "Here is how `shape` and `move` work:"
   ]
  },
  {
   "cell_type": "code",
   "execution_count": null,
   "metadata": {
    "collapsed": false,
    "run_control": {
     "frozen": false,
     "read_only": false
    }
   },
   "outputs": [],
   "source": [
    "shape(\"\"\"@ @ .\n",
    "         . @ @\"\"\")"
   ]
  },
  {
   "cell_type": "code",
   "execution_count": null,
   "metadata": {
    "collapsed": false,
    "run_control": {
     "frozen": false,
     "read_only": false
    }
   },
   "outputs": [],
   "source": [
    "block"
   ]
  },
  {
   "cell_type": "code",
   "execution_count": null,
   "metadata": {
    "collapsed": false,
    "run_control": {
     "frozen": false,
     "read_only": false
    }
   },
   "outputs": [],
   "source": [
    "move(block, (100, 200))"
   ]
  },
  {
   "cell_type": "markdown",
   "metadata": {
    "run_control": {
     "frozen": false,
     "read_only": false
    }
   },
   "source": [
    "Let's run some examples. If you are viewing a static notebook, you will only see the last generation; rerun each cell to see all the generations."
   ]
  },
  {
   "cell_type": "code",
   "execution_count": 2,
   "metadata": {
    "collapsed": false,
    "run_control": {
     "frozen": false,
     "read_only": false
    }
   },
   "outputs": [
    {
     "ename": "NameError",
     "evalue": "name 'display_run' is not defined",
     "output_type": "error",
     "traceback": [
      "\u001b[0;31m---------------------------------------------------------------------------\u001b[0m",
      "\u001b[0;31mNameError\u001b[0m                                 Traceback (most recent call last)",
      "\u001b[0;32m<ipython-input-2-024fc74be45e>\u001b[0m in \u001b[0;36m<module>\u001b[0;34m()\u001b[0m\n\u001b[0;32m----> 1\u001b[0;31m \u001b[0mdisplay_run\u001b[0m\u001b[0;34m(\u001b[0m\u001b[0mblinker\u001b[0m\u001b[0;34m)\u001b[0m\u001b[0;34m\u001b[0m\u001b[0m\n\u001b[0m",
      "\u001b[0;31mNameError\u001b[0m: name 'display_run' is not defined"
     ]
    }
   ],
   "source": [
    "display_run(blinker)"
   ]
  },
  {
   "cell_type": "code",
   "execution_count": null,
   "metadata": {
    "collapsed": false,
    "run_control": {
     "frozen": false,
     "read_only": false
    }
   },
   "outputs": [],
   "source": [
    "display_run(beacon)"
   ]
  },
  {
   "cell_type": "code",
   "execution_count": null,
   "metadata": {
    "collapsed": false,
    "run_control": {
     "frozen": false,
     "read_only": false
    }
   },
   "outputs": [],
   "source": [
    "display_run(toad)"
   ]
  },
  {
   "cell_type": "code",
   "execution_count": null,
   "metadata": {
    "collapsed": false,
    "run_control": {
     "frozen": false,
     "read_only": false
    }
   },
   "outputs": [],
   "source": [
    "display_run(glider, 15)"
   ]
  },
  {
   "cell_type": "code",
   "execution_count": null,
   "metadata": {
    "collapsed": false,
    "run_control": {
     "frozen": false,
     "read_only": false
    }
   },
   "outputs": [],
   "source": [
    "display_run(rpentomino, 130, range(55), range(40))"
   ]
  },
  {
   "cell_type": "code",
   "execution_count": 1,
   "metadata": {
    "collapsed": false,
    "run_control": {
     "frozen": false,
     "read_only": false
    }
   },
   "outputs": [
    {
     "ename": "NameError",
     "evalue": "name 'move' is not defined",
     "output_type": "error",
     "traceback": [
      "\u001b[0;31m---------------------------------------------------------------------------\u001b[0m",
      "\u001b[0;31mNameError\u001b[0m                                 Traceback (most recent call last)",
      "\u001b[0;32m<ipython-input-1-8225a21b9c0f>\u001b[0m in \u001b[0;36m<module>\u001b[0;34m()\u001b[0m\n\u001b[1;32m      1\u001b[0m zoo = (move(blinker, (5, 25)) | move(glider, (8, 13)) | move(blinker, (20, 25))  |\n\u001b[0;32m----> 2\u001b[0;31m        move(beacon, (24, 25)) | move(toad, (30, 25))  | move(block, (13, 25)) | move(block, (17, 33)))\n\u001b[0m\u001b[1;32m      3\u001b[0m \u001b[0;34m\u001b[0m\u001b[0m\n\u001b[1;32m      4\u001b[0m \u001b[0mdisplay_run\u001b[0m\u001b[0;34m(\u001b[0m\u001b[0mzoo\u001b[0m\u001b[0;34m,\u001b[0m \u001b[0;36m160\u001b[0m\u001b[0;34m,\u001b[0m \u001b[0mrange\u001b[0m\u001b[0;34m(\u001b[0m\u001b[0;36m50\u001b[0m\u001b[0;34m)\u001b[0m\u001b[0;34m,\u001b[0m \u001b[0mrange\u001b[0m\u001b[0;34m(\u001b[0m\u001b[0;36m40\u001b[0m\u001b[0;34m)\u001b[0m\u001b[0;34m)\u001b[0m\u001b[0;34m\u001b[0m\u001b[0m\n",
      "\u001b[0;31mNameError\u001b[0m: name 'move' is not defined"
     ]
    }
   ],
   "source": [
    "zoo = (move(blinker, (5, 25)) | move(glider, (8, 13)) | move(blinker, (20, 25))  |\n",
    "       move(beacon, (24, 25)) | move(toad, (30, 25))  | move(block, (13, 25)) | move(block, (17, 33)))\n",
    "\n",
    "display_run(zoo, 160, range(50), range(40))"
   ]
  },
  {
   "cell_type": "code",
   "execution_count": null,
   "metadata": {
    "collapsed": false,
    "run_control": {
     "frozen": false,
     "read_only": false
    }
   },
   "outputs": [],
   "source": [
    "display_run(growth, 100, range(40), range(40))"
   ]
  },
  {
   "cell_type": "markdown",
   "metadata": {
    "run_control": {
     "frozen": false,
     "read_only": false
    }
   },
   "source": [
    "# Outside of IPython\n",
    "\n",
    "If you want to run this code in your terminal, outside of an Ipython/Jupyter notebook, you can remove the line:\n",
    "\n",
    "    from IPython.display import clear_output, display_html\n",
    "    \n",
    "and add these lines:\n",
    "\n",
    "    def clear_output(): print(\"\\033[;H\\033[2J\") # ANSI terminal home and clear\n",
    "    \n",
    "    def display_html(text, raw=False): print(text)\n",
    "        \n",
    "    def pre(text): return text\n",
    "    \n",
    "# Coding Kata\n",
    "\n",
    "I once attended a [code kata](https://en.wikipedia.org/wiki/Kata_(programming%29) in which one of the exercises was to write the Game of Life without using any conditional (e.g. `if`) statements.  I did it by using roughly the program shown here, but changing the lone `if` to a `filter` in `next_generation`:"
   ]
  },
  {
   "cell_type": "code",
   "execution_count": null,
   "metadata": {
    "collapsed": false,
    "run_control": {
     "frozen": false,
     "read_only": false
    }
   },
   "outputs": [],
   "source": [
    "def next_generation(world):\n",
    "    \"The set of live cells in the next generation.\"\n",
    "    possible_cells = counts = neighbor_counts(world)\n",
    "    def good(cell): return counts[cell] == 3 or (counts[cell] == 2 and cell in world)\n",
    "    return set(filter(good, possible_cells))"
   ]
  }
 ],
 "metadata": {
  "kernelspec": {
   "display_name": "Python 3",
   "language": "python",
   "name": "python3"
  },
  "language_info": {
   "codemirror_mode": {
    "name": "ipython",
    "version": 3
   },
   "file_extension": ".py",
   "mimetype": "text/x-python",
   "name": "python",
   "nbconvert_exporter": "python",
   "pygments_lexer": "ipython3",
   "version": "3.6.0"
  }
 },
 "nbformat": 4,
 "nbformat_minor": 0
}
