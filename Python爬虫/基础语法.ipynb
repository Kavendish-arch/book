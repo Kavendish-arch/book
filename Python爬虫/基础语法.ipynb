{
 "cells": [
  {
   "cell_type": "code",
   "execution_count": 75,
   "metadata": {},
   "outputs": [
    {
     "name": "stdout",
     "output_type": "stream",
     "text": [
      "[1, 2, 3, 4]\n",
      "<list_iterator object at 0x0000026B79AF4630>\n"
     ]
    }
   ],
   "source": [
    "# 可迭代对象 迭代器 生成器\n",
    "l_data = [1,2,3,4]\n",
    "\n",
    "new_data = iter(l_data)\n",
    "\n",
    "def y_data():\n",
    "    l_data = [1,2,3,4]\n",
    "    for i in l_data:\n",
    "        yield i\n",
    "def x_data():\n",
    "    n = 0\n",
    "    while True:\n",
    "        n = n + 1\n",
    "        yield n\n",
    "print(l_data)\n",
    "print(new_data)\n",
    "ll_data = y_data()\n",
    "l2_data = x_data()"
   ]
  },
  {
   "cell_type": "code",
   "execution_count": null,
   "metadata": {},
   "outputs": [],
   "source": []
  },
  {
   "cell_type": "markdown",
   "metadata": {},
   "source": []
  },
  {
   "cell_type": "code",
   "execution_count": null,
   "metadata": {},
   "outputs": [],
   "source": []
  },
  {
   "cell_type": "code",
   "execution_count": 76,
   "metadata": {},
   "outputs": [],
   "source": [
    "# Python 多线程"
   ]
  },
  {
   "cell_type": "markdown",
   "metadata": {},
   "source": [
    "### 爬虫"
   ]
  },
  {
   "cell_type": "code",
   "execution_count": 85,
   "metadata": {},
   "outputs": [
    {
     "data": {
      "text/plain": [
       "'\\nres.text    文本方式\\nres.content 字节码/二进制方式\\nres.json()  json对象方式\\n'"
      ]
     },
     "execution_count": 85,
     "metadata": {},
     "output_type": "execute_result"
    }
   ],
   "source": [
    "\"\"\"\n",
    "    爬虫步骤\n",
    "    1. 构建请求头\n",
    "    2. 构建请求参数\n",
    "    3. 访问、请求\n",
    "\"\"\"\n",
    "import requests\n",
    "url = \"\"\n",
    "param = \"\"\n",
    "header = \"\"\n",
    "data = \"\"\n",
    "# res = requests.get(url=url, params=param, headers=header)\n",
    "# res_post = requests.post(url=url, data=data, headers=header)\n",
    "'''\n",
    "res.text    文本方式\n",
    "res.content 字节码/二进制方式\n",
    "res.json()  json对象方式\n",
    "'''"
   ]
  },
  {
   "cell_type": "code",
   "execution_count": null,
   "metadata": {},
   "outputs": [],
   "source": [
    "# 百度搜索爬取\n",
    "import requests\n",
    "url = \"https://www.baidu.com/s?\"\n",
    "header = {\n",
    "    \"User-Agent\": \"Mozilla/5.0 (Windows NT 10.0; Win64; x64) AppleWebKit/537.36 (KHTML, like Gecko) Chrome/96.0.4664.110 Safari/537.36\",\n",
    "}\n",
    "param = {\n",
    "    \"wd\":'万门大学',\n",
    "}\n",
    "res = requests.get(url=url,params=param, headers=header)\n",
    "\n",
    "# 爬取结果网页\n",
    "# 结果编码转换\n",
    "res.encoding = 'utf-8'\n",
    "# 转存到html文件中\n",
    "\n",
    "# 返回类型网页\n",
    "with open('wanmen.html','a') as add:\n",
    "    add.write(res.text)\n"
   ]
  },
  {
   "cell_type": "code",
   "execution_count": null,
   "metadata": {},
   "outputs": [],
   "source": []
  },
  {
   "cell_type": "code",
   "execution_count": null,
   "metadata": {},
   "outputs": [],
   "source": [
    "# 百度搜索\n",
    "# 头条新闻爬取\n",
    "# 百度翻译 搜狗翻译爬取\n",
    "# 百度图片下载\n",
    "# 互联网资讯爬取\n",
    "# 电影网站爬取\n",
    "# 中国证监会公告"
   ]
  },
  {
   "cell_type": "code",
   "execution_count": null,
   "metadata": {},
   "outputs": [],
   "source": [
    "\n",
    "def get_data_(url, param, header, file_name):\n",
    "    res = requests.get(url=url,params=param, headers=header)\n",
    "    # 结果保存\n",
    "    res.encoding = 'utf-8'\n",
    "    with open(file_name,'a') as add:\n",
    "        add.write(res.text)\n",
    "\n",
    "def post_data_(url, data, header, file_name):\n",
    "    res = requests.post(url=url, data=data, headers=header)\n",
    "    # 结果保存\n",
    "    res.encoding = 'utf-8'\n",
    "    # with open(file_name,'a') as add:\n",
    "        # add.write(res.text)\n",
    "    return res.json()['data']\n",
    "\n",
    "\n"
   ]
  },
  {
   "cell_type": "code",
   "execution_count": null,
   "metadata": {},
   "outputs": [],
   "source": [
    "# 百度查词工具 返回json 数据格式\n",
    "def baidu_fanyi(word):\n",
    "    url = 'https://fanyi.baidu.com/sug'\n",
    "    data = {\n",
    "    'kw': word\n",
    "    }\n",
    "    res = requests.post(url=url, data=data, headers=header)\n",
    "    res.encoding = 'utf-8'\n",
    "    return res.json()['data']\n",
    "\n",
    "result = baidu_fanyi('message')\n",
    "with open('dict.txt', 'a') as f:\n",
    "    for item in result:\n",
    "        f.write(item.get('k') + item.get('v') + '\\n')"
   ]
  },
  {
   "cell_type": "code",
   "execution_count": null,
   "metadata": {},
   "outputs": [
    {
     "data": {
      "text/plain": [
       "'message'"
      ]
     },
     "execution_count": 13,
     "metadata": {},
     "output_type": "execute_result"
    }
   ],
   "source": []
  },
  {
   "cell_type": "code",
   "execution_count": null,
   "metadata": {},
   "outputs": [],
   "source": []
  },
  {
   "cell_type": "code",
   "execution_count": null,
   "metadata": {},
   "outputs": [
    {
     "name": "stdout",
     "output_type": "stream",
     "text": [
      "download pic,0.6666666666666666%|100%download pic,1.0%|100%download pic,1.3333333333333333%|100%"
     ]
    }
   ],
   "source": [
    "# 百度图片批量下载\n",
    "\n",
    "def download_picture_from_baidu_pic(word,pn_start, rn_amount, img_list_text_name):\n",
    "    '''\n",
    "    @param\n",
    "    word 搜索关键词\n",
    "    img_list_text_name； 网址保存地方\n",
    "    '''\n",
    "    import requests\n",
    "    url = 'https://image.baidu.com/search/acjson?'\n",
    "    header = {\n",
    "        \"User-Agent\": \"Mozilla/5.0 (Windows NT 10.0; Win64; x64) AppleWebKit/537.36 (KHTML, like Gecko) Chrome/96.0.4664.110 Safari/537.36\"\n",
    "    }\n",
    "    param = {\n",
    "        \"tn\": \"resultjson_com\",\n",
    "        \"logid\": \"8033963566120117611\",\n",
    "        \"ipn\": \"rj\",\n",
    "        'ct': '201326592',\n",
    "        'is': '',\n",
    "        'fp': 'result',\n",
    "        'fr':'' ,\n",
    "        'word': word,\n",
    "        'queryWord': word,\n",
    "        'cl': '2',\n",
    "        'lm': '-1',\n",
    "        'ie': 'utf-8',\n",
    "        'oe': 'utf-8',\n",
    "        'adpicid':'',\n",
    "        'st': '-1',\n",
    "        'z': '',\n",
    "        'ic': '0',\n",
    "        'hd': '',\n",
    "        'latest': '',\n",
    "        'copyright': '',\n",
    "        's': '',\n",
    "        'se': '',\n",
    "        'tab': '',\n",
    "        'width': '',\n",
    "        'height': '',\n",
    "        'face': '0',\n",
    "        'istype': '2',\n",
    "        'qc': '',\n",
    "        'nc': '1',\n",
    "        'expermode': '',\n",
    "        'nojc': '',\n",
    "        'isAsync': '',\n",
    "        'pn': pn_start,\n",
    "        'rn': rn_amount,\n",
    "        \"gsm\": \"1e\",\n",
    "    }\n",
    "    res = requests.get(url=url, headers=header, params=param)\n",
    "    img_list = []\n",
    "    for i in res.json()['data']:\n",
    "        img_list.append(i.get('thumbURL')) \n",
    "    with open(img_list_text_name, 'a') as f:\n",
    "        for i in img_list:\n",
    "            if i is None:\n",
    "                continue\n",
    "            f.write(str(i)+'\\n')\n",
    "import time\n",
    "import sys\n",
    "for i in range(80, 200, 40):\n",
    "    sys.stdout.write('download pic,%s%%|100%%'%(i / (200 - 80)) )\n",
    "    sys.stdout.flush()\n",
    "    # download_picture_from_baidu_pic('狗',40, 40, 'dog.txt')\n",
    "    time.sleep(1)\n"
   ]
  },
  {
   "cell_type": "code",
   "execution_count": 86,
   "metadata": {},
   "outputs": [
    {
     "name": "stdout",
     "output_type": "stream",
     "text": [
      "正在下载......\n",
      "====================== 100%/100%\n",
      "下载完成\n"
     ]
    }
   ],
   "source": [
    "import sys, time\n",
    " \n",
    "print(\"正在下载......\")\n",
    "for i in range(11):\n",
    "    if i != 10:\n",
    "        sys.stdout.write(\"==\")\n",
    "    else:\n",
    "        sys.stdout.write(\"== \" + str(i*10)+\"%/100%\")\n",
    "    sys.stdout.flush()\n",
    "    time.sleep(0.2)\n",
    "print(\"\\n\" + \"下载完成\")"
   ]
  },
  {
   "cell_type": "code",
   "execution_count": 53,
   "metadata": {},
   "outputs": [
    {
     "data": {
      "text/plain": [
       "106740179"
      ]
     },
     "execution_count": 53,
     "metadata": {},
     "output_type": "execute_result"
    }
   ],
   "source": []
  },
  {
   "cell_type": "code",
   "execution_count": null,
   "metadata": {},
   "outputs": [],
   "source": []
  },
  {
   "cell_type": "code",
   "execution_count": 68,
   "metadata": {},
   "outputs": [],
   "source": [
    "img_list = []\n",
    "\n",
    "def read_text():\n",
    "    for line in open(\"dog.txt\", 'r'): \n",
    "        yield line\n",
    "for i in read_text():\n",
    "    img_list.append(i)\n"
   ]
  },
  {
   "cell_type": "code",
   "execution_count": 79,
   "metadata": {},
   "outputs": [
    {
     "data": {
      "text/plain": [
       "2000"
      ]
     },
     "execution_count": 79,
     "metadata": {},
     "output_type": "execute_result"
    }
   ],
   "source": [
    "len(img_list)"
   ]
  },
  {
   "cell_type": "code",
   "execution_count": 78,
   "metadata": {},
   "outputs": [],
   "source": [
    "# 下载图片函数\n",
    "def download_picture(img_link, pic_dir, pic_name):\n",
    "    import time\n",
    "    if img_link is None:\n",
    "        return\n",
    "    try:\n",
    "        img = requests.get(img_link).content\n",
    "        # 每次调用休息一秒\n",
    "        time.sleep(1)\n",
    "    except:\n",
    "        raise\n",
    "    with open(pic_dir + '/' + pic_name, 'wb') as f:\n",
    "        f.write(img)\n"
   ]
  },
  {
   "cell_type": "code",
   "execution_count": 89,
   "metadata": {},
   "outputs": [],
   "source": [
    "img_link = 'https://img1.baidu.com/it/u=1917248300,2850149299&fm=26&fmt=auto'\n",
    "download_picture(img_link,'images', 's.jpg')"
   ]
  },
  {
   "cell_type": "code",
   "execution_count": 83,
   "metadata": {},
   "outputs": [
    {
     "data": {
      "text/plain": [
       "110"
      ]
     },
     "execution_count": 83,
     "metadata": {},
     "output_type": "execute_result"
    }
   ],
   "source": [
    "len(status_pic)"
   ]
  },
  {
   "cell_type": "code",
   "execution_count": 84,
   "metadata": {},
   "outputs": [
    {
     "name": "stdout",
     "output_type": "stream",
     "text": [
      "https://img2.baidu.com/it/u=388919012,2587541943&fm=253&fmt=auto&app=138&f=JPEG?w=400&h=400\n",
      "\n"
     ]
    }
   ],
   "source": [
    "i = 0\n",
    "status_pic = []\n",
    "for img_link in img_list:\n",
    "    try:\n",
    "        if i in status_pic:\n",
    "            continue\n",
    "        else:\n",
    "            download_picture(img_link,pic_dir='images',pic_name='img%s.jpg'%str(i))\n",
    "            status_pic.append(i)\n",
    "        time.sleep(1)\n",
    "        i += 1\n",
    "    except:\n",
    "        print(img_link)\n",
    "        continue\n"
   ]
  },
  {
   "cell_type": "code",
   "execution_count": 82,
   "metadata": {},
   "outputs": [
    {
     "data": {
      "text/plain": [
       "2000"
      ]
     },
     "execution_count": 82,
     "metadata": {},
     "output_type": "execute_result"
    }
   ],
   "source": [
    "len(img_list)"
   ]
  },
  {
   "cell_type": "code",
   "execution_count": 47,
   "metadata": {},
   "outputs": [
    {
     "ename": "FileNotFoundError",
     "evalue": "[Errno 2] No such file or directory: 'images/img0.jpg'",
     "output_type": "error",
     "traceback": [
      "\u001b[1;31m---------------------------------------------------------------------------\u001b[0m",
      "\u001b[1;31mFileNotFoundError\u001b[0m                         Traceback (most recent call last)",
      "\u001b[1;32m<ipython-input-47-600416eb9af0>\u001b[0m in \u001b[0;36m<module>\u001b[1;34m\u001b[0m\n\u001b[1;32m----> 1\u001b[1;33m \u001b[1;32mwith\u001b[0m \u001b[0mopen\u001b[0m\u001b[1;33m(\u001b[0m\u001b[1;34m'images/img0.jpg'\u001b[0m\u001b[1;33m,\u001b[0m \u001b[1;34m'wb'\u001b[0m\u001b[1;33m)\u001b[0m \u001b[1;32mas\u001b[0m \u001b[0mimg\u001b[0m\u001b[1;33m:\u001b[0m\u001b[1;33m\u001b[0m\u001b[1;33m\u001b[0m\u001b[0m\n\u001b[0m\u001b[0;32m      2\u001b[0m     \u001b[0mimg\u001b[0m\u001b[1;33m.\u001b[0m\u001b[0mwrite\u001b[0m\u001b[1;33m(\u001b[0m\u001b[1;33m)\u001b[0m\u001b[1;33m\u001b[0m\u001b[1;33m\u001b[0m\u001b[0m\n",
      "\u001b[1;31mFileNotFoundError\u001b[0m: [Errno 2] No such file or directory: 'images/img0.jpg'"
     ]
    }
   ],
   "source": []
  },
  {
   "cell_type": "code",
   "execution_count": 44,
   "metadata": {},
   "outputs": [
    {
     "ename": "FileNotFoundError",
     "evalue": "[Errno 2] No such file or directory: 'images/img0.jpg'",
     "output_type": "error",
     "traceback": [
      "\u001b[1;31m---------------------------------------------------------------------------\u001b[0m",
      "\u001b[1;31mFileNotFoundError\u001b[0m                         Traceback (most recent call last)",
      "\u001b[1;32m<ipython-input-44-fb706aa2accd>\u001b[0m in \u001b[0;36masync-def-wrapper\u001b[1;34m()\u001b[0m\n\u001b[0;32m      9\u001b[0m         \u001b[0mim\u001b[0m\u001b[1;33m.\u001b[0m\u001b[0mwrite\u001b[0m\u001b[1;33m(\u001b[0m\u001b[0mimg\u001b[0m\u001b[1;33m)\u001b[0m\u001b[1;33m\u001b[0m\u001b[1;33m\u001b[0m\u001b[0m\n",
      "\u001b[1;31mFileNotFoundError\u001b[0m: [Errno 2] No such file or directory: 'images/img0.jpg'"
     ]
    }
   ],
   "source": [
    "# for i in img_list:\n",
    "#     img = requests.get(url=i).content\n",
    "#     name = str(i.split('/')[2].split('.')[0]) + '.jpg'\n",
    "#     with open('imges/'+ name, 'wb') as im:\n",
    "#         im.write(img)\n",
    "    img = requests.get(url=img_list[0]).content\n",
    "    name = str(img_list[0].split('/')[2].split('.')[0]) + '.jpg'\n",
    "    with open('images/'+ name, 'wb') as im:\n",
    "        im.write(img)\n"
   ]
  },
  {
   "cell_type": "code",
   "execution_count": 12,
   "metadata": {},
   "outputs": [],
   "source": [
    "# 今日头条爬取\n",
    "import requests\n",
    "param = {\n",
    "    \"dvpf\": \"pc\",\n",
    "    \"source\": \"input\",\n",
    "    \"keyword\": \"宁波\",\n",
    "    \"page_num\": \"0\",\n",
    "    \"pd\": \"synthesis\",\n",
    "}\n",
    "url = \"https://www.toutiao.com/api/search/content\"\n",
    "header = {\n",
    "    \"User-Agent\": \"Mozilla/5.0 (Windows NT 10.0; Win64; x64) AppleWebKit/537.36 (KHTML, like Gecko) Chrome/96.0.4664.110 Safari/537.36\",\n",
    "}\n",
    "\n",
    "get_data_(url=url, param=param, header=header, file_name=\"ningbo2.json\")\n"
   ]
  },
  {
   "cell_type": "code",
   "execution_count": 13,
   "metadata": {},
   "outputs": [],
   "source": [
    "url = \"https://www.toutiao.com/2/article/search_sug/?\"\n",
    "param = {\n",
    "    \"keyword\": \"百度\",\n",
    "    \"ps_type\": \"sug\",\n",
    "    \"aid\": \"4916\",\n",
    "    \"_signature\": \"_02B4Z6wo00101BJHw4QAAIDAkkU5x5lZ5NQSY8cAAGVIEsXK5zNxmyAWslA8frgWueF8ApzQAe-9y6nzV1hrO5VGoq3KvSKwzFbweoJjSmb3fMRzY91fnA19WyjM7CWcARoe0xXK92xthy9de6\",\n",
    "}\n",
    "header = {\n",
    "    \"User-Agent\": \"Mozilla/5.0 (Windows NT 10.0; Win64; x64) AppleWebKit/537.36 (KHTML, like Gecko) Chrome/96.0.4664.110 Safari/537.36\",\n",
    "}\n",
    "get_data_(url=url, param=param, header=header, file_name=\"baidu.json\")"
   ]
  },
  {
   "cell_type": "code",
   "execution_count": 9,
   "metadata": {},
   "outputs": [
    {
     "name": "stdout",
     "output_type": "stream",
     "text": [
      "None\n"
     ]
    }
   ],
   "source": [
    "print(res.json()['data'])"
   ]
  },
  {
   "cell_type": "code",
   "execution_count": 90,
   "metadata": {},
   "outputs": [],
   "source": [
    "from bs4 import BeautifulSoup\n",
    "\n",
    "with open('wanmen.html','r') as f:\n",
    "    content = f.read()\n",
    "\n",
    "soup = BeautifulSoup(content, \"lxml\")\n",
    "\n",
    "res_1 = soup.find_all(name='a')\n",
    "# print(res_1)"
   ]
  },
  {
   "cell_type": "code",
   "execution_count": null,
   "metadata": {},
   "outputs": [],
   "source": [
    "from lxml import etree"
   ]
  },
  {
   "cell_type": "code",
   "execution_count": null,
   "metadata": {},
   "outputs": [],
   "source": [
    "tree = etree.HTML(content)"
   ]
  },
  {
   "cell_type": "code",
   "execution_count": null,
   "metadata": {},
   "outputs": [],
   "source": [
    "tree"
   ]
  },
  {
   "cell_type": "code",
   "execution_count": null,
   "metadata": {},
   "outputs": [],
   "source": [
    "res_1 = tree.xpath('/html/head/title')\n",
    "print(type(res_1))\n",
    "for i in res_1:\n",
    "    print(i)"
   ]
  },
  {
   "cell_type": "code",
   "execution_count": null,
   "metadata": {},
   "outputs": [],
   "source": [
    "res_2 = tree.xpath('/ul/li')\n",
    "res_2"
   ]
  },
  {
   "cell_type": "code",
   "execution_count": null,
   "metadata": {},
   "outputs": [],
   "source": [
    "import requests\n",
    "url = \"https://www.taobao.com\"\n",
    "\n",
    "res = requests.get(url=url)\n",
    "res"
   ]
  },
  {
   "cell_type": "code",
   "execution_count": null,
   "metadata": {},
   "outputs": [],
   "source": [
    "with open('taobao.index.html','a') as h:\n",
    "    h.write(res.text)"
   ]
  },
  {
   "cell_type": "code",
   "execution_count": null,
   "metadata": {},
   "outputs": [],
   "source": [
    "import re\n",
    "\n",
    "patter1 = re.compile(r\"<a.*?></a>\")\n",
    "\n",
    "res_list = re.findall(pattern=patter1,string=res.text)\n"
   ]
  },
  {
   "cell_type": "code",
   "execution_count": null,
   "metadata": {},
   "outputs": [],
   "source": [
    "res_list"
   ]
  },
  {
   "cell_type": "code",
   "execution_count": null,
   "metadata": {},
   "outputs": [],
   "source": [
    "res_list"
   ]
  },
  {
   "cell_type": "code",
   "execution_count": null,
   "metadata": {},
   "outputs": [],
   "source": [
    "patter2 = '''<span class=\"cate_menu_line\">/</span>\\B<a target=\"_blank\" class=\"cate_menu_lk\" href=\".*?\">.*?</a>'''\n",
    "patter2_com = re.compile(pattern=patter2)\n"
   ]
  },
  {
   "cell_type": "code",
   "execution_count": 16,
   "metadata": {},
   "outputs": [
    {
     "name": "stdout",
     "output_type": "stream",
     "text": [
      "<Response [200]>\n"
     ]
    },
    {
     "name": "stderr",
     "output_type": "stream",
     "text": [
      "D:\\ProgramData\\Anaconda37\\envs\\newpy3\\lib\\site-packages\\urllib3\\connectionpool.py:1020: InsecureRequestWarning: Unverified HTTPS request is being made to host 'www.jd.com'. Adding certificate verification is strongly advised. See: https://urllib3.readthedocs.io/en/1.26.x/advanced-usage.html#ssl-warnings\n",
      "  InsecureRequestWarning,\n"
     ]
    }
   ],
   "source": [
    "# 获取京东的网页\n",
    "import requests\n",
    "\n",
    "url = \"https://www.jd.com\"\n",
    "header = {\n",
    "    \"User-Agent\": \"Mozilla/5.0 (Windows NT 10.0; Win64; x64) AppleWebKit/537.36 (KHTML, like Gecko) Chrome/96.0.4664.110 Safari/537.36\",\n",
    "    \"Connection\":\"close\",\n",
    "}\n",
    "param = {\n",
    "    \"cu\": \"true\",\n",
    "    \"utm_source\": \"baidu-pinzhuan\",\n",
    "    \"utm_medium\": \"cpc\",\n",
    "    \"utm_campaign\": \"t_288551095_baidupinzhuan\",\n",
    "    \"utm_term\": \"0f3d30c8dba7459bb52f2eb5eba8ac7d_0_5103fc07ca6a4d009ce5480127bd8c85\",\n",
    "}\n",
    "requests.adapters.DEFAULT_RETRIES = 5\n",
    "# s = requests.session()\n",
    "# s.keep_alive = False\n",
    "\n",
    "def get_html(url,header):\n",
    "    try:\n",
    "        jd_html = requests.get(url=url, headers=header, verify=False)\n",
    "    except:\n",
    "        jd_html = requests.get(url=url, headers=header, verify=False)\n",
    "    return jd_html\n",
    "\n",
    "print(get_html(url,header))"
   ]
  },
  {
   "cell_type": "code",
   "execution_count": 20,
   "metadata": {},
   "outputs": [],
   "source": [
    "# 保存获取到的京东主页\n",
    "# print(jd_html.text)\n",
    "with open('jd_index_2.html','a') as f:\n",
    "    f.write(jd_html.text)"
   ]
  },
  {
   "cell_type": "code",
   "execution_count": 3,
   "metadata": {},
   "outputs": [
    {
     "data": {
      "text/plain": [
       "'<a target=\"_blank\" class=\"cate_menu_lk\" href=\"//channel.jd.com/home.html\">家居</a>'"
      ]
     },
     "execution_count": 3,
     "metadata": {},
     "output_type": "execute_result"
    }
   ],
   "source": [
    "with open('jd_index_2.html','r') as f:\n",
    "    content = f.read()\n",
    "\n",
    "# import re\n",
    "# re.findall(pattern=patter2_com, string=content)\n",
    "\n",
    "# bs4 lxml 提取数据\n",
    "from bs4 import BeautifulSoup\n",
    "soup = BeautifulSoup(content, 'lxml')\n",
    "# soup.xpath('//*[@id=\"J_cate\"]/ul/li[4]/a[1]')\n",
    "list_a_menu = soup.find_all(name='a',attrs={'class':'cate_menu_lk'})\n",
    "\n",
    "'<a target=\"_blank\" class=\"cate_menu_lk\" href=\"//channel.jd.com/home.html\">家居</a>'"
   ]
  },
  {
   "cell_type": "code",
   "execution_count": 10,
   "metadata": {},
   "outputs": [
    {
     "name": "stdout",
     "output_type": "stream",
     "text": [
      "['家用电器'] ['jiadian.jd.com']\n",
      "['手机'] ['shouji.jd.com&#47;']\n",
      "['运营商'] ['wt.jd.com']\n",
      "['数码'] ['shuma.jd.com&#47;']\n",
      "['电脑'] ['diannao.jd.com&#47;']\n",
      "['办公'] ['bg.jd.com']\n",
      "['家居'] ['channel.jd.com&#47;home.html']\n",
      "['家具'] ['channel.jd.com&#47;furniture.html']\n",
      "['家装'] ['jzjc.jd.com&#47;']\n",
      "['厨具'] ['channel.jd.com&#47;kitchenware.html']\n",
      "['男装'] ['phat.jd.com&#47;10-603.html']\n",
      "['女装'] ['phat.jd.com&#47;10-507.html']\n",
      "['童装'] ['phat.jd.com&#47;10-156.html']\n",
      "['内衣'] ['channel.jd.com&#47;1315-1345.html']\n",
      "['美妆'] ['beauty.jd.com&#47;']\n",
      "['个护清洁'] ['channel.jd.com&#47;beauty.html']\n",
      "['宠物'] ['channel.jd.com&#47;pet.html']\n",
      "['女鞋'] ['phat.jd.com&#47;10-184.html']\n",
      "['箱包'] ['phat.jd.com&#47;10-183.html']\n",
      "['钟表'] ['pro.jd.com&#47;mall&#47;active&#47;2BcJPCVVzMEtMUynXkPscCSsx68W&#47;index.html']\n",
      "['珠宝'] ['channel.jd.com&#47;jewellery.html']\n",
      "['男鞋'] ['phat.jd.com&#47;10-185.html']\n",
      "['运动'] ['phat.jd.com&#47;10-109.html']\n",
      "['户外'] ['phat.jd.com&#47;10-272.html']\n",
      "['房产'] ['xinfang.jd.com&#47;']\n",
      "['汽车'] ['car.jd.com&#47;']\n",
      "['汽车用品'] ['che.jd.com&#47;']\n",
      "['母婴'] ['baby.jd.com']\n",
      "['玩具乐器'] ['toy.jd.com&#47;']\n",
      "['食品'] ['food.jd.com&#47;']\n",
      "['酒类'] ['jiu.jd.com']\n",
      "['生鲜'] ['fresh.jd.com']\n",
      "['特产'] ['china.jd.com']\n",
      "['艺术'] ['art.jd.com']\n",
      "['礼品鲜花'] ['channel.jd.com&#47;1672-2599.html']\n",
      "['农资绿植'] ['nong.jd.com']\n",
      "['医药保健'] ['health.jd.com']\n",
      "['计生情趣'] ['channel.jd.com&#47;9192-9196.html']\n",
      "['图书'] ['book.jd.com&#47;']\n",
      "['文娱'] ['mvd.jd.com&#47;']\n",
      "['教育'] ['education.jd.com']\n",
      "['电子书'] ['e.jd.com&#47;ebook.html']\n",
      "['机票'] ['jipiao.jd.com&#47;']\n",
      "['酒店'] ['hotel.jd.com&#47;']\n",
      "['旅游'] ['trip.jd.com&#47;']\n",
      "['生活'] ['ish.jd.com&#47;']\n",
      "['理财'] ['licai.jd.com&#47;']\n",
      "['众筹'] ['pro.jd.com&#47;mall&#47;active&#47;4EYjXQ6xjnM9TgeSjuMRE8ACEk6q&#47;index.html']\n",
      "['白条'] ['baitiao.jd.com']\n",
      "['保险'] ['bao.jd.com&#47;']\n",
      "['安装'] ['anzhuang.jd.com']\n",
      "['维修'] ['jdwx.jd.com']\n",
      "['清洗'] ['cleanclean.jd.com']\n",
      "['二手'] ['2.jd.com&#47;']\n",
      "['工业品'] ['mro.jd.com&#47;']\n"
     ]
    }
   ],
   "source": [
    "import re\n",
    "patt3_com = re.compile(r'''<li clstag=\".*\" class=\"fore6\"><a class=\"navitems-lk\" target=\"_blank\" href=\".*\" aria-lable=\".*\">.*</a></li>''')\n",
    "s = '<a target=\"_blank\" class=\"cate_menu_lk\" href=\".*\">(.*)</a>'\n",
    "patt_menu_a = re.compile(r'(?:<a.*target=\"_blank\".*class=\"cate_menu_lk\".*href=\").*(?:\">).*(?:</a>)')\n",
    "patt4_k = re.compile(r'(?:\">)(.*)(?:<.*)')\n",
    "patt4_v = re.compile(r'(?:href=\"//)(.*)(?:\">)')\n",
    "\n",
    "menu_list = []\n",
    "\n",
    "for i in re.findall(pattern=patt_menu_a, string=content):\n",
    "    k = re.findall(pattern=patt4_k, string=i)\n",
    "    v = re.findall(pattern=patt4_v, string=i)\n",
    "    print(k,v)"
   ]
  },
  {
   "cell_type": "code",
   "execution_count": 5,
   "metadata": {},
   "outputs": [
    {
     "data": {
      "text/plain": [
       "[{'家用电器': '//jiadian.jd.com'},\n",
       " {'手机': '//shouji.jd.com&#47;'},\n",
       " {'运营商': '//wt.jd.com'},\n",
       " {'数码': '//shuma.jd.com&#47;'},\n",
       " {'电脑': '//diannao.jd.com&#47;'},\n",
       " {'办公': '//bg.jd.com'},\n",
       " {'家居': '//channel.jd.com&#47;home.html'},\n",
       " {'家具': '//channel.jd.com&#47;furniture.html'},\n",
       " {'家装': '//jzjc.jd.com&#47;'},\n",
       " {'厨具': '//channel.jd.com&#47;kitchenware.html'},\n",
       " {'男装': '//phat.jd.com&#47;10-603.html'},\n",
       " {'女装': '//phat.jd.com&#47;10-507.html'},\n",
       " {'童装': '//phat.jd.com&#47;10-156.html'},\n",
       " {'内衣': '//channel.jd.com&#47;1315-1345.html'},\n",
       " {'美妆': '//beauty.jd.com&#47;'},\n",
       " {'个护清洁': '//channel.jd.com&#47;beauty.html'},\n",
       " {'宠物': '//channel.jd.com&#47;pet.html'},\n",
       " {'女鞋': '//phat.jd.com&#47;10-184.html'},\n",
       " {'箱包': '//phat.jd.com&#47;10-183.html'},\n",
       " {'钟表': '//pro.jd.com&#47;mall&#47;active&#47;2BcJPCVVzMEtMUynXkPscCSsx68W&#47;index.html'},\n",
       " {'珠宝': '//channel.jd.com&#47;jewellery.html'},\n",
       " {'男鞋': '//phat.jd.com&#47;10-185.html'},\n",
       " {'运动': '//phat.jd.com&#47;10-109.html'},\n",
       " {'户外': '//phat.jd.com&#47;10-272.html'},\n",
       " {'房产': '//xinfang.jd.com&#47;'},\n",
       " {'汽车': '//car.jd.com&#47;'},\n",
       " {'汽车用品': '//che.jd.com&#47;'},\n",
       " {'母婴': '//baby.jd.com'},\n",
       " {'玩具乐器': '//toy.jd.com&#47;'},\n",
       " {'食品': '//food.jd.com&#47;'},\n",
       " {'酒类': '//jiu.jd.com'},\n",
       " {'生鲜': '//fresh.jd.com'},\n",
       " {'特产': '//china.jd.com'},\n",
       " {'艺术': '//art.jd.com'},\n",
       " {'礼品鲜花': '//channel.jd.com&#47;1672-2599.html'},\n",
       " {'农资绿植': '//nong.jd.com'},\n",
       " {'医药保健': '//health.jd.com'},\n",
       " {'计生情趣': '//channel.jd.com&#47;9192-9196.html'},\n",
       " {'图书': '//book.jd.com&#47;'},\n",
       " {'文娱': '//mvd.jd.com&#47;'},\n",
       " {'教育': '//education.jd.com'},\n",
       " {'电子书': '//e.jd.com&#47;ebook.html'},\n",
       " {'机票': '//jipiao.jd.com&#47;'},\n",
       " {'酒店': '//hotel.jd.com&#47;'},\n",
       " {'旅游': '//trip.jd.com&#47;'},\n",
       " {'生活': '//ish.jd.com&#47;'},\n",
       " {'理财': '//licai.jd.com&#47;'},\n",
       " {'众筹': '//pro.jd.com&#47;mall&#47;active&#47;4EYjXQ6xjnM9TgeSjuMRE8ACEk6q&#47;index.html'},\n",
       " {'白条': '//baitiao.jd.com'},\n",
       " {'保险': '//bao.jd.com&#47;'},\n",
       " {'安装': '//anzhuang.jd.com'},\n",
       " {'维修': '//jdwx.jd.com'},\n",
       " {'清洗': '//cleanclean.jd.com'},\n",
       " {'二手': '//2.jd.com&#47;'},\n",
       " {'工业品': '//mro.jd.com&#47;'}]"
      ]
     },
     "execution_count": 5,
     "metadata": {},
     "output_type": "execute_result"
    }
   ],
   "source": []
  },
  {
   "cell_type": "code",
   "execution_count": 92,
   "metadata": {},
   "outputs": [],
   "source": [
    "import sqlite3\n",
    "\n",
    "conn = sqlite3.connect('jd')\n",
    "c = conn.cursor()\n",
    "c.execute(' CREATE TABLE menu (id, title, url)')\n",
    "conn.commit()\n",
    "conn.close()\n",
    "# menu_list"
   ]
  },
  {
   "cell_type": "code",
   "execution_count": 52,
   "metadata": {},
   "outputs": [],
   "source": [
    "with open('menu_kev_tmp2.txt', 'a') as f:\n",
    "    for i in menu_list:\n",
    "        f.write(str(i) + '\\n')"
   ]
  },
  {
   "cell_type": "code",
   "execution_count": 58,
   "metadata": {},
   "outputs": [
    {
     "data": {
      "text/plain": [
       "[[['家用电器'], ['//jiadian.jd.com']],\n",
       " [['手机'], ['//shouji.jd.com&#47;']],\n",
       " [['运营商'], ['//wt.jd.com']],\n",
       " [['数码'], ['//shuma.jd.com&#47;']],\n",
       " [['电脑'], ['//diannao.jd.com&#47;']],\n",
       " [['办公'], ['//bg.jd.com']],\n",
       " [['家居'], ['//channel.jd.com&#47;home.html']],\n",
       " [['家具'], ['//channel.jd.com&#47;furniture.html']],\n",
       " [['家装'], ['//jzjc.jd.com&#47;']],\n",
       " [['厨具'], ['//channel.jd.com&#47;kitchenware.html']],\n",
       " [['男装'], ['//phat.jd.com&#47;10-603.html']],\n",
       " [['女装'], ['//phat.jd.com&#47;10-507.html']],\n",
       " [['童装'], ['//phat.jd.com&#47;10-156.html']],\n",
       " [['内衣'], ['//channel.jd.com&#47;1315-1345.html']],\n",
       " [['美妆'], ['//beauty.jd.com&#47;']],\n",
       " [['个护清洁'], ['//channel.jd.com&#47;beauty.html']],\n",
       " [['宠物'], ['//channel.jd.com&#47;pet.html']],\n",
       " [['女鞋'], ['//phat.jd.com&#47;10-184.html']],\n",
       " [['箱包'], ['//phat.jd.com&#47;10-183.html']],\n",
       " [['钟表'],\n",
       "  ['//pro.jd.com&#47;mall&#47;active&#47;2BcJPCVVzMEtMUynXkPscCSsx68W&#47;index.html']],\n",
       " [['珠宝'], ['//channel.jd.com&#47;jewellery.html']],\n",
       " [['男鞋'], ['//phat.jd.com&#47;10-185.html']],\n",
       " [['运动'], ['//phat.jd.com&#47;10-109.html']],\n",
       " [['户外'], ['//phat.jd.com&#47;10-272.html']],\n",
       " [['房产'], ['//xinfang.jd.com&#47;']],\n",
       " [['汽车'], ['//car.jd.com&#47;']],\n",
       " [['汽车用品'], ['//che.jd.com&#47;']],\n",
       " [['母婴'], ['//baby.jd.com']],\n",
       " [['玩具乐器'], ['//toy.jd.com&#47;']],\n",
       " [['食品'], ['//food.jd.com&#47;']],\n",
       " [['酒类'], ['//jiu.jd.com']],\n",
       " [['生鲜'], ['//fresh.jd.com']],\n",
       " [['特产'], ['//china.jd.com']],\n",
       " [['艺术'], ['//art.jd.com']],\n",
       " [['礼品鲜花'], ['//channel.jd.com&#47;1672-2599.html']],\n",
       " [['农资绿植'], ['//nong.jd.com']],\n",
       " [['医药保健'], ['//health.jd.com']],\n",
       " [['计生情趣'], ['//channel.jd.com&#47;9192-9196.html']],\n",
       " [['图书'], ['//book.jd.com&#47;']],\n",
       " [['文娱'], ['//mvd.jd.com&#47;']],\n",
       " [['教育'], ['//education.jd.com']],\n",
       " [['电子书'], ['//e.jd.com&#47;ebook.html']],\n",
       " [['机票'], ['//jipiao.jd.com&#47;']],\n",
       " [['酒店'], ['//hotel.jd.com&#47;']],\n",
       " [['旅游'], ['//trip.jd.com&#47;']],\n",
       " [['生活'], ['//ish.jd.com&#47;']],\n",
       " [['理财'], ['//licai.jd.com&#47;']],\n",
       " [['众筹'],\n",
       "  ['//pro.jd.com&#47;mall&#47;active&#47;4EYjXQ6xjnM9TgeSjuMRE8ACEk6q&#47;index.html']],\n",
       " [['白条'], ['//baitiao.jd.com']],\n",
       " [['保险'], ['//bao.jd.com&#47;']],\n",
       " [['安装'], ['//anzhuang.jd.com']],\n",
       " [['维修'], ['//jdwx.jd.com']],\n",
       " [['清洗'], ['//cleanclean.jd.com']],\n",
       " [['二手'], ['//2.jd.com&#47;']],\n",
       " [['工业品'], ['//mro.jd.com&#47;']]]"
      ]
     },
     "execution_count": 58,
     "metadata": {},
     "output_type": "execute_result"
    }
   ],
   "source": [
    "menu_list"
   ]
  },
  {
   "cell_type": "code",
   "execution_count": 29,
   "metadata": {},
   "outputs": [],
   "source": [
    "with open('menu_a_tmp_1.txt', 'a') as f:\n",
    "    for i in list_a_menu:\n",
    "        f.write(str(i) + '\\n')"
   ]
  },
  {
   "cell_type": "code",
   "execution_count": null,
   "metadata": {},
   "outputs": [],
   "source": [
    "re.findall(pattern=patt3_com, string=content, flags=re.S)"
   ]
  },
  {
   "cell_type": "code",
   "execution_count": null,
   "metadata": {},
   "outputs": [],
   "source": [
    "pat4 = re.compile(r'<a target=\"_blank\" class=\"cate_menu_lk\" href=\".*?\">.*?</a>')\n",
    "cate_mune_lk = re.findall(pattern=pat4, string=content)\n",
    "len(cate_mune_lk)\n"
   ]
  },
  {
   "cell_type": "code",
   "execution_count": null,
   "metadata": {},
   "outputs": [],
   "source": [
    "pat4 = re.compile(r'<a.*?>.*?</a>')\n",
    "\n",
    "re.findall(pattern=pat4, string=content)"
   ]
  },
  {
   "cell_type": "code",
   "execution_count": null,
   "metadata": {},
   "outputs": [],
   "source": [
    "\n",
    "def get_data(file_name, div_name:str, attr:dict):\n",
    "    from bs4 import BeautifulSoup\n",
    "    with open(file_name, 'r') as f:\n",
    "        content = f.read()\n",
    "    soup = BeautifulSoup(content, 'lxml')\n",
    "    info = soup.find_all(name=div_name, attrs=attr)\n",
    "    return info"
   ]
  },
  {
   "cell_type": "code",
   "execution_count": null,
   "metadata": {},
   "outputs": [],
   "source": [
    "info = get_data('jd.index.html','a', {\"class\": \"cate_menu_lk\"})"
   ]
  },
  {
   "cell_type": "code",
   "execution_count": null,
   "metadata": {},
   "outputs": [],
   "source": [
    "# <div class=\"goods-item goods-item--nomargin\" style=\"padding: 15px;\"><div class=\"goods-item__cover\" style=\"height: 160px;\"><img class=\"goods-item__img\" src=\"//img14.360buyimg.com/babel/s320x320_jfs/t1/205028/39/20182/161787/61cd72ffEfb026795/2ab877ef3a48cdf9.jpg!cc_320x320.webp\" style=\"width: 160px; height: 160px;\"></div><div class=\"goods-item__info\"><div class=\"goods-item__title goods-item__title--twoline\" style=\"color: rgb(0, 0, 0);\">荣耀 Magic3 至臻版 多主摄计算摄影 骁龙888Plus 6.76英寸超曲屏 纳米微晶面板 12GB+512GB 陶瓷黑</div><div class=\"goods-item__content\"><div class=\"goods-item__price\" style=\"color: rgb(240, 43, 43);\">￥6999.00</div></div></div></div>\n",
    "\n",
    "\n",
    "info = get_data('jd.phone.html','div', {'class':'goods-tem goods-item--nomargin'})\n",
    "for li in info:\n",
    "    print(li)\n",
    "    print('*'*20)"
   ]
  },
  {
   "cell_type": "code",
   "execution_count": null,
   "metadata": {},
   "outputs": [],
   "source": [
    "# sqlite3 单线程\n",
    "import sqlite3\n",
    "\n",
    "conn = sqlite3.connect('my_data.db')\n",
    "c = conn.cursor()\n",
    "c.execute('CREATE TABLE info (id, tab, url)')\n",
    "id = \"1\"\n",
    "tab = \"线上商超\"\n",
    "url = \"http://www.jd.com\"\n",
    "c.execute('INSERT INTO info VALUES(\"%s\",\"%s\",\"%s\")'%(id, tab, url))\n",
    "conn.commit()\n"
   ]
  },
  {
   "cell_type": "code",
   "execution_count": null,
   "metadata": {},
   "outputs": [],
   "source": [
    "\n",
    "# sqlite3 单线程\n",
    "import sqlite3\n",
    "\n",
    "conn = sqlite3.connect('my_data.db')\n",
    "c = conn.cursor()\n",
    "res = c.execute('SELECT * FROM info')\n",
    "\n",
    "print(res.__next__())"
   ]
  },
  {
   "cell_type": "code",
   "execution_count": null,
   "metadata": {},
   "outputs": [],
   "source": [
    "total = [1,2,3,4,5,6,7,8]\n",
    "\n",
    "def task_distribute(total):\n",
    "    t1 = total[:int(len(total)/2)]\n",
    "    t2 = total[int(len(total)/2):]\n",
    "    return (t1,t2)\n",
    "\n",
    "task_distribute(total)\n"
   ]
  },
  {
   "cell_type": "code",
   "execution_count": null,
   "metadata": {},
   "outputs": [],
   "source": [
    "import re\n",
    "\n",
    "pat5 = re.compile(r'(?:href=\")(.*?)(?:\")')\n",
    "pat5_key = re.compile(r'(?:>)(.*?)(?:<)')\n",
    "# for i in cate_mune_lk:\n",
    "\n",
    "value = re.findall(pattern=pat5, string=cate_mune_lk[0]) \n",
    "key = re.findall(pattern=pat5_key, string=cate_mune_lk[0]) \n",
    "print(key.pop(), value.pop())"
   ]
  },
  {
   "cell_type": "code",
   "execution_count": 1,
   "metadata": {},
   "outputs": [
    {
     "name": "stdout",
     "output_type": "stream",
     "text": [
      "['False', 'None', 'True', 'and', 'as', 'assert', 'break', 'class', 'continue', 'def', 'del', 'elif', 'else', 'except', 'finally', 'for', 'from', 'global', 'if', 'import', 'in', 'is', 'lambda', 'nonlocal', 'not', 'or', 'pass', 'raise', 'return', 'try', 'while', 'with', 'yield']\n"
     ]
    }
   ],
   "source": [
    "import keyword\n",
    "\n",
    "print(keyword.kwlist)"
   ]
  },
  {
   "cell_type": "code",
   "execution_count": 29,
   "metadata": {},
   "outputs": [],
   "source": [
    "# excel 操作\n",
    "\n",
    "from openpyxl import load_workbook, Workbook\n",
    "wb = Workbook()\n",
    "ws = wb.create_sheet('city')\n",
    "ws.append(['name','city'])\n",
    "wb.save(\"city.xlsx\")"
   ]
  },
  {
   "cell_type": "code",
   "execution_count": null,
   "metadata": {},
   "outputs": [],
   "source": [
    "wb = load_workbook('city.xlsx')\n",
    "ws = wb['city']\n"
   ]
  }
 ],
 "metadata": {
  "interpreter": {
   "hash": "23438c0a383b21e5925825422837624217041df97599b654a1dabc03955a8e33"
  },
  "kernelspec": {
   "display_name": "Python 3.6.2 64-bit ('newpy3': conda)",
   "language": "python",
   "name": "python3"
  },
  "language_info": {
   "codemirror_mode": {
    "name": "ipython",
    "version": 3
   },
   "file_extension": ".py",
   "mimetype": "text/x-python",
   "name": "python",
   "nbconvert_exporter": "python",
   "pygments_lexer": "ipython3",
   "version": "3.6.13"
  },
  "orig_nbformat": 4
 },
 "nbformat": 4,
 "nbformat_minor": 2
}
